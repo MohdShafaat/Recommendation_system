{
  "metadata": {
    "kernelspec": {
      "display_name": "Python 3",
      "language": "python",
      "name": "python3"
    },
    "language_info": {
      "name": "python",
      "version": "3.10.12",
      "mimetype": "text/x-python",
      "codemirror_mode": {
        "name": "ipython",
        "version": 3
      },
      "pygments_lexer": "ipython3",
      "nbconvert_exporter": "python",
      "file_extension": ".py"
    },
    "kaggle": {
      "accelerator": "gpu",
      "dataSources": [
        {
          "sourceId": 1015349,
          "sourceType": "datasetVersion",
          "datasetId": 426888
        }
      ],
      "dockerImageVersionId": 30527,
      "isInternetEnabled": true,
      "language": "python",
      "sourceType": "notebook",
      "isGpuEnabled": true
    },
    "colab": {
      "provenance": []
    }
  },
  "nbformat_minor": 0,
  "nbformat": 4,
  "cells": [
    {
      "cell_type": "markdown",
      "source": [
        "# Libraries"
      ],
      "metadata": {
        "id": "RqIjo67XUxLR"
      }
    },
    {
      "cell_type": "code",
      "source": [
        "import numpy as np\n",
        "import pandas as pd\n",
        "import matplotlib.pyplot as plt\n",
        "import tensorflow as tf\n",
        "import os, random\n",
        "import plotly.express as px\n",
        "import seaborn as sns\n",
        "from sklearn.preprocessing import LabelEncoder\n",
        "from wordcloud import WordCloud\n",
        "import time\n",
        "from tensorflow import keras\n",
        "from sklearn.preprocessing import StandardScaler, MinMaxScaler\n",
        "from sklearn.model_selection import train_test_split\n",
        "from sklearn.preprocessing import LabelEncoder\n",
        "import sklearn.metrics\n",
        "from tensorflow import keras\n",
        "from tensorflow.keras import optimizers\n",
        "from tensorflow.keras.callbacks import ModelCheckpoint, TensorBoard\n",
        "\n",
        "input_path = '/kaggle/input/ecommerce-events-history-in-cosmetics-shop'\n",
        "for dirname, _, filenames in os.walk(input_path):\n",
        "    for filename in filenames:\n",
        "        print(os.path.join(dirname, filename))"
      ],
      "metadata": {
        "_cell_guid": "b1076dfc-b9ad-4769-8c92-a6c4dae69d19",
        "_uuid": "8f2839f25d086af736a60e9eeb907d3b93b6e0e5",
        "execution": {
          "iopub.status.busy": "2024-07-11T14:56:25.517440Z",
          "iopub.execute_input": "2024-07-11T14:56:25.517750Z",
          "iopub.status.idle": "2024-07-11T14:56:35.961416Z",
          "shell.execute_reply.started": "2024-07-11T14:56:25.517722Z",
          "shell.execute_reply": "2024-07-11T14:56:35.960464Z"
        },
        "trusted": true,
        "id": "EvrES98FUxLV"
      },
      "execution_count": 1,
      "outputs": []
    },
    {
      "cell_type": "markdown",
      "source": [
        "# Data overview"
      ],
      "metadata": {
        "id": "aAiVwJsaUxLa"
      }
    },
    {
      "cell_type": "code",
      "source": [
        "import keras\n",
        "print(tf.__version__)\n",
        "print(keras.__version__)\n"
      ],
      "metadata": {
        "execution": {
          "iopub.status.busy": "2024-07-11T14:56:35.963473Z",
          "iopub.execute_input": "2024-07-11T14:56:35.964200Z",
          "iopub.status.idle": "2024-07-11T14:56:35.969409Z",
          "shell.execute_reply.started": "2024-07-11T14:56:35.964160Z",
          "shell.execute_reply": "2024-07-11T14:56:35.968136Z"
        },
        "trusted": true,
        "colab": {
          "base_uri": "https://localhost:8080/"
        },
        "id": "LrtHdUQgUxLa",
        "outputId": "b3d27fba-0d2c-49d8-b203-a0db0ba6d248"
      },
      "execution_count": 2,
      "outputs": [
        {
          "output_type": "stream",
          "name": "stdout",
          "text": [
            "2.17.0\n",
            "3.4.1\n"
          ]
        }
      ]
    },
    {
      "cell_type": "code",
      "source": [
        "from google.colab import files\n",
        "uploaded = files.upload()"
      ],
      "metadata": {
        "colab": {
          "base_uri": "https://localhost:8080/",
          "height": 38
        },
        "id": "-IZppJyVWAd0",
        "outputId": "a8898e4b-eea1-4c14-86a4-1adb518dfe02"
      },
      "execution_count": null,
      "outputs": [
        {
          "output_type": "display_data",
          "data": {
            "text/plain": [
              "<IPython.core.display.HTML object>"
            ],
            "text/html": [
              "\n",
              "     <input type=\"file\" id=\"files-176ba6bd-2fd4-4d06-b15e-17e287f3fade\" name=\"files[]\" multiple disabled\n",
              "        style=\"border:none\" />\n",
              "     <output id=\"result-176ba6bd-2fd4-4d06-b15e-17e287f3fade\">\n",
              "      Upload widget is only available when the cell has been executed in the\n",
              "      current browser session. Please rerun this cell to enable.\n",
              "      </output>\n",
              "      <script>// Copyright 2017 Google LLC\n",
              "//\n",
              "// Licensed under the Apache License, Version 2.0 (the \"License\");\n",
              "// you may not use this file except in compliance with the License.\n",
              "// You may obtain a copy of the License at\n",
              "//\n",
              "//      http://www.apache.org/licenses/LICENSE-2.0\n",
              "//\n",
              "// Unless required by applicable law or agreed to in writing, software\n",
              "// distributed under the License is distributed on an \"AS IS\" BASIS,\n",
              "// WITHOUT WARRANTIES OR CONDITIONS OF ANY KIND, either express or implied.\n",
              "// See the License for the specific language governing permissions and\n",
              "// limitations under the License.\n",
              "\n",
              "/**\n",
              " * @fileoverview Helpers for google.colab Python module.\n",
              " */\n",
              "(function(scope) {\n",
              "function span(text, styleAttributes = {}) {\n",
              "  const element = document.createElement('span');\n",
              "  element.textContent = text;\n",
              "  for (const key of Object.keys(styleAttributes)) {\n",
              "    element.style[key] = styleAttributes[key];\n",
              "  }\n",
              "  return element;\n",
              "}\n",
              "\n",
              "// Max number of bytes which will be uploaded at a time.\n",
              "const MAX_PAYLOAD_SIZE = 100 * 1024;\n",
              "\n",
              "function _uploadFiles(inputId, outputId) {\n",
              "  const steps = uploadFilesStep(inputId, outputId);\n",
              "  const outputElement = document.getElementById(outputId);\n",
              "  // Cache steps on the outputElement to make it available for the next call\n",
              "  // to uploadFilesContinue from Python.\n",
              "  outputElement.steps = steps;\n",
              "\n",
              "  return _uploadFilesContinue(outputId);\n",
              "}\n",
              "\n",
              "// This is roughly an async generator (not supported in the browser yet),\n",
              "// where there are multiple asynchronous steps and the Python side is going\n",
              "// to poll for completion of each step.\n",
              "// This uses a Promise to block the python side on completion of each step,\n",
              "// then passes the result of the previous step as the input to the next step.\n",
              "function _uploadFilesContinue(outputId) {\n",
              "  const outputElement = document.getElementById(outputId);\n",
              "  const steps = outputElement.steps;\n",
              "\n",
              "  const next = steps.next(outputElement.lastPromiseValue);\n",
              "  return Promise.resolve(next.value.promise).then((value) => {\n",
              "    // Cache the last promise value to make it available to the next\n",
              "    // step of the generator.\n",
              "    outputElement.lastPromiseValue = value;\n",
              "    return next.value.response;\n",
              "  });\n",
              "}\n",
              "\n",
              "/**\n",
              " * Generator function which is called between each async step of the upload\n",
              " * process.\n",
              " * @param {string} inputId Element ID of the input file picker element.\n",
              " * @param {string} outputId Element ID of the output display.\n",
              " * @return {!Iterable<!Object>} Iterable of next steps.\n",
              " */\n",
              "function* uploadFilesStep(inputId, outputId) {\n",
              "  const inputElement = document.getElementById(inputId);\n",
              "  inputElement.disabled = false;\n",
              "\n",
              "  const outputElement = document.getElementById(outputId);\n",
              "  outputElement.innerHTML = '';\n",
              "\n",
              "  const pickedPromise = new Promise((resolve) => {\n",
              "    inputElement.addEventListener('change', (e) => {\n",
              "      resolve(e.target.files);\n",
              "    });\n",
              "  });\n",
              "\n",
              "  const cancel = document.createElement('button');\n",
              "  inputElement.parentElement.appendChild(cancel);\n",
              "  cancel.textContent = 'Cancel upload';\n",
              "  const cancelPromise = new Promise((resolve) => {\n",
              "    cancel.onclick = () => {\n",
              "      resolve(null);\n",
              "    };\n",
              "  });\n",
              "\n",
              "  // Wait for the user to pick the files.\n",
              "  const files = yield {\n",
              "    promise: Promise.race([pickedPromise, cancelPromise]),\n",
              "    response: {\n",
              "      action: 'starting',\n",
              "    }\n",
              "  };\n",
              "\n",
              "  cancel.remove();\n",
              "\n",
              "  // Disable the input element since further picks are not allowed.\n",
              "  inputElement.disabled = true;\n",
              "\n",
              "  if (!files) {\n",
              "    return {\n",
              "      response: {\n",
              "        action: 'complete',\n",
              "      }\n",
              "    };\n",
              "  }\n",
              "\n",
              "  for (const file of files) {\n",
              "    const li = document.createElement('li');\n",
              "    li.append(span(file.name, {fontWeight: 'bold'}));\n",
              "    li.append(span(\n",
              "        `(${file.type || 'n/a'}) - ${file.size} bytes, ` +\n",
              "        `last modified: ${\n",
              "            file.lastModifiedDate ? file.lastModifiedDate.toLocaleDateString() :\n",
              "                                    'n/a'} - `));\n",
              "    const percent = span('0% done');\n",
              "    li.appendChild(percent);\n",
              "\n",
              "    outputElement.appendChild(li);\n",
              "\n",
              "    const fileDataPromise = new Promise((resolve) => {\n",
              "      const reader = new FileReader();\n",
              "      reader.onload = (e) => {\n",
              "        resolve(e.target.result);\n",
              "      };\n",
              "      reader.readAsArrayBuffer(file);\n",
              "    });\n",
              "    // Wait for the data to be ready.\n",
              "    let fileData = yield {\n",
              "      promise: fileDataPromise,\n",
              "      response: {\n",
              "        action: 'continue',\n",
              "      }\n",
              "    };\n",
              "\n",
              "    // Use a chunked sending to avoid message size limits. See b/62115660.\n",
              "    let position = 0;\n",
              "    do {\n",
              "      const length = Math.min(fileData.byteLength - position, MAX_PAYLOAD_SIZE);\n",
              "      const chunk = new Uint8Array(fileData, position, length);\n",
              "      position += length;\n",
              "\n",
              "      const base64 = btoa(String.fromCharCode.apply(null, chunk));\n",
              "      yield {\n",
              "        response: {\n",
              "          action: 'append',\n",
              "          file: file.name,\n",
              "          data: base64,\n",
              "        },\n",
              "      };\n",
              "\n",
              "      let percentDone = fileData.byteLength === 0 ?\n",
              "          100 :\n",
              "          Math.round((position / fileData.byteLength) * 100);\n",
              "      percent.textContent = `${percentDone}% done`;\n",
              "\n",
              "    } while (position < fileData.byteLength);\n",
              "  }\n",
              "\n",
              "  // All done.\n",
              "  yield {\n",
              "    response: {\n",
              "      action: 'complete',\n",
              "    }\n",
              "  };\n",
              "}\n",
              "\n",
              "scope.google = scope.google || {};\n",
              "scope.google.colab = scope.google.colab || {};\n",
              "scope.google.colab._files = {\n",
              "  _uploadFiles,\n",
              "  _uploadFilesContinue,\n",
              "};\n",
              "})(self);\n",
              "</script> "
            ]
          },
          "metadata": {}
        }
      ]
    },
    {
      "cell_type": "code",
      "source": [
        "# Load data\n",
        "path = '/kaggle/input/ecommerce-events-history-in-cosmetics-shop'\n",
        "name = '2019-Oct'\n",
        "data = pd.read_csv(f'{path}/{name}.csv')"
      ],
      "metadata": {
        "execution": {
          "iopub.status.busy": "2024-07-11T14:56:35.970881Z",
          "iopub.execute_input": "2024-07-11T14:56:35.971172Z",
          "iopub.status.idle": "2024-07-11T14:56:47.295429Z",
          "shell.execute_reply.started": "2024-07-11T14:56:35.971148Z",
          "shell.execute_reply": "2024-07-11T14:56:47.294584Z"
        },
        "trusted": true,
        "id": "b4BaUyQkUxLb"
      },
      "execution_count": null,
      "outputs": []
    },
    {
      "cell_type": "code",
      "source": [
        "print('Total number of data: ',len(data))\n",
        "print('Total number of columns: ',len(data.columns))"
      ],
      "metadata": {
        "execution": {
          "iopub.status.busy": "2024-07-11T14:56:47.298255Z",
          "iopub.execute_input": "2024-07-11T14:56:47.298993Z",
          "iopub.status.idle": "2024-07-11T14:56:47.304303Z",
          "shell.execute_reply.started": "2024-07-11T14:56:47.298940Z",
          "shell.execute_reply": "2024-07-11T14:56:47.303354Z"
        },
        "trusted": true,
        "id": "thLxNrRWUxLc",
        "outputId": "d773e6bb-2d78-4907-8e7c-9b0022bb0d19"
      },
      "execution_count": null,
      "outputs": [
        {
          "name": "stdout",
          "text": "Total number of data:  4102283\nTotal number of columns:  9\n",
          "output_type": "stream"
        }
      ]
    },
    {
      "cell_type": "code",
      "source": [
        "data.user_id.nunique()"
      ],
      "metadata": {
        "execution": {
          "iopub.status.busy": "2024-07-11T14:56:47.305513Z",
          "iopub.execute_input": "2024-07-11T14:56:47.305853Z",
          "iopub.status.idle": "2024-07-11T14:56:47.385924Z",
          "shell.execute_reply.started": "2024-07-11T14:56:47.305821Z",
          "shell.execute_reply": "2024-07-11T14:56:47.385019Z"
        },
        "trusted": true,
        "id": "wJLMfltpUxLc",
        "outputId": "5e52429a-174f-468a-b31a-4ab3de9011b1"
      },
      "execution_count": null,
      "outputs": [
        {
          "execution_count": 5,
          "output_type": "execute_result",
          "data": {
            "text/plain": "399664"
          },
          "metadata": {}
        }
      ]
    },
    {
      "cell_type": "code",
      "source": [
        "data.product_id.nunique()"
      ],
      "metadata": {
        "execution": {
          "iopub.status.busy": "2024-07-11T14:56:47.387001Z",
          "iopub.execute_input": "2024-07-11T14:56:47.387310Z",
          "iopub.status.idle": "2024-07-11T14:56:47.435487Z",
          "shell.execute_reply.started": "2024-07-11T14:56:47.387285Z",
          "shell.execute_reply": "2024-07-11T14:56:47.434634Z"
        },
        "trusted": true,
        "id": "T_M3PasyUxLd",
        "outputId": "679244da-0601-4728-be37-ddfbf50e748a"
      },
      "execution_count": null,
      "outputs": [
        {
          "execution_count": 6,
          "output_type": "execute_result",
          "data": {
            "text/plain": "41899"
          },
          "metadata": {}
        }
      ]
    },
    {
      "cell_type": "code",
      "source": [
        "# Show duplicates\n",
        "data[data.duplicated(keep=False)]"
      ],
      "metadata": {
        "execution": {
          "iopub.status.busy": "2024-07-11T14:56:47.436320Z",
          "iopub.execute_input": "2024-07-11T14:56:47.436588Z",
          "iopub.status.idle": "2024-07-11T14:56:53.664217Z",
          "shell.execute_reply.started": "2024-07-11T14:56:47.436565Z",
          "shell.execute_reply": "2024-07-11T14:56:53.663204Z"
        },
        "trusted": true,
        "id": "QqynLmCwUxLd",
        "outputId": "daf7a576-e544-4482-cd2c-491d63b0c445"
      },
      "execution_count": null,
      "outputs": [
        {
          "execution_count": 7,
          "output_type": "execute_result",
          "data": {
            "text/plain": "                      event_time        event_type  product_id  \\\n12       2019-10-01 00:00:30 UTC  remove_from_cart     5809103   \n13       2019-10-01 00:00:30 UTC  remove_from_cart     5809103   \n29       2019-10-01 00:01:05 UTC  remove_from_cart     5858981   \n30       2019-10-01 00:01:05 UTC  remove_from_cart     5858981   \n34       2019-10-01 00:01:07 UTC  remove_from_cart        5312   \n...                          ...               ...         ...   \n4102232  2019-10-31 23:56:18 UTC  remove_from_cart     5834736   \n4102244  2019-10-31 23:56:46 UTC  remove_from_cart     5776516   \n4102246  2019-10-31 23:56:46 UTC  remove_from_cart     5776516   \n4102249  2019-10-31 23:56:52 UTC  remove_from_cart     5834737   \n4102250  2019-10-31 23:56:52 UTC  remove_from_cart     5834737   \n\n                 category_id category_code   brand  price    user_id  \\\n12       1487580013522845895           NaN   irisk   0.60  429681830   \n13       1487580013522845895           NaN   irisk   0.60  429681830   \n29       1487580007634043851           NaN  de.lux   0.79  429681830   \n30       1487580007634043851           NaN  de.lux   0.79  429681830   \n34       1487580009471148064           NaN  runail   1.27  467916806   \n...                      ...           ...     ...    ...        ...   \n4102232  1487580009445982239           NaN     NaN   3.02  553329724   \n4102244  1487580009445982239           NaN     NaN   7.14  553329724   \n4102246  1487580009445982239           NaN     NaN   7.14  553329724   \n4102249  1487580009445982239           NaN     NaN   1.98  553329724   \n4102250  1487580009445982239           NaN     NaN   1.98  553329724   \n\n                                 user_session  \n12       49e8d843-adf3-428b-a2c3-fe8bc6a307c9  \n13       49e8d843-adf3-428b-a2c3-fe8bc6a307c9  \n29       49e8d843-adf3-428b-a2c3-fe8bc6a307c9  \n30       49e8d843-adf3-428b-a2c3-fe8bc6a307c9  \n34       2f5b5546-b8cb-9ee7-7ecd-84276f8ef486  \n...                                       ...  \n4102232  2067216c-31b5-455d-a1cc-af0575a34ffb  \n4102244  2067216c-31b5-455d-a1cc-af0575a34ffb  \n4102246  2067216c-31b5-455d-a1cc-af0575a34ffb  \n4102249  2067216c-31b5-455d-a1cc-af0575a34ffb  \n4102250  2067216c-31b5-455d-a1cc-af0575a34ffb  \n\n[418237 rows x 9 columns]",
            "text/html": "<div>\n<style scoped>\n    .dataframe tbody tr th:only-of-type {\n        vertical-align: middle;\n    }\n\n    .dataframe tbody tr th {\n        vertical-align: top;\n    }\n\n    .dataframe thead th {\n        text-align: right;\n    }\n</style>\n<table border=\"1\" class=\"dataframe\">\n  <thead>\n    <tr style=\"text-align: right;\">\n      <th></th>\n      <th>event_time</th>\n      <th>event_type</th>\n      <th>product_id</th>\n      <th>category_id</th>\n      <th>category_code</th>\n      <th>brand</th>\n      <th>price</th>\n      <th>user_id</th>\n      <th>user_session</th>\n    </tr>\n  </thead>\n  <tbody>\n    <tr>\n      <th>12</th>\n      <td>2019-10-01 00:00:30 UTC</td>\n      <td>remove_from_cart</td>\n      <td>5809103</td>\n      <td>1487580013522845895</td>\n      <td>NaN</td>\n      <td>irisk</td>\n      <td>0.60</td>\n      <td>429681830</td>\n      <td>49e8d843-adf3-428b-a2c3-fe8bc6a307c9</td>\n    </tr>\n    <tr>\n      <th>13</th>\n      <td>2019-10-01 00:00:30 UTC</td>\n      <td>remove_from_cart</td>\n      <td>5809103</td>\n      <td>1487580013522845895</td>\n      <td>NaN</td>\n      <td>irisk</td>\n      <td>0.60</td>\n      <td>429681830</td>\n      <td>49e8d843-adf3-428b-a2c3-fe8bc6a307c9</td>\n    </tr>\n    <tr>\n      <th>29</th>\n      <td>2019-10-01 00:01:05 UTC</td>\n      <td>remove_from_cart</td>\n      <td>5858981</td>\n      <td>1487580007634043851</td>\n      <td>NaN</td>\n      <td>de.lux</td>\n      <td>0.79</td>\n      <td>429681830</td>\n      <td>49e8d843-adf3-428b-a2c3-fe8bc6a307c9</td>\n    </tr>\n    <tr>\n      <th>30</th>\n      <td>2019-10-01 00:01:05 UTC</td>\n      <td>remove_from_cart</td>\n      <td>5858981</td>\n      <td>1487580007634043851</td>\n      <td>NaN</td>\n      <td>de.lux</td>\n      <td>0.79</td>\n      <td>429681830</td>\n      <td>49e8d843-adf3-428b-a2c3-fe8bc6a307c9</td>\n    </tr>\n    <tr>\n      <th>34</th>\n      <td>2019-10-01 00:01:07 UTC</td>\n      <td>remove_from_cart</td>\n      <td>5312</td>\n      <td>1487580009471148064</td>\n      <td>NaN</td>\n      <td>runail</td>\n      <td>1.27</td>\n      <td>467916806</td>\n      <td>2f5b5546-b8cb-9ee7-7ecd-84276f8ef486</td>\n    </tr>\n    <tr>\n      <th>...</th>\n      <td>...</td>\n      <td>...</td>\n      <td>...</td>\n      <td>...</td>\n      <td>...</td>\n      <td>...</td>\n      <td>...</td>\n      <td>...</td>\n      <td>...</td>\n    </tr>\n    <tr>\n      <th>4102232</th>\n      <td>2019-10-31 23:56:18 UTC</td>\n      <td>remove_from_cart</td>\n      <td>5834736</td>\n      <td>1487580009445982239</td>\n      <td>NaN</td>\n      <td>NaN</td>\n      <td>3.02</td>\n      <td>553329724</td>\n      <td>2067216c-31b5-455d-a1cc-af0575a34ffb</td>\n    </tr>\n    <tr>\n      <th>4102244</th>\n      <td>2019-10-31 23:56:46 UTC</td>\n      <td>remove_from_cart</td>\n      <td>5776516</td>\n      <td>1487580009445982239</td>\n      <td>NaN</td>\n      <td>NaN</td>\n      <td>7.14</td>\n      <td>553329724</td>\n      <td>2067216c-31b5-455d-a1cc-af0575a34ffb</td>\n    </tr>\n    <tr>\n      <th>4102246</th>\n      <td>2019-10-31 23:56:46 UTC</td>\n      <td>remove_from_cart</td>\n      <td>5776516</td>\n      <td>1487580009445982239</td>\n      <td>NaN</td>\n      <td>NaN</td>\n      <td>7.14</td>\n      <td>553329724</td>\n      <td>2067216c-31b5-455d-a1cc-af0575a34ffb</td>\n    </tr>\n    <tr>\n      <th>4102249</th>\n      <td>2019-10-31 23:56:52 UTC</td>\n      <td>remove_from_cart</td>\n      <td>5834737</td>\n      <td>1487580009445982239</td>\n      <td>NaN</td>\n      <td>NaN</td>\n      <td>1.98</td>\n      <td>553329724</td>\n      <td>2067216c-31b5-455d-a1cc-af0575a34ffb</td>\n    </tr>\n    <tr>\n      <th>4102250</th>\n      <td>2019-10-31 23:56:52 UTC</td>\n      <td>remove_from_cart</td>\n      <td>5834737</td>\n      <td>1487580009445982239</td>\n      <td>NaN</td>\n      <td>NaN</td>\n      <td>1.98</td>\n      <td>553329724</td>\n      <td>2067216c-31b5-455d-a1cc-af0575a34ffb</td>\n    </tr>\n  </tbody>\n</table>\n<p>418237 rows × 9 columns</p>\n</div>"
          },
          "metadata": {}
        }
      ]
    },
    {
      "cell_type": "code",
      "source": [
        "# Copy to new dataframe to avoiding from adjusting the original dataframe\n",
        "raw_data = data.copy()\n",
        "print('Copy successfully')"
      ],
      "metadata": {
        "execution": {
          "iopub.status.busy": "2024-07-11T14:56:53.665557Z",
          "iopub.execute_input": "2024-07-11T14:56:53.665832Z",
          "iopub.status.idle": "2024-07-11T14:56:53.995965Z",
          "shell.execute_reply.started": "2024-07-11T14:56:53.665808Z",
          "shell.execute_reply": "2024-07-11T14:56:53.994915Z"
        },
        "trusted": true,
        "id": "EGvWPhCNUxLd",
        "outputId": "b0fe2c71-17fc-4d9e-b6ff-eaf318458b66"
      },
      "execution_count": null,
      "outputs": [
        {
          "name": "stdout",
          "text": "Copy successfully\n",
          "output_type": "stream"
        }
      ]
    },
    {
      "cell_type": "code",
      "source": [
        "# Drop duplicates\n",
        "data = data.drop_duplicates()"
      ],
      "metadata": {
        "execution": {
          "iopub.status.busy": "2024-07-11T14:56:53.997365Z",
          "iopub.execute_input": "2024-07-11T14:56:53.998239Z",
          "iopub.status.idle": "2024-07-11T14:57:00.351808Z",
          "shell.execute_reply.started": "2024-07-11T14:56:53.998201Z",
          "shell.execute_reply": "2024-07-11T14:57:00.350696Z"
        },
        "trusted": true,
        "id": "2M67JAq-UxLe"
      },
      "execution_count": null,
      "outputs": []
    },
    {
      "cell_type": "code",
      "source": [
        "# Check duplicates\n",
        "data[data.duplicated(keep=False)]"
      ],
      "metadata": {
        "execution": {
          "iopub.status.busy": "2024-07-11T14:57:00.355935Z",
          "iopub.execute_input": "2024-07-11T14:57:00.356331Z",
          "iopub.status.idle": "2024-07-11T14:57:06.104641Z",
          "shell.execute_reply.started": "2024-07-11T14:57:00.356305Z",
          "shell.execute_reply": "2024-07-11T14:57:06.103681Z"
        },
        "trusted": true,
        "id": "1L0azmKsUxLe",
        "outputId": "5bdee25a-f6fa-483c-edce-309912909635"
      },
      "execution_count": null,
      "outputs": [
        {
          "execution_count": 10,
          "output_type": "execute_result",
          "data": {
            "text/plain": "Empty DataFrame\nColumns: [event_time, event_type, product_id, category_id, category_code, brand, price, user_id, user_session]\nIndex: []",
            "text/html": "<div>\n<style scoped>\n    .dataframe tbody tr th:only-of-type {\n        vertical-align: middle;\n    }\n\n    .dataframe tbody tr th {\n        vertical-align: top;\n    }\n\n    .dataframe thead th {\n        text-align: right;\n    }\n</style>\n<table border=\"1\" class=\"dataframe\">\n  <thead>\n    <tr style=\"text-align: right;\">\n      <th></th>\n      <th>event_time</th>\n      <th>event_type</th>\n      <th>product_id</th>\n      <th>category_id</th>\n      <th>category_code</th>\n      <th>brand</th>\n      <th>price</th>\n      <th>user_id</th>\n      <th>user_session</th>\n    </tr>\n  </thead>\n  <tbody>\n  </tbody>\n</table>\n</div>"
          },
          "metadata": {}
        }
      ]
    },
    {
      "cell_type": "code",
      "source": [
        "# Show dataset information\n",
        "data.info()"
      ],
      "metadata": {
        "execution": {
          "iopub.status.busy": "2024-07-11T14:57:06.107780Z",
          "iopub.execute_input": "2024-07-11T14:57:06.108103Z",
          "iopub.status.idle": "2024-07-11T14:57:06.121286Z",
          "shell.execute_reply.started": "2024-07-11T14:57:06.108060Z",
          "shell.execute_reply": "2024-07-11T14:57:06.120329Z"
        },
        "trusted": true,
        "id": "Z6AmVXW7UxLf",
        "outputId": "34ffb996-9552-4a1e-a1c9-28b2f02975d5"
      },
      "execution_count": null,
      "outputs": [
        {
          "name": "stdout",
          "text": "<class 'pandas.core.frame.DataFrame'>\nInt64Index: 3889128 entries, 0 to 4102282\nData columns (total 9 columns):\n #   Column         Dtype  \n---  ------         -----  \n 0   event_time     object \n 1   event_type     object \n 2   product_id     int64  \n 3   category_id    int64  \n 4   category_code  object \n 5   brand          object \n 6   price          float64\n 7   user_id        int64  \n 8   user_session   object \ndtypes: float64(1), int64(3), object(5)\nmemory usage: 296.7+ MB\n",
          "output_type": "stream"
        }
      ]
    },
    {
      "cell_type": "code",
      "source": [
        "# Summarize the training set\n",
        "data.describe()"
      ],
      "metadata": {
        "execution": {
          "iopub.status.busy": "2024-07-11T14:57:06.122560Z",
          "iopub.execute_input": "2024-07-11T14:57:06.122847Z",
          "iopub.status.idle": "2024-07-11T14:57:06.661240Z",
          "shell.execute_reply.started": "2024-07-11T14:57:06.122823Z",
          "shell.execute_reply": "2024-07-11T14:57:06.660127Z"
        },
        "trusted": true,
        "id": "xD0KZWaEUxLf",
        "outputId": "af1d9452-e84f-4100-b159-e52d1dbc33f8"
      },
      "execution_count": null,
      "outputs": [
        {
          "execution_count": 12,
          "output_type": "execute_result",
          "data": {
            "text/plain": "         product_id   category_id         price       user_id\ncount  3.889128e+06  3.889128e+06  3.889128e+06  3.889128e+06\nmean   5.466216e+06  1.545765e+18  8.725351e+00  5.016975e+08\nstd    1.326391e+06  1.565820e+17  1.949236e+01  8.196493e+07\nmin    3.752000e+03  1.487580e+18 -7.937000e+01  4.103071e+06\n25%    5.723488e+06  1.487580e+18  2.220000e+00  4.697598e+08\n50%    5.809131e+06  1.487580e+18  4.110000e+00  5.396840e+08\n75%    5.850498e+06  1.487580e+18  7.140000e+00  5.575529e+08\nmax    5.900470e+06  2.195085e+18  3.076000e+02  5.662808e+08",
            "text/html": "<div>\n<style scoped>\n    .dataframe tbody tr th:only-of-type {\n        vertical-align: middle;\n    }\n\n    .dataframe tbody tr th {\n        vertical-align: top;\n    }\n\n    .dataframe thead th {\n        text-align: right;\n    }\n</style>\n<table border=\"1\" class=\"dataframe\">\n  <thead>\n    <tr style=\"text-align: right;\">\n      <th></th>\n      <th>product_id</th>\n      <th>category_id</th>\n      <th>price</th>\n      <th>user_id</th>\n    </tr>\n  </thead>\n  <tbody>\n    <tr>\n      <th>count</th>\n      <td>3.889128e+06</td>\n      <td>3.889128e+06</td>\n      <td>3.889128e+06</td>\n      <td>3.889128e+06</td>\n    </tr>\n    <tr>\n      <th>mean</th>\n      <td>5.466216e+06</td>\n      <td>1.545765e+18</td>\n      <td>8.725351e+00</td>\n      <td>5.016975e+08</td>\n    </tr>\n    <tr>\n      <th>std</th>\n      <td>1.326391e+06</td>\n      <td>1.565820e+17</td>\n      <td>1.949236e+01</td>\n      <td>8.196493e+07</td>\n    </tr>\n    <tr>\n      <th>min</th>\n      <td>3.752000e+03</td>\n      <td>1.487580e+18</td>\n      <td>-7.937000e+01</td>\n      <td>4.103071e+06</td>\n    </tr>\n    <tr>\n      <th>25%</th>\n      <td>5.723488e+06</td>\n      <td>1.487580e+18</td>\n      <td>2.220000e+00</td>\n      <td>4.697598e+08</td>\n    </tr>\n    <tr>\n      <th>50%</th>\n      <td>5.809131e+06</td>\n      <td>1.487580e+18</td>\n      <td>4.110000e+00</td>\n      <td>5.396840e+08</td>\n    </tr>\n    <tr>\n      <th>75%</th>\n      <td>5.850498e+06</td>\n      <td>1.487580e+18</td>\n      <td>7.140000e+00</td>\n      <td>5.575529e+08</td>\n    </tr>\n    <tr>\n      <th>max</th>\n      <td>5.900470e+06</td>\n      <td>2.195085e+18</td>\n      <td>3.076000e+02</td>\n      <td>5.662808e+08</td>\n    </tr>\n  </tbody>\n</table>\n</div>"
          },
          "metadata": {}
        }
      ]
    },
    {
      "cell_type": "code",
      "source": [
        "data.count()"
      ],
      "metadata": {
        "execution": {
          "iopub.status.busy": "2024-07-11T14:57:06.662331Z",
          "iopub.execute_input": "2024-07-11T14:57:06.662614Z",
          "iopub.status.idle": "2024-07-11T14:57:11.976580Z",
          "shell.execute_reply.started": "2024-07-11T14:57:06.662590Z",
          "shell.execute_reply": "2024-07-11T14:57:11.975602Z"
        },
        "trusted": true,
        "id": "GasPpKCjUxLg",
        "outputId": "5b732f5a-bcdd-4895-8c96-831bdaf6de5f"
      },
      "execution_count": null,
      "outputs": [
        {
          "execution_count": 13,
          "output_type": "execute_result",
          "data": {
            "text/plain": "event_time       3889128\nevent_type       3889128\nproduct_id       3889128\ncategory_id      3889128\ncategory_code      65379\nbrand            2317814\nprice            3889128\nuser_id          3889128\nuser_session     3888554\ndtype: int64"
          },
          "metadata": {}
        }
      ]
    },
    {
      "cell_type": "code",
      "source": [],
      "metadata": {
        "id": "fBPe3MqvUxLg"
      },
      "execution_count": null,
      "outputs": []
    },
    {
      "cell_type": "code",
      "source": [
        "# Count null values\n",
        "data.isnull().sum()"
      ],
      "metadata": {
        "execution": {
          "iopub.status.busy": "2024-07-11T14:57:11.977722Z",
          "iopub.execute_input": "2024-07-11T14:57:11.978030Z",
          "iopub.status.idle": "2024-07-11T14:57:17.176877Z",
          "shell.execute_reply.started": "2024-07-11T14:57:11.978005Z",
          "shell.execute_reply": "2024-07-11T14:57:17.175806Z"
        },
        "trusted": true,
        "id": "mOMb1EqGUxLg",
        "outputId": "e9e289f2-dcbd-4bf1-84ea-4ad49f6cbae3"
      },
      "execution_count": null,
      "outputs": [
        {
          "execution_count": 14,
          "output_type": "execute_result",
          "data": {
            "text/plain": "event_time             0\nevent_type             0\nproduct_id             0\ncategory_id            0\ncategory_code    3823749\nbrand            1571314\nprice                  0\nuser_id                0\nuser_session         574\ndtype: int64"
          },
          "metadata": {}
        }
      ]
    },
    {
      "cell_type": "code",
      "source": [
        "print('Total number of data: ',len(data))\n",
        "print('Total number of columns: ',len(data.columns))"
      ],
      "metadata": {
        "execution": {
          "iopub.status.busy": "2024-07-11T14:57:17.178075Z",
          "iopub.execute_input": "2024-07-11T14:57:17.178560Z",
          "iopub.status.idle": "2024-07-11T14:57:17.184260Z",
          "shell.execute_reply.started": "2024-07-11T14:57:17.178521Z",
          "shell.execute_reply": "2024-07-11T14:57:17.183319Z"
        },
        "trusted": true,
        "id": "YY1ILn-jUxLg",
        "outputId": "53abe39a-6ac9-4ebf-b0a2-d25b7479ff98"
      },
      "execution_count": null,
      "outputs": [
        {
          "name": "stdout",
          "text": "Total number of data:  3889128\nTotal number of columns:  9\n",
          "output_type": "stream"
        }
      ]
    },
    {
      "cell_type": "code",
      "source": [
        "num_users = data['user_id'].nunique()\n",
        "num_products = data['product_id'].nunique()\n",
        "num_categories = data['category_id'].nunique()\n",
        "num_taxonomies = data['category_code'].nunique()\n",
        "num_brands = data['brand'].nunique()\n",
        "print('Total number of users: ',num_users)\n",
        "print('Total number of products: ', num_products)\n",
        "print('Total number of categories: ', num_categories)\n",
        "print('Total number of taxonomies: ', num_taxonomies)\n",
        "print('Total number of brands: ', num_brands)"
      ],
      "metadata": {
        "execution": {
          "iopub.status.busy": "2024-07-11T14:57:17.185429Z",
          "iopub.execute_input": "2024-07-11T14:57:17.185751Z",
          "iopub.status.idle": "2024-07-11T14:57:17.957287Z",
          "shell.execute_reply.started": "2024-07-11T14:57:17.185725Z",
          "shell.execute_reply": "2024-07-11T14:57:17.956252Z"
        },
        "trusted": true,
        "id": "WIXzipY_UxLh",
        "outputId": "80e859ef-22bb-4a2f-9ba2-00930afe64e4"
      },
      "execution_count": null,
      "outputs": [
        {
          "name": "stdout",
          "text": "Total number of users:  399664\nTotal number of products:  41899\nTotal number of categories:  490\nTotal number of taxonomies:  11\nTotal number of brands:  240\n",
          "output_type": "stream"
        }
      ]
    },
    {
      "cell_type": "markdown",
      "source": [
        "## 1. Category"
      ],
      "metadata": {
        "id": "s7MTyeO_UxLh"
      }
    },
    {
      "cell_type": "markdown",
      "source": [
        "In this section we will focus on the category of products which offer valuable information on customer behavior (the customer bahavior toward different categories, brands and price will be discussed in details later on). There are 2 types of category representations: **category_id** and **category_code**, both have its benefits:\n",
        "\n",
        "- **Category ID:** The \"category_id\" is a numerical identifier assigned to each product category. It's a unique numerical code used to distinguish different categories from each other. It's often used for database indexing and efficient querying because numerical codes are faster to process than text-based codes.\n",
        "    \n",
        "- **Category Code (Product Taxonomy):** The **category_code** is a textual representation of a product's category within a taxonomy or hierarchy. It's a more human-friendly way to understand the product's category. It follows a hierarchical structure where the different levels of the category hierarchy are separated by periods (for examples: \"appliances.environment.water_heater\" or \"furniture.living_room.sofa\").\n",
        "\n",
        "In many cases, the **category_code** is derived from the hierarchical structure of the taxonomy, and the **category_id** is used internally for database operations and indexing. Below image is an example for product taxonomy structure in an online shopping website (**Amazon**).\n",
        "\n",
        "\n",
        "![Amazon product taxonomy online website](images/product-taxonomy-amazon.png)\n",
        "\n",
        "Since **category_id** is used for the purpose of enhancing computing speed, it has less insight for analysis and less human-readable, thus we will focus mainly on **category_code**. From the data we can see that, **category_code** follows a hierarchical structure, where each level of the hierarchy is separated by periods. Specifically, it has a structure of **<category_1.category_2.category_3....>** with multiple levels. Let us separate those by the first period ('.'), split the category_code into 2 columns including **main_category** and **sub_category** and get a closer look.\n",
        "\n",
        "<sup>*(Since the numbers of levels are different for different categories, therefore I just extract the categories before the first period as **main_category** while the rest as **sub_category**)*</sup>\n"
      ],
      "metadata": {
        "id": "iKlUPrgkUxLh"
      }
    },
    {
      "cell_type": "code",
      "source": [
        "data['category_code'].unique()"
      ],
      "metadata": {
        "execution": {
          "iopub.status.busy": "2024-07-11T14:57:17.958417Z",
          "iopub.execute_input": "2024-07-11T14:57:17.958740Z",
          "iopub.status.idle": "2024-07-11T14:57:18.272580Z",
          "shell.execute_reply.started": "2024-07-11T14:57:17.958712Z",
          "shell.execute_reply": "2024-07-11T14:57:18.271472Z"
        },
        "trusted": true,
        "id": "gDMqn_DEUxLh",
        "outputId": "215dd4f0-7b7b-4280-9a0e-f5b2409d6015"
      },
      "execution_count": null,
      "outputs": [
        {
          "execution_count": 17,
          "output_type": "execute_result",
          "data": {
            "text/plain": "array([nan, 'appliances.environment.vacuum', 'stationery.cartrige',\n       'apparel.glove', 'accessories.bag',\n       'furniture.living_room.cabinet', 'furniture.bathroom.bath',\n       'appliances.personal.hair_cutter', 'accessories.cosmetic_bag',\n       'appliances.environment.air_conditioner',\n       'furniture.living_room.chair', 'sport.diving'], dtype=object)"
          },
          "metadata": {}
        }
      ]
    },
    {
      "cell_type": "code",
      "source": [
        "len(data.columns)"
      ],
      "metadata": {
        "execution": {
          "iopub.status.busy": "2024-07-11T14:57:18.274442Z",
          "iopub.execute_input": "2024-07-11T14:57:18.274795Z",
          "iopub.status.idle": "2024-07-11T14:57:18.281644Z",
          "shell.execute_reply.started": "2024-07-11T14:57:18.274768Z",
          "shell.execute_reply": "2024-07-11T14:57:18.280661Z"
        },
        "trusted": true,
        "id": "pTIyRAqDUxLi",
        "outputId": "83a9a41b-01f6-4f37-9f36-ba5418396307"
      },
      "execution_count": null,
      "outputs": [
        {
          "execution_count": 18,
          "output_type": "execute_result",
          "data": {
            "text/plain": "9"
          },
          "metadata": {}
        }
      ]
    },
    {
      "cell_type": "code",
      "source": [
        "data[['main_category', 'sub_category']] = data['category_code'].str.split('.', n=1, expand=True)"
      ],
      "metadata": {
        "execution": {
          "iopub.status.busy": "2024-07-11T14:57:18.282977Z",
          "iopub.execute_input": "2024-07-11T14:57:18.283394Z",
          "iopub.status.idle": "2024-07-11T14:57:29.990336Z",
          "shell.execute_reply.started": "2024-07-11T14:57:18.283357Z",
          "shell.execute_reply": "2024-07-11T14:57:29.989522Z"
        },
        "trusted": true,
        "id": "6V0m2E2_UxLi"
      },
      "execution_count": null,
      "outputs": []
    },
    {
      "cell_type": "code",
      "source": [
        "data['category_code'].str.split('.', n=1, expand=True)"
      ],
      "metadata": {
        "execution": {
          "iopub.status.busy": "2024-07-11T14:57:29.991547Z",
          "iopub.execute_input": "2024-07-11T14:57:29.991908Z",
          "iopub.status.idle": "2024-07-11T14:57:41.978112Z",
          "shell.execute_reply.started": "2024-07-11T14:57:29.991876Z",
          "shell.execute_reply": "2024-07-11T14:57:41.977135Z"
        },
        "trusted": true,
        "id": "YmF7YQ-6UxLi",
        "outputId": "349b12ae-7a4e-4e38-9fe5-e592416743eb"
      },
      "execution_count": null,
      "outputs": [
        {
          "execution_count": 20,
          "output_type": "execute_result",
          "data": {
            "text/plain": "           0    1\n0        NaN  NaN\n1        NaN  NaN\n2        NaN  NaN\n3        NaN  NaN\n4        NaN  NaN\n...      ...  ...\n4102278  NaN  NaN\n4102279  NaN  NaN\n4102280  NaN  NaN\n4102281  NaN  NaN\n4102282  NaN  NaN\n\n[3889128 rows x 2 columns]",
            "text/html": "<div>\n<style scoped>\n    .dataframe tbody tr th:only-of-type {\n        vertical-align: middle;\n    }\n\n    .dataframe tbody tr th {\n        vertical-align: top;\n    }\n\n    .dataframe thead th {\n        text-align: right;\n    }\n</style>\n<table border=\"1\" class=\"dataframe\">\n  <thead>\n    <tr style=\"text-align: right;\">\n      <th></th>\n      <th>0</th>\n      <th>1</th>\n    </tr>\n  </thead>\n  <tbody>\n    <tr>\n      <th>0</th>\n      <td>NaN</td>\n      <td>NaN</td>\n    </tr>\n    <tr>\n      <th>1</th>\n      <td>NaN</td>\n      <td>NaN</td>\n    </tr>\n    <tr>\n      <th>2</th>\n      <td>NaN</td>\n      <td>NaN</td>\n    </tr>\n    <tr>\n      <th>3</th>\n      <td>NaN</td>\n      <td>NaN</td>\n    </tr>\n    <tr>\n      <th>4</th>\n      <td>NaN</td>\n      <td>NaN</td>\n    </tr>\n    <tr>\n      <th>...</th>\n      <td>...</td>\n      <td>...</td>\n    </tr>\n    <tr>\n      <th>4102278</th>\n      <td>NaN</td>\n      <td>NaN</td>\n    </tr>\n    <tr>\n      <th>4102279</th>\n      <td>NaN</td>\n      <td>NaN</td>\n    </tr>\n    <tr>\n      <th>4102280</th>\n      <td>NaN</td>\n      <td>NaN</td>\n    </tr>\n    <tr>\n      <th>4102281</th>\n      <td>NaN</td>\n      <td>NaN</td>\n    </tr>\n    <tr>\n      <th>4102282</th>\n      <td>NaN</td>\n      <td>NaN</td>\n    </tr>\n  </tbody>\n</table>\n<p>3889128 rows × 2 columns</p>\n</div>"
          },
          "metadata": {}
        }
      ]
    },
    {
      "cell_type": "code",
      "source": [
        "data[['main_category', 'sub_category']] = data['category_code'].str.split('.', n=1, expand=True)\n",
        "print('Splitted successfully.')"
      ],
      "metadata": {
        "execution": {
          "iopub.status.busy": "2024-07-11T14:57:41.979511Z",
          "iopub.execute_input": "2024-07-11T14:57:41.980221Z",
          "iopub.status.idle": "2024-07-11T14:57:52.880199Z",
          "shell.execute_reply.started": "2024-07-11T14:57:41.980180Z",
          "shell.execute_reply": "2024-07-11T14:57:52.879196Z"
        },
        "trusted": true,
        "id": "zrFXvqHmUxLi",
        "outputId": "78465924-cd0f-4fec-bd42-257f16a3cb76"
      },
      "execution_count": null,
      "outputs": [
        {
          "name": "stdout",
          "text": "Splitted successfully.\n",
          "output_type": "stream"
        }
      ]
    },
    {
      "cell_type": "code",
      "source": [
        "data['main_category'].unique()"
      ],
      "metadata": {
        "execution": {
          "iopub.status.busy": "2024-07-11T14:57:52.881511Z",
          "iopub.execute_input": "2024-07-11T14:57:52.881853Z",
          "iopub.status.idle": "2024-07-11T14:57:53.175297Z",
          "shell.execute_reply.started": "2024-07-11T14:57:52.881826Z",
          "shell.execute_reply": "2024-07-11T14:57:53.174302Z"
        },
        "trusted": true,
        "id": "2DIau7BrUxLj",
        "outputId": "94d815a4-1103-49c2-c253-eafed426d8d4"
      },
      "execution_count": null,
      "outputs": [
        {
          "execution_count": 22,
          "output_type": "execute_result",
          "data": {
            "text/plain": "array([nan, 'appliances', 'stationery', 'apparel', 'accessories',\n       'furniture', 'sport'], dtype=object)"
          },
          "metadata": {}
        }
      ]
    },
    {
      "cell_type": "code",
      "source": [
        "data['sub_category'].unique()"
      ],
      "metadata": {
        "execution": {
          "iopub.status.busy": "2024-07-11T14:57:59.496265Z",
          "iopub.execute_input": "2024-07-11T14:57:59.496646Z",
          "iopub.status.idle": "2024-07-11T14:57:59.790004Z",
          "shell.execute_reply.started": "2024-07-11T14:57:59.496616Z",
          "shell.execute_reply": "2024-07-11T14:57:59.788928Z"
        },
        "trusted": true,
        "id": "DJqtFCXZUxLj",
        "outputId": "f9c50f06-7b51-47eb-b3f5-0af3866251ee"
      },
      "execution_count": null,
      "outputs": [
        {
          "execution_count": 24,
          "output_type": "execute_result",
          "data": {
            "text/plain": "array([nan, 'environment.vacuum', 'cartrige', 'glove', 'bag',\n       'living_room.cabinet', 'bathroom.bath', 'personal.hair_cutter',\n       'cosmetic_bag', 'environment.air_conditioner', 'living_room.chair',\n       'diving'], dtype=object)"
          },
          "metadata": {}
        }
      ]
    },
    {
      "cell_type": "code",
      "source": [],
      "metadata": {
        "trusted": true,
        "id": "CA8ktBG7UxLj"
      },
      "execution_count": null,
      "outputs": []
    },
    {
      "cell_type": "code",
      "source": [
        "# PIPE 1\n",
        "# Split by the first period (n=1)\n",
        "data[['main_category', 'sub_category']] = data['category_code'].str.split('.', n=1, expand=True)\n",
        "print('Splitted successfully.')\n",
        "# Rearrange the columns\n",
        "data = data.drop(columns=['category_code'])\n",
        "new_order = ['event_time', 'event_type', 'product_id', 'category_id', 'main_category', 'sub_category', 'brand', 'price', 'user_id', 'user_session']\n",
        "data = data[new_order]\n",
        "print('Rearranged successfully.')\n",
        "data.head(10)"
      ],
      "metadata": {
        "execution": {
          "iopub.status.busy": "2024-07-11T14:58:00.853422Z",
          "iopub.execute_input": "2024-07-11T14:58:00.854163Z",
          "iopub.status.idle": "2024-07-11T14:58:13.512417Z",
          "shell.execute_reply.started": "2024-07-11T14:58:00.854132Z",
          "shell.execute_reply": "2024-07-11T14:58:13.511446Z"
        },
        "trusted": true,
        "id": "pm5w3ggRUxLj",
        "outputId": "68ff6595-0652-4e08-ddab-4499ccd356b6"
      },
      "execution_count": null,
      "outputs": [
        {
          "name": "stdout",
          "text": "Splitted successfully.\nRearranged successfully.\n",
          "output_type": "stream"
        },
        {
          "execution_count": 25,
          "output_type": "execute_result",
          "data": {
            "text/plain": "                event_time event_type  product_id          category_id  \\\n0  2019-10-01 00:00:00 UTC       cart     5773203  1487580005134238553   \n1  2019-10-01 00:00:03 UTC       cart     5773353  1487580005134238553   \n2  2019-10-01 00:00:07 UTC       cart     5881589  2151191071051219817   \n3  2019-10-01 00:00:07 UTC       cart     5723490  1487580005134238553   \n4  2019-10-01 00:00:15 UTC       cart     5881449  1487580013522845895   \n5  2019-10-01 00:00:16 UTC       cart     5857269  1487580005134238553   \n6  2019-10-01 00:00:19 UTC       cart     5739055  1487580008246412266   \n7  2019-10-01 00:00:24 UTC       cart     5825598  1487580009445982239   \n8  2019-10-01 00:00:25 UTC       cart     5698989  1487580006317032337   \n9  2019-10-01 00:00:26 UTC       view     5875317  2029082628195353599   \n\n  main_category sub_category   brand  price    user_id  \\\n0           NaN          NaN  runail   2.62  463240011   \n1           NaN          NaN  runail   2.62  463240011   \n2           NaN          NaN  lovely  13.48  429681830   \n3           NaN          NaN  runail   2.62  463240011   \n4           NaN          NaN  lovely   0.56  429681830   \n5           NaN          NaN  runail   2.62  430174032   \n6           NaN          NaN  kapous   4.75  377667011   \n7           NaN          NaN     NaN   0.56  467916806   \n8           NaN          NaN     NaN   1.27  385985999   \n9           NaN          NaN     NaN   1.59  474232307   \n\n                           user_session  \n0  26dd6e6e-4dac-4778-8d2c-92e149dab885  \n1  26dd6e6e-4dac-4778-8d2c-92e149dab885  \n2  49e8d843-adf3-428b-a2c3-fe8bc6a307c9  \n3  26dd6e6e-4dac-4778-8d2c-92e149dab885  \n4  49e8d843-adf3-428b-a2c3-fe8bc6a307c9  \n5  73dea1e7-664e-43f4-8b30-d32b9d5af04f  \n6  81326ac6-daa4-4f0a-b488-fd0956a78733  \n7  2f5b5546-b8cb-9ee7-7ecd-84276f8ef486  \n8  d30965e8-1101-44ab-b45d-cc1bb9fae694  \n9  445f2b74-5e4c-427e-b7fa-6e0a28b156fe  ",
            "text/html": "<div>\n<style scoped>\n    .dataframe tbody tr th:only-of-type {\n        vertical-align: middle;\n    }\n\n    .dataframe tbody tr th {\n        vertical-align: top;\n    }\n\n    .dataframe thead th {\n        text-align: right;\n    }\n</style>\n<table border=\"1\" class=\"dataframe\">\n  <thead>\n    <tr style=\"text-align: right;\">\n      <th></th>\n      <th>event_time</th>\n      <th>event_type</th>\n      <th>product_id</th>\n      <th>category_id</th>\n      <th>main_category</th>\n      <th>sub_category</th>\n      <th>brand</th>\n      <th>price</th>\n      <th>user_id</th>\n      <th>user_session</th>\n    </tr>\n  </thead>\n  <tbody>\n    <tr>\n      <th>0</th>\n      <td>2019-10-01 00:00:00 UTC</td>\n      <td>cart</td>\n      <td>5773203</td>\n      <td>1487580005134238553</td>\n      <td>NaN</td>\n      <td>NaN</td>\n      <td>runail</td>\n      <td>2.62</td>\n      <td>463240011</td>\n      <td>26dd6e6e-4dac-4778-8d2c-92e149dab885</td>\n    </tr>\n    <tr>\n      <th>1</th>\n      <td>2019-10-01 00:00:03 UTC</td>\n      <td>cart</td>\n      <td>5773353</td>\n      <td>1487580005134238553</td>\n      <td>NaN</td>\n      <td>NaN</td>\n      <td>runail</td>\n      <td>2.62</td>\n      <td>463240011</td>\n      <td>26dd6e6e-4dac-4778-8d2c-92e149dab885</td>\n    </tr>\n    <tr>\n      <th>2</th>\n      <td>2019-10-01 00:00:07 UTC</td>\n      <td>cart</td>\n      <td>5881589</td>\n      <td>2151191071051219817</td>\n      <td>NaN</td>\n      <td>NaN</td>\n      <td>lovely</td>\n      <td>13.48</td>\n      <td>429681830</td>\n      <td>49e8d843-adf3-428b-a2c3-fe8bc6a307c9</td>\n    </tr>\n    <tr>\n      <th>3</th>\n      <td>2019-10-01 00:00:07 UTC</td>\n      <td>cart</td>\n      <td>5723490</td>\n      <td>1487580005134238553</td>\n      <td>NaN</td>\n      <td>NaN</td>\n      <td>runail</td>\n      <td>2.62</td>\n      <td>463240011</td>\n      <td>26dd6e6e-4dac-4778-8d2c-92e149dab885</td>\n    </tr>\n    <tr>\n      <th>4</th>\n      <td>2019-10-01 00:00:15 UTC</td>\n      <td>cart</td>\n      <td>5881449</td>\n      <td>1487580013522845895</td>\n      <td>NaN</td>\n      <td>NaN</td>\n      <td>lovely</td>\n      <td>0.56</td>\n      <td>429681830</td>\n      <td>49e8d843-adf3-428b-a2c3-fe8bc6a307c9</td>\n    </tr>\n    <tr>\n      <th>5</th>\n      <td>2019-10-01 00:00:16 UTC</td>\n      <td>cart</td>\n      <td>5857269</td>\n      <td>1487580005134238553</td>\n      <td>NaN</td>\n      <td>NaN</td>\n      <td>runail</td>\n      <td>2.62</td>\n      <td>430174032</td>\n      <td>73dea1e7-664e-43f4-8b30-d32b9d5af04f</td>\n    </tr>\n    <tr>\n      <th>6</th>\n      <td>2019-10-01 00:00:19 UTC</td>\n      <td>cart</td>\n      <td>5739055</td>\n      <td>1487580008246412266</td>\n      <td>NaN</td>\n      <td>NaN</td>\n      <td>kapous</td>\n      <td>4.75</td>\n      <td>377667011</td>\n      <td>81326ac6-daa4-4f0a-b488-fd0956a78733</td>\n    </tr>\n    <tr>\n      <th>7</th>\n      <td>2019-10-01 00:00:24 UTC</td>\n      <td>cart</td>\n      <td>5825598</td>\n      <td>1487580009445982239</td>\n      <td>NaN</td>\n      <td>NaN</td>\n      <td>NaN</td>\n      <td>0.56</td>\n      <td>467916806</td>\n      <td>2f5b5546-b8cb-9ee7-7ecd-84276f8ef486</td>\n    </tr>\n    <tr>\n      <th>8</th>\n      <td>2019-10-01 00:00:25 UTC</td>\n      <td>cart</td>\n      <td>5698989</td>\n      <td>1487580006317032337</td>\n      <td>NaN</td>\n      <td>NaN</td>\n      <td>NaN</td>\n      <td>1.27</td>\n      <td>385985999</td>\n      <td>d30965e8-1101-44ab-b45d-cc1bb9fae694</td>\n    </tr>\n    <tr>\n      <th>9</th>\n      <td>2019-10-01 00:00:26 UTC</td>\n      <td>view</td>\n      <td>5875317</td>\n      <td>2029082628195353599</td>\n      <td>NaN</td>\n      <td>NaN</td>\n      <td>NaN</td>\n      <td>1.59</td>\n      <td>474232307</td>\n      <td>445f2b74-5e4c-427e-b7fa-6e0a28b156fe</td>\n    </tr>\n  </tbody>\n</table>\n</div>"
          },
          "metadata": {}
        }
      ]
    },
    {
      "cell_type": "code",
      "source": [],
      "metadata": {
        "trusted": true,
        "id": "zNBEQS0vUxLk"
      },
      "execution_count": null,
      "outputs": []
    },
    {
      "cell_type": "code",
      "source": [
        "# Donut chart of main_category\n",
        "mainCat_values = data.groupby('main_category')['product_id'].nunique().sort_values(ascending=False)\n",
        "mainCat_names = mainCat_values.index\n",
        "print(mainCat_values)\n",
        "# Pie chart for main-categories\n",
        "print('Number of main-categories: ', len(mainCat_names))\n",
        "fig = px.pie(names=mainCat_names, values=mainCat_values, hole=0.3)\n",
        "fig.update_layout({\"title\":{\"text\":\"Main category distribution\", \"x\":0.50}})\n",
        "fig.show()"
      ],
      "metadata": {
        "execution": {
          "iopub.status.busy": "2024-07-11T14:58:13.514481Z",
          "iopub.execute_input": "2024-07-11T14:58:13.514831Z",
          "iopub.status.idle": "2024-07-11T14:58:15.982508Z",
          "shell.execute_reply.started": "2024-07-11T14:58:13.514804Z",
          "shell.execute_reply": "2024-07-11T14:58:15.981624Z"
        },
        "trusted": true,
        "id": "AC22OkX1UxLk",
        "outputId": "99c33e19-196d-49c7-d49a-2f67294b0b58"
      },
      "execution_count": null,
      "outputs": [
        {
          "name": "stdout",
          "text": "main_category\nstationery     136\nappliances     112\nfurniture       55\naccessories     54\napparel         51\nsport            1\nName: product_id, dtype: int64\nNumber of main-categories:  6\n",
          "output_type": "stream"
        },
        {
          "output_type": "display_data",
          "data": {
            "text/html": "        <script type=\"text/javascript\">\n        window.PlotlyConfig = {MathJaxConfig: 'local'};\n        if (window.MathJax && window.MathJax.Hub && window.MathJax.Hub.Config) {window.MathJax.Hub.Config({SVG: {font: \"STIX-Web\"}});}\n        if (typeof require !== 'undefined') {\n        require.undef(\"plotly\");\n        requirejs.config({\n            paths: {\n                'plotly': ['https://cdn.plot.ly/plotly-2.24.1.min']\n            }\n        });\n        require(['plotly'], function(Plotly) {\n            window._Plotly = Plotly;\n        });\n        }\n        </script>\n        "
          },
          "metadata": {}
        },
        {
          "output_type": "display_data",
          "data": {
            "text/html": "<div>                            <div id=\"a877da68-cf09-4867-ac7f-66be3f0e69e1\" class=\"plotly-graph-div\" style=\"height:525px; width:100%;\"></div>            <script type=\"text/javascript\">                require([\"plotly\"], function(Plotly) {                    window.PLOTLYENV=window.PLOTLYENV || {};                                    if (document.getElementById(\"a877da68-cf09-4867-ac7f-66be3f0e69e1\")) {                    Plotly.newPlot(                        \"a877da68-cf09-4867-ac7f-66be3f0e69e1\",                        [{\"domain\":{\"x\":[0.0,1.0],\"y\":[0.0,1.0]},\"hole\":0.3,\"hovertemplate\":\"label=%{label}\\u003cbr\\u003evalue=%{value}\\u003cextra\\u003e\\u003c\\u002fextra\\u003e\",\"labels\":[\"stationery\",\"appliances\",\"furniture\",\"accessories\",\"apparel\",\"sport\"],\"legendgroup\":\"\",\"name\":\"\",\"showlegend\":true,\"values\":[136,112,55,54,51,1],\"type\":\"pie\"}],                        {\"template\":{\"data\":{\"histogram2dcontour\":[{\"type\":\"histogram2dcontour\",\"colorbar\":{\"outlinewidth\":0,\"ticks\":\"\"},\"colorscale\":[[0.0,\"#0d0887\"],[0.1111111111111111,\"#46039f\"],[0.2222222222222222,\"#7201a8\"],[0.3333333333333333,\"#9c179e\"],[0.4444444444444444,\"#bd3786\"],[0.5555555555555556,\"#d8576b\"],[0.6666666666666666,\"#ed7953\"],[0.7777777777777778,\"#fb9f3a\"],[0.8888888888888888,\"#fdca26\"],[1.0,\"#f0f921\"]]}],\"choropleth\":[{\"type\":\"choropleth\",\"colorbar\":{\"outlinewidth\":0,\"ticks\":\"\"}}],\"histogram2d\":[{\"type\":\"histogram2d\",\"colorbar\":{\"outlinewidth\":0,\"ticks\":\"\"},\"colorscale\":[[0.0,\"#0d0887\"],[0.1111111111111111,\"#46039f\"],[0.2222222222222222,\"#7201a8\"],[0.3333333333333333,\"#9c179e\"],[0.4444444444444444,\"#bd3786\"],[0.5555555555555556,\"#d8576b\"],[0.6666666666666666,\"#ed7953\"],[0.7777777777777778,\"#fb9f3a\"],[0.8888888888888888,\"#fdca26\"],[1.0,\"#f0f921\"]]}],\"heatmap\":[{\"type\":\"heatmap\",\"colorbar\":{\"outlinewidth\":0,\"ticks\":\"\"},\"colorscale\":[[0.0,\"#0d0887\"],[0.1111111111111111,\"#46039f\"],[0.2222222222222222,\"#7201a8\"],[0.3333333333333333,\"#9c179e\"],[0.4444444444444444,\"#bd3786\"],[0.5555555555555556,\"#d8576b\"],[0.6666666666666666,\"#ed7953\"],[0.7777777777777778,\"#fb9f3a\"],[0.8888888888888888,\"#fdca26\"],[1.0,\"#f0f921\"]]}],\"heatmapgl\":[{\"type\":\"heatmapgl\",\"colorbar\":{\"outlinewidth\":0,\"ticks\":\"\"},\"colorscale\":[[0.0,\"#0d0887\"],[0.1111111111111111,\"#46039f\"],[0.2222222222222222,\"#7201a8\"],[0.3333333333333333,\"#9c179e\"],[0.4444444444444444,\"#bd3786\"],[0.5555555555555556,\"#d8576b\"],[0.6666666666666666,\"#ed7953\"],[0.7777777777777778,\"#fb9f3a\"],[0.8888888888888888,\"#fdca26\"],[1.0,\"#f0f921\"]]}],\"contourcarpet\":[{\"type\":\"contourcarpet\",\"colorbar\":{\"outlinewidth\":0,\"ticks\":\"\"}}],\"contour\":[{\"type\":\"contour\",\"colorbar\":{\"outlinewidth\":0,\"ticks\":\"\"},\"colorscale\":[[0.0,\"#0d0887\"],[0.1111111111111111,\"#46039f\"],[0.2222222222222222,\"#7201a8\"],[0.3333333333333333,\"#9c179e\"],[0.4444444444444444,\"#bd3786\"],[0.5555555555555556,\"#d8576b\"],[0.6666666666666666,\"#ed7953\"],[0.7777777777777778,\"#fb9f3a\"],[0.8888888888888888,\"#fdca26\"],[1.0,\"#f0f921\"]]}],\"surface\":[{\"type\":\"surface\",\"colorbar\":{\"outlinewidth\":0,\"ticks\":\"\"},\"colorscale\":[[0.0,\"#0d0887\"],[0.1111111111111111,\"#46039f\"],[0.2222222222222222,\"#7201a8\"],[0.3333333333333333,\"#9c179e\"],[0.4444444444444444,\"#bd3786\"],[0.5555555555555556,\"#d8576b\"],[0.6666666666666666,\"#ed7953\"],[0.7777777777777778,\"#fb9f3a\"],[0.8888888888888888,\"#fdca26\"],[1.0,\"#f0f921\"]]}],\"mesh3d\":[{\"type\":\"mesh3d\",\"colorbar\":{\"outlinewidth\":0,\"ticks\":\"\"}}],\"scatter\":[{\"fillpattern\":{\"fillmode\":\"overlay\",\"size\":10,\"solidity\":0.2},\"type\":\"scatter\"}],\"parcoords\":[{\"type\":\"parcoords\",\"line\":{\"colorbar\":{\"outlinewidth\":0,\"ticks\":\"\"}}}],\"scatterpolargl\":[{\"type\":\"scatterpolargl\",\"marker\":{\"colorbar\":{\"outlinewidth\":0,\"ticks\":\"\"}}}],\"bar\":[{\"error_x\":{\"color\":\"#2a3f5f\"},\"error_y\":{\"color\":\"#2a3f5f\"},\"marker\":{\"line\":{\"color\":\"#E5ECF6\",\"width\":0.5},\"pattern\":{\"fillmode\":\"overlay\",\"size\":10,\"solidity\":0.2}},\"type\":\"bar\"}],\"scattergeo\":[{\"type\":\"scattergeo\",\"marker\":{\"colorbar\":{\"outlinewidth\":0,\"ticks\":\"\"}}}],\"scatterpolar\":[{\"type\":\"scatterpolar\",\"marker\":{\"colorbar\":{\"outlinewidth\":0,\"ticks\":\"\"}}}],\"histogram\":[{\"marker\":{\"pattern\":{\"fillmode\":\"overlay\",\"size\":10,\"solidity\":0.2}},\"type\":\"histogram\"}],\"scattergl\":[{\"type\":\"scattergl\",\"marker\":{\"colorbar\":{\"outlinewidth\":0,\"ticks\":\"\"}}}],\"scatter3d\":[{\"type\":\"scatter3d\",\"line\":{\"colorbar\":{\"outlinewidth\":0,\"ticks\":\"\"}},\"marker\":{\"colorbar\":{\"outlinewidth\":0,\"ticks\":\"\"}}}],\"scattermapbox\":[{\"type\":\"scattermapbox\",\"marker\":{\"colorbar\":{\"outlinewidth\":0,\"ticks\":\"\"}}}],\"scatterternary\":[{\"type\":\"scatterternary\",\"marker\":{\"colorbar\":{\"outlinewidth\":0,\"ticks\":\"\"}}}],\"scattercarpet\":[{\"type\":\"scattercarpet\",\"marker\":{\"colorbar\":{\"outlinewidth\":0,\"ticks\":\"\"}}}],\"carpet\":[{\"aaxis\":{\"endlinecolor\":\"#2a3f5f\",\"gridcolor\":\"white\",\"linecolor\":\"white\",\"minorgridcolor\":\"white\",\"startlinecolor\":\"#2a3f5f\"},\"baxis\":{\"endlinecolor\":\"#2a3f5f\",\"gridcolor\":\"white\",\"linecolor\":\"white\",\"minorgridcolor\":\"white\",\"startlinecolor\":\"#2a3f5f\"},\"type\":\"carpet\"}],\"table\":[{\"cells\":{\"fill\":{\"color\":\"#EBF0F8\"},\"line\":{\"color\":\"white\"}},\"header\":{\"fill\":{\"color\":\"#C8D4E3\"},\"line\":{\"color\":\"white\"}},\"type\":\"table\"}],\"barpolar\":[{\"marker\":{\"line\":{\"color\":\"#E5ECF6\",\"width\":0.5},\"pattern\":{\"fillmode\":\"overlay\",\"size\":10,\"solidity\":0.2}},\"type\":\"barpolar\"}],\"pie\":[{\"automargin\":true,\"type\":\"pie\"}]},\"layout\":{\"autotypenumbers\":\"strict\",\"colorway\":[\"#636efa\",\"#EF553B\",\"#00cc96\",\"#ab63fa\",\"#FFA15A\",\"#19d3f3\",\"#FF6692\",\"#B6E880\",\"#FF97FF\",\"#FECB52\"],\"font\":{\"color\":\"#2a3f5f\"},\"hovermode\":\"closest\",\"hoverlabel\":{\"align\":\"left\"},\"paper_bgcolor\":\"white\",\"plot_bgcolor\":\"#E5ECF6\",\"polar\":{\"bgcolor\":\"#E5ECF6\",\"angularaxis\":{\"gridcolor\":\"white\",\"linecolor\":\"white\",\"ticks\":\"\"},\"radialaxis\":{\"gridcolor\":\"white\",\"linecolor\":\"white\",\"ticks\":\"\"}},\"ternary\":{\"bgcolor\":\"#E5ECF6\",\"aaxis\":{\"gridcolor\":\"white\",\"linecolor\":\"white\",\"ticks\":\"\"},\"baxis\":{\"gridcolor\":\"white\",\"linecolor\":\"white\",\"ticks\":\"\"},\"caxis\":{\"gridcolor\":\"white\",\"linecolor\":\"white\",\"ticks\":\"\"}},\"coloraxis\":{\"colorbar\":{\"outlinewidth\":0,\"ticks\":\"\"}},\"colorscale\":{\"sequential\":[[0.0,\"#0d0887\"],[0.1111111111111111,\"#46039f\"],[0.2222222222222222,\"#7201a8\"],[0.3333333333333333,\"#9c179e\"],[0.4444444444444444,\"#bd3786\"],[0.5555555555555556,\"#d8576b\"],[0.6666666666666666,\"#ed7953\"],[0.7777777777777778,\"#fb9f3a\"],[0.8888888888888888,\"#fdca26\"],[1.0,\"#f0f921\"]],\"sequentialminus\":[[0.0,\"#0d0887\"],[0.1111111111111111,\"#46039f\"],[0.2222222222222222,\"#7201a8\"],[0.3333333333333333,\"#9c179e\"],[0.4444444444444444,\"#bd3786\"],[0.5555555555555556,\"#d8576b\"],[0.6666666666666666,\"#ed7953\"],[0.7777777777777778,\"#fb9f3a\"],[0.8888888888888888,\"#fdca26\"],[1.0,\"#f0f921\"]],\"diverging\":[[0,\"#8e0152\"],[0.1,\"#c51b7d\"],[0.2,\"#de77ae\"],[0.3,\"#f1b6da\"],[0.4,\"#fde0ef\"],[0.5,\"#f7f7f7\"],[0.6,\"#e6f5d0\"],[0.7,\"#b8e186\"],[0.8,\"#7fbc41\"],[0.9,\"#4d9221\"],[1,\"#276419\"]]},\"xaxis\":{\"gridcolor\":\"white\",\"linecolor\":\"white\",\"ticks\":\"\",\"title\":{\"standoff\":15},\"zerolinecolor\":\"white\",\"automargin\":true,\"zerolinewidth\":2},\"yaxis\":{\"gridcolor\":\"white\",\"linecolor\":\"white\",\"ticks\":\"\",\"title\":{\"standoff\":15},\"zerolinecolor\":\"white\",\"automargin\":true,\"zerolinewidth\":2},\"scene\":{\"xaxis\":{\"backgroundcolor\":\"#E5ECF6\",\"gridcolor\":\"white\",\"linecolor\":\"white\",\"showbackground\":true,\"ticks\":\"\",\"zerolinecolor\":\"white\",\"gridwidth\":2},\"yaxis\":{\"backgroundcolor\":\"#E5ECF6\",\"gridcolor\":\"white\",\"linecolor\":\"white\",\"showbackground\":true,\"ticks\":\"\",\"zerolinecolor\":\"white\",\"gridwidth\":2},\"zaxis\":{\"backgroundcolor\":\"#E5ECF6\",\"gridcolor\":\"white\",\"linecolor\":\"white\",\"showbackground\":true,\"ticks\":\"\",\"zerolinecolor\":\"white\",\"gridwidth\":2}},\"shapedefaults\":{\"line\":{\"color\":\"#2a3f5f\"}},\"annotationdefaults\":{\"arrowcolor\":\"#2a3f5f\",\"arrowhead\":0,\"arrowwidth\":1},\"geo\":{\"bgcolor\":\"white\",\"landcolor\":\"#E5ECF6\",\"subunitcolor\":\"white\",\"showland\":true,\"showlakes\":true,\"lakecolor\":\"white\"},\"title\":{\"x\":0.05},\"mapbox\":{\"style\":\"light\"}}},\"legend\":{\"tracegroupgap\":0},\"margin\":{\"t\":60},\"title\":{\"text\":\"Main category distribution\",\"x\":0.5}},                        {\"responsive\": true}                    ).then(function(){\n                            \nvar gd = document.getElementById('a877da68-cf09-4867-ac7f-66be3f0e69e1');\nvar x = new MutationObserver(function (mutations, observer) {{\n        var display = window.getComputedStyle(gd).display;\n        if (!display || display === 'none') {{\n            console.log([gd, 'removed!']);\n            Plotly.purge(gd);\n            observer.disconnect();\n        }}\n}});\n\n// Listen for the removal of the full notebook cells\nvar notebookContainer = gd.closest('#notebook-container');\nif (notebookContainer) {{\n    x.observe(notebookContainer, {childList: true});\n}}\n\n// Listen for the clearing of the current output cell\nvar outputEl = gd.closest('.output');\nif (outputEl) {{\n    x.observe(outputEl, {childList: true});\n}}\n\n                        })                };                });            </script>        </div>"
          },
          "metadata": {}
        }
      ]
    },
    {
      "cell_type": "code",
      "source": [
        "# Donut chart of sub_category - top 10\n",
        "subCat_values = data.groupby('sub_category')['product_id'].nunique().sort_values(ascending=False)\n",
        "subCat_names = subCat_values.index\n",
        "print(subCat_values)\n",
        "# Pie chart for sub-categories\n",
        "print('Number of sub-categories: ', len(subCat_names))\n",
        "\n",
        "# # Create a new array of sub-category values with the summed value of sub-categories not in top 10\n",
        "other_value = subCat_values[10:].sum()\n",
        "subCat_names_with_other = np.append(subCat_names[:10], 'Other')\n",
        "subCat_values_with_other  = np.append(subCat_values[:10], other_value)\n",
        "\n",
        "fig = px.pie(names=subCat_names_with_other , values=subCat_values_with_other , hole=0.3)\n",
        "fig.update_layout({\"title\":{\"text\":\"Sub category distribution\", \"x\":0.50}})\n",
        "fig.show()"
      ],
      "metadata": {
        "execution": {
          "iopub.status.busy": "2024-07-11T14:58:15.983921Z",
          "iopub.execute_input": "2024-07-11T14:58:15.984329Z",
          "iopub.status.idle": "2024-07-11T14:58:17.141401Z",
          "shell.execute_reply.started": "2024-07-11T14:58:15.984293Z",
          "shell.execute_reply": "2024-07-11T14:58:17.140368Z"
        },
        "trusted": true,
        "id": "xEsCv20UUxLk",
        "outputId": "51c01fcc-f91c-47bb-e688-e4ce2ce7ebaf"
      },
      "execution_count": null,
      "outputs": [
        {
          "name": "stdout",
          "text": "sub_category\ncartrige                       136\nenvironment.vacuum              82\nglove                           51\nbathroom.bath                   48\nbag                             38\nenvironment.air_conditioner     22\ncosmetic_bag                    16\npersonal.hair_cutter             8\nliving_room.cabinet              5\nliving_room.chair                2\ndiving                           1\nName: product_id, dtype: int64\nNumber of sub-categories:  11\n",
          "output_type": "stream"
        },
        {
          "output_type": "display_data",
          "data": {
            "text/html": "<div>                            <div id=\"ec0b9a18-3bfe-4341-9519-a367acef215d\" class=\"plotly-graph-div\" style=\"height:525px; width:100%;\"></div>            <script type=\"text/javascript\">                require([\"plotly\"], function(Plotly) {                    window.PLOTLYENV=window.PLOTLYENV || {};                                    if (document.getElementById(\"ec0b9a18-3bfe-4341-9519-a367acef215d\")) {                    Plotly.newPlot(                        \"ec0b9a18-3bfe-4341-9519-a367acef215d\",                        [{\"domain\":{\"x\":[0.0,1.0],\"y\":[0.0,1.0]},\"hole\":0.3,\"hovertemplate\":\"label=%{label}\\u003cbr\\u003evalue=%{value}\\u003cextra\\u003e\\u003c\\u002fextra\\u003e\",\"labels\":[\"cartrige\",\"environment.vacuum\",\"glove\",\"bathroom.bath\",\"bag\",\"environment.air_conditioner\",\"cosmetic_bag\",\"personal.hair_cutter\",\"living_room.cabinet\",\"living_room.chair\",\"Other\"],\"legendgroup\":\"\",\"name\":\"\",\"showlegend\":true,\"values\":[136,82,51,48,38,22,16,8,5,2,1],\"type\":\"pie\"}],                        {\"template\":{\"data\":{\"histogram2dcontour\":[{\"type\":\"histogram2dcontour\",\"colorbar\":{\"outlinewidth\":0,\"ticks\":\"\"},\"colorscale\":[[0.0,\"#0d0887\"],[0.1111111111111111,\"#46039f\"],[0.2222222222222222,\"#7201a8\"],[0.3333333333333333,\"#9c179e\"],[0.4444444444444444,\"#bd3786\"],[0.5555555555555556,\"#d8576b\"],[0.6666666666666666,\"#ed7953\"],[0.7777777777777778,\"#fb9f3a\"],[0.8888888888888888,\"#fdca26\"],[1.0,\"#f0f921\"]]}],\"choropleth\":[{\"type\":\"choropleth\",\"colorbar\":{\"outlinewidth\":0,\"ticks\":\"\"}}],\"histogram2d\":[{\"type\":\"histogram2d\",\"colorbar\":{\"outlinewidth\":0,\"ticks\":\"\"},\"colorscale\":[[0.0,\"#0d0887\"],[0.1111111111111111,\"#46039f\"],[0.2222222222222222,\"#7201a8\"],[0.3333333333333333,\"#9c179e\"],[0.4444444444444444,\"#bd3786\"],[0.5555555555555556,\"#d8576b\"],[0.6666666666666666,\"#ed7953\"],[0.7777777777777778,\"#fb9f3a\"],[0.8888888888888888,\"#fdca26\"],[1.0,\"#f0f921\"]]}],\"heatmap\":[{\"type\":\"heatmap\",\"colorbar\":{\"outlinewidth\":0,\"ticks\":\"\"},\"colorscale\":[[0.0,\"#0d0887\"],[0.1111111111111111,\"#46039f\"],[0.2222222222222222,\"#7201a8\"],[0.3333333333333333,\"#9c179e\"],[0.4444444444444444,\"#bd3786\"],[0.5555555555555556,\"#d8576b\"],[0.6666666666666666,\"#ed7953\"],[0.7777777777777778,\"#fb9f3a\"],[0.8888888888888888,\"#fdca26\"],[1.0,\"#f0f921\"]]}],\"heatmapgl\":[{\"type\":\"heatmapgl\",\"colorbar\":{\"outlinewidth\":0,\"ticks\":\"\"},\"colorscale\":[[0.0,\"#0d0887\"],[0.1111111111111111,\"#46039f\"],[0.2222222222222222,\"#7201a8\"],[0.3333333333333333,\"#9c179e\"],[0.4444444444444444,\"#bd3786\"],[0.5555555555555556,\"#d8576b\"],[0.6666666666666666,\"#ed7953\"],[0.7777777777777778,\"#fb9f3a\"],[0.8888888888888888,\"#fdca26\"],[1.0,\"#f0f921\"]]}],\"contourcarpet\":[{\"type\":\"contourcarpet\",\"colorbar\":{\"outlinewidth\":0,\"ticks\":\"\"}}],\"contour\":[{\"type\":\"contour\",\"colorbar\":{\"outlinewidth\":0,\"ticks\":\"\"},\"colorscale\":[[0.0,\"#0d0887\"],[0.1111111111111111,\"#46039f\"],[0.2222222222222222,\"#7201a8\"],[0.3333333333333333,\"#9c179e\"],[0.4444444444444444,\"#bd3786\"],[0.5555555555555556,\"#d8576b\"],[0.6666666666666666,\"#ed7953\"],[0.7777777777777778,\"#fb9f3a\"],[0.8888888888888888,\"#fdca26\"],[1.0,\"#f0f921\"]]}],\"surface\":[{\"type\":\"surface\",\"colorbar\":{\"outlinewidth\":0,\"ticks\":\"\"},\"colorscale\":[[0.0,\"#0d0887\"],[0.1111111111111111,\"#46039f\"],[0.2222222222222222,\"#7201a8\"],[0.3333333333333333,\"#9c179e\"],[0.4444444444444444,\"#bd3786\"],[0.5555555555555556,\"#d8576b\"],[0.6666666666666666,\"#ed7953\"],[0.7777777777777778,\"#fb9f3a\"],[0.8888888888888888,\"#fdca26\"],[1.0,\"#f0f921\"]]}],\"mesh3d\":[{\"type\":\"mesh3d\",\"colorbar\":{\"outlinewidth\":0,\"ticks\":\"\"}}],\"scatter\":[{\"fillpattern\":{\"fillmode\":\"overlay\",\"size\":10,\"solidity\":0.2},\"type\":\"scatter\"}],\"parcoords\":[{\"type\":\"parcoords\",\"line\":{\"colorbar\":{\"outlinewidth\":0,\"ticks\":\"\"}}}],\"scatterpolargl\":[{\"type\":\"scatterpolargl\",\"marker\":{\"colorbar\":{\"outlinewidth\":0,\"ticks\":\"\"}}}],\"bar\":[{\"error_x\":{\"color\":\"#2a3f5f\"},\"error_y\":{\"color\":\"#2a3f5f\"},\"marker\":{\"line\":{\"color\":\"#E5ECF6\",\"width\":0.5},\"pattern\":{\"fillmode\":\"overlay\",\"size\":10,\"solidity\":0.2}},\"type\":\"bar\"}],\"scattergeo\":[{\"type\":\"scattergeo\",\"marker\":{\"colorbar\":{\"outlinewidth\":0,\"ticks\":\"\"}}}],\"scatterpolar\":[{\"type\":\"scatterpolar\",\"marker\":{\"colorbar\":{\"outlinewidth\":0,\"ticks\":\"\"}}}],\"histogram\":[{\"marker\":{\"pattern\":{\"fillmode\":\"overlay\",\"size\":10,\"solidity\":0.2}},\"type\":\"histogram\"}],\"scattergl\":[{\"type\":\"scattergl\",\"marker\":{\"colorbar\":{\"outlinewidth\":0,\"ticks\":\"\"}}}],\"scatter3d\":[{\"type\":\"scatter3d\",\"line\":{\"colorbar\":{\"outlinewidth\":0,\"ticks\":\"\"}},\"marker\":{\"colorbar\":{\"outlinewidth\":0,\"ticks\":\"\"}}}],\"scattermapbox\":[{\"type\":\"scattermapbox\",\"marker\":{\"colorbar\":{\"outlinewidth\":0,\"ticks\":\"\"}}}],\"scatterternary\":[{\"type\":\"scatterternary\",\"marker\":{\"colorbar\":{\"outlinewidth\":0,\"ticks\":\"\"}}}],\"scattercarpet\":[{\"type\":\"scattercarpet\",\"marker\":{\"colorbar\":{\"outlinewidth\":0,\"ticks\":\"\"}}}],\"carpet\":[{\"aaxis\":{\"endlinecolor\":\"#2a3f5f\",\"gridcolor\":\"white\",\"linecolor\":\"white\",\"minorgridcolor\":\"white\",\"startlinecolor\":\"#2a3f5f\"},\"baxis\":{\"endlinecolor\":\"#2a3f5f\",\"gridcolor\":\"white\",\"linecolor\":\"white\",\"minorgridcolor\":\"white\",\"startlinecolor\":\"#2a3f5f\"},\"type\":\"carpet\"}],\"table\":[{\"cells\":{\"fill\":{\"color\":\"#EBF0F8\"},\"line\":{\"color\":\"white\"}},\"header\":{\"fill\":{\"color\":\"#C8D4E3\"},\"line\":{\"color\":\"white\"}},\"type\":\"table\"}],\"barpolar\":[{\"marker\":{\"line\":{\"color\":\"#E5ECF6\",\"width\":0.5},\"pattern\":{\"fillmode\":\"overlay\",\"size\":10,\"solidity\":0.2}},\"type\":\"barpolar\"}],\"pie\":[{\"automargin\":true,\"type\":\"pie\"}]},\"layout\":{\"autotypenumbers\":\"strict\",\"colorway\":[\"#636efa\",\"#EF553B\",\"#00cc96\",\"#ab63fa\",\"#FFA15A\",\"#19d3f3\",\"#FF6692\",\"#B6E880\",\"#FF97FF\",\"#FECB52\"],\"font\":{\"color\":\"#2a3f5f\"},\"hovermode\":\"closest\",\"hoverlabel\":{\"align\":\"left\"},\"paper_bgcolor\":\"white\",\"plot_bgcolor\":\"#E5ECF6\",\"polar\":{\"bgcolor\":\"#E5ECF6\",\"angularaxis\":{\"gridcolor\":\"white\",\"linecolor\":\"white\",\"ticks\":\"\"},\"radialaxis\":{\"gridcolor\":\"white\",\"linecolor\":\"white\",\"ticks\":\"\"}},\"ternary\":{\"bgcolor\":\"#E5ECF6\",\"aaxis\":{\"gridcolor\":\"white\",\"linecolor\":\"white\",\"ticks\":\"\"},\"baxis\":{\"gridcolor\":\"white\",\"linecolor\":\"white\",\"ticks\":\"\"},\"caxis\":{\"gridcolor\":\"white\",\"linecolor\":\"white\",\"ticks\":\"\"}},\"coloraxis\":{\"colorbar\":{\"outlinewidth\":0,\"ticks\":\"\"}},\"colorscale\":{\"sequential\":[[0.0,\"#0d0887\"],[0.1111111111111111,\"#46039f\"],[0.2222222222222222,\"#7201a8\"],[0.3333333333333333,\"#9c179e\"],[0.4444444444444444,\"#bd3786\"],[0.5555555555555556,\"#d8576b\"],[0.6666666666666666,\"#ed7953\"],[0.7777777777777778,\"#fb9f3a\"],[0.8888888888888888,\"#fdca26\"],[1.0,\"#f0f921\"]],\"sequentialminus\":[[0.0,\"#0d0887\"],[0.1111111111111111,\"#46039f\"],[0.2222222222222222,\"#7201a8\"],[0.3333333333333333,\"#9c179e\"],[0.4444444444444444,\"#bd3786\"],[0.5555555555555556,\"#d8576b\"],[0.6666666666666666,\"#ed7953\"],[0.7777777777777778,\"#fb9f3a\"],[0.8888888888888888,\"#fdca26\"],[1.0,\"#f0f921\"]],\"diverging\":[[0,\"#8e0152\"],[0.1,\"#c51b7d\"],[0.2,\"#de77ae\"],[0.3,\"#f1b6da\"],[0.4,\"#fde0ef\"],[0.5,\"#f7f7f7\"],[0.6,\"#e6f5d0\"],[0.7,\"#b8e186\"],[0.8,\"#7fbc41\"],[0.9,\"#4d9221\"],[1,\"#276419\"]]},\"xaxis\":{\"gridcolor\":\"white\",\"linecolor\":\"white\",\"ticks\":\"\",\"title\":{\"standoff\":15},\"zerolinecolor\":\"white\",\"automargin\":true,\"zerolinewidth\":2},\"yaxis\":{\"gridcolor\":\"white\",\"linecolor\":\"white\",\"ticks\":\"\",\"title\":{\"standoff\":15},\"zerolinecolor\":\"white\",\"automargin\":true,\"zerolinewidth\":2},\"scene\":{\"xaxis\":{\"backgroundcolor\":\"#E5ECF6\",\"gridcolor\":\"white\",\"linecolor\":\"white\",\"showbackground\":true,\"ticks\":\"\",\"zerolinecolor\":\"white\",\"gridwidth\":2},\"yaxis\":{\"backgroundcolor\":\"#E5ECF6\",\"gridcolor\":\"white\",\"linecolor\":\"white\",\"showbackground\":true,\"ticks\":\"\",\"zerolinecolor\":\"white\",\"gridwidth\":2},\"zaxis\":{\"backgroundcolor\":\"#E5ECF6\",\"gridcolor\":\"white\",\"linecolor\":\"white\",\"showbackground\":true,\"ticks\":\"\",\"zerolinecolor\":\"white\",\"gridwidth\":2}},\"shapedefaults\":{\"line\":{\"color\":\"#2a3f5f\"}},\"annotationdefaults\":{\"arrowcolor\":\"#2a3f5f\",\"arrowhead\":0,\"arrowwidth\":1},\"geo\":{\"bgcolor\":\"white\",\"landcolor\":\"#E5ECF6\",\"subunitcolor\":\"white\",\"showland\":true,\"showlakes\":true,\"lakecolor\":\"white\"},\"title\":{\"x\":0.05},\"mapbox\":{\"style\":\"light\"}}},\"legend\":{\"tracegroupgap\":0},\"margin\":{\"t\":60},\"title\":{\"text\":\"Sub category distribution\",\"x\":0.5}},                        {\"responsive\": true}                    ).then(function(){\n                            \nvar gd = document.getElementById('ec0b9a18-3bfe-4341-9519-a367acef215d');\nvar x = new MutationObserver(function (mutations, observer) {{\n        var display = window.getComputedStyle(gd).display;\n        if (!display || display === 'none') {{\n            console.log([gd, 'removed!']);\n            Plotly.purge(gd);\n            observer.disconnect();\n        }}\n}});\n\n// Listen for the removal of the full notebook cells\nvar notebookContainer = gd.closest('#notebook-container');\nif (notebookContainer) {{\n    x.observe(notebookContainer, {childList: true});\n}}\n\n// Listen for the clearing of the current output cell\nvar outputEl = gd.closest('.output');\nif (outputEl) {{\n    x.observe(outputEl, {childList: true});\n}}\n\n                        })                };                });            </script>        </div>"
          },
          "metadata": {}
        }
      ]
    },
    {
      "cell_type": "code",
      "source": [],
      "metadata": {
        "trusted": true,
        "id": "hx1kTAX3UxLk"
      },
      "execution_count": null,
      "outputs": []
    },
    {
      "cell_type": "code",
      "source": [
        "# Is there any pair of main-categories has the same sub-category?\n",
        "\n",
        "# Group main categories by sub-category and count the occurrences\n",
        "main_cat_counts = data.groupby(['sub_category', 'main_category']).size().reset_index(name='count')\n",
        "\n",
        "# Find pairs of main categories with the same sub-category\n",
        "duplicate_pairs = main_cat_counts[main_cat_counts.duplicated(subset='sub_category', keep=False)]\n",
        "\n",
        "# Display duplicate pairs\n",
        "duplicate_pairs"
      ],
      "metadata": {
        "execution": {
          "iopub.status.busy": "2024-07-11T14:58:17.143619Z",
          "iopub.execute_input": "2024-07-11T14:58:17.143915Z",
          "iopub.status.idle": "2024-07-11T14:58:18.004616Z",
          "shell.execute_reply.started": "2024-07-11T14:58:17.143889Z",
          "shell.execute_reply": "2024-07-11T14:58:18.003467Z"
        },
        "trusted": true,
        "id": "9BT5jc8WUxLl",
        "outputId": "18f36b95-a0b0-4faf-e4d5-9078659f71eb"
      },
      "execution_count": null,
      "outputs": [
        {
          "execution_count": 28,
          "output_type": "execute_result",
          "data": {
            "text/plain": "Empty DataFrame\nColumns: [sub_category, main_category, count]\nIndex: []",
            "text/html": "<div>\n<style scoped>\n    .dataframe tbody tr th:only-of-type {\n        vertical-align: middle;\n    }\n\n    .dataframe tbody tr th {\n        vertical-align: top;\n    }\n\n    .dataframe thead th {\n        text-align: right;\n    }\n</style>\n<table border=\"1\" class=\"dataframe\">\n  <thead>\n    <tr style=\"text-align: right;\">\n      <th></th>\n      <th>sub_category</th>\n      <th>main_category</th>\n      <th>count</th>\n    </tr>\n  </thead>\n  <tbody>\n  </tbody>\n</table>\n</div>"
          },
          "metadata": {}
        }
      ]
    },
    {
      "cell_type": "code",
      "source": [
        "# Create data of main and sub categories with counts of products\n",
        "category_counts = data.drop_duplicates(subset='product_id').groupby(['main_category', 'sub_category']).size().reset_index(name='count')\n",
        "\n",
        "# Treemap plot\n",
        "fig = px.treemap(category_counts, path=[px.Constant(\"all\"), 'main_category', 'sub_category'], values='count',\n",
        "                  color='count', hover_data=['count'],\n",
        "                  color_continuous_scale='YlGnBu',)\n",
        "fig.update_layout(margin = dict(t=50, l=25, r=25, b=25))\n",
        "fig.show()"
      ],
      "metadata": {
        "execution": {
          "iopub.status.busy": "2024-07-11T14:58:18.006218Z",
          "iopub.execute_input": "2024-07-11T14:58:18.007087Z",
          "iopub.status.idle": "2024-07-11T14:58:18.266114Z",
          "shell.execute_reply.started": "2024-07-11T14:58:18.007019Z",
          "shell.execute_reply": "2024-07-11T14:58:18.265106Z"
        },
        "trusted": true,
        "id": "QzfA5HxzUxLl",
        "outputId": "c66b279c-f47b-4ff6-8590-d8ee6af5c956"
      },
      "execution_count": null,
      "outputs": [
        {
          "output_type": "display_data",
          "data": {
            "text/html": "<div>                            <div id=\"7021c864-d3e5-40a6-8401-8d489e2679d6\" class=\"plotly-graph-div\" style=\"height:525px; width:100%;\"></div>            <script type=\"text/javascript\">                require([\"plotly\"], function(Plotly) {                    window.PLOTLYENV=window.PLOTLYENV || {};                                    if (document.getElementById(\"7021c864-d3e5-40a6-8401-8d489e2679d6\")) {                    Plotly.newPlot(                        \"7021c864-d3e5-40a6-8401-8d489e2679d6\",                        [{\"branchvalues\":\"total\",\"customdata\":[[38.0,38.0],[48.0,48.0],[136.0,136.0],[16.0,16.0],[1.0,1.0],[22.0,22.0],[82.0,82.0],[51.0,51.0],[5.0,5.0],[2.0,2.0],[8.0,8.0],[31.48148148148148,31.48148148148148],[51.0,51.0],[64.92857142857143,64.92857142857143],[42.41818181818182,42.41818181818182],[1.0,1.0],[136.0,136.0],[79.22493887530563,79.22493887530563]],\"domain\":{\"x\":[0.0,1.0],\"y\":[0.0,1.0]},\"hovertemplate\":\"labels=%{label}\\u003cbr\\u003ecount_sum=%{value}\\u003cbr\\u003eparent=%{parent}\\u003cbr\\u003eid=%{id}\\u003cbr\\u003ecount=%{color}\\u003cextra\\u003e\\u003c\\u002fextra\\u003e\",\"ids\":[\"all\\u002faccessories\\u002fbag\",\"all\\u002ffurniture\\u002fbathroom.bath\",\"all\\u002fstationery\\u002fcartrige\",\"all\\u002faccessories\\u002fcosmetic_bag\",\"all\\u002fsport\\u002fdiving\",\"all\\u002fappliances\\u002fenvironment.air_conditioner\",\"all\\u002fappliances\\u002fenvironment.vacuum\",\"all\\u002fapparel\\u002fglove\",\"all\\u002ffurniture\\u002fliving_room.cabinet\",\"all\\u002ffurniture\\u002fliving_room.chair\",\"all\\u002fappliances\\u002fpersonal.hair_cutter\",\"all\\u002faccessories\",\"all\\u002fapparel\",\"all\\u002fappliances\",\"all\\u002ffurniture\",\"all\\u002fsport\",\"all\\u002fstationery\",\"all\"],\"labels\":[\"bag\",\"bathroom.bath\",\"cartrige\",\"cosmetic_bag\",\"diving\",\"environment.air_conditioner\",\"environment.vacuum\",\"glove\",\"living_room.cabinet\",\"living_room.chair\",\"personal.hair_cutter\",\"accessories\",\"apparel\",\"appliances\",\"furniture\",\"sport\",\"stationery\",\"all\"],\"marker\":{\"coloraxis\":\"coloraxis\",\"colors\":[38.0,48.0,136.0,16.0,1.0,22.0,82.0,51.0,5.0,2.0,8.0,31.48148148148148,51.0,64.92857142857143,42.41818181818182,1.0,136.0,79.22493887530563]},\"name\":\"\",\"parents\":[\"all\\u002faccessories\",\"all\\u002ffurniture\",\"all\\u002fstationery\",\"all\\u002faccessories\",\"all\\u002fsport\",\"all\\u002fappliances\",\"all\\u002fappliances\",\"all\\u002fapparel\",\"all\\u002ffurniture\",\"all\\u002ffurniture\",\"all\\u002fappliances\",\"all\",\"all\",\"all\",\"all\",\"all\",\"all\",\"\"],\"values\":[38,48,136,16,1,22,82,51,5,2,8,54,51,112,55,1,136,409],\"type\":\"treemap\"}],                        {\"template\":{\"data\":{\"histogram2dcontour\":[{\"type\":\"histogram2dcontour\",\"colorbar\":{\"outlinewidth\":0,\"ticks\":\"\"},\"colorscale\":[[0.0,\"#0d0887\"],[0.1111111111111111,\"#46039f\"],[0.2222222222222222,\"#7201a8\"],[0.3333333333333333,\"#9c179e\"],[0.4444444444444444,\"#bd3786\"],[0.5555555555555556,\"#d8576b\"],[0.6666666666666666,\"#ed7953\"],[0.7777777777777778,\"#fb9f3a\"],[0.8888888888888888,\"#fdca26\"],[1.0,\"#f0f921\"]]}],\"choropleth\":[{\"type\":\"choropleth\",\"colorbar\":{\"outlinewidth\":0,\"ticks\":\"\"}}],\"histogram2d\":[{\"type\":\"histogram2d\",\"colorbar\":{\"outlinewidth\":0,\"ticks\":\"\"},\"colorscale\":[[0.0,\"#0d0887\"],[0.1111111111111111,\"#46039f\"],[0.2222222222222222,\"#7201a8\"],[0.3333333333333333,\"#9c179e\"],[0.4444444444444444,\"#bd3786\"],[0.5555555555555556,\"#d8576b\"],[0.6666666666666666,\"#ed7953\"],[0.7777777777777778,\"#fb9f3a\"],[0.8888888888888888,\"#fdca26\"],[1.0,\"#f0f921\"]]}],\"heatmap\":[{\"type\":\"heatmap\",\"colorbar\":{\"outlinewidth\":0,\"ticks\":\"\"},\"colorscale\":[[0.0,\"#0d0887\"],[0.1111111111111111,\"#46039f\"],[0.2222222222222222,\"#7201a8\"],[0.3333333333333333,\"#9c179e\"],[0.4444444444444444,\"#bd3786\"],[0.5555555555555556,\"#d8576b\"],[0.6666666666666666,\"#ed7953\"],[0.7777777777777778,\"#fb9f3a\"],[0.8888888888888888,\"#fdca26\"],[1.0,\"#f0f921\"]]}],\"heatmapgl\":[{\"type\":\"heatmapgl\",\"colorbar\":{\"outlinewidth\":0,\"ticks\":\"\"},\"colorscale\":[[0.0,\"#0d0887\"],[0.1111111111111111,\"#46039f\"],[0.2222222222222222,\"#7201a8\"],[0.3333333333333333,\"#9c179e\"],[0.4444444444444444,\"#bd3786\"],[0.5555555555555556,\"#d8576b\"],[0.6666666666666666,\"#ed7953\"],[0.7777777777777778,\"#fb9f3a\"],[0.8888888888888888,\"#fdca26\"],[1.0,\"#f0f921\"]]}],\"contourcarpet\":[{\"type\":\"contourcarpet\",\"colorbar\":{\"outlinewidth\":0,\"ticks\":\"\"}}],\"contour\":[{\"type\":\"contour\",\"colorbar\":{\"outlinewidth\":0,\"ticks\":\"\"},\"colorscale\":[[0.0,\"#0d0887\"],[0.1111111111111111,\"#46039f\"],[0.2222222222222222,\"#7201a8\"],[0.3333333333333333,\"#9c179e\"],[0.4444444444444444,\"#bd3786\"],[0.5555555555555556,\"#d8576b\"],[0.6666666666666666,\"#ed7953\"],[0.7777777777777778,\"#fb9f3a\"],[0.8888888888888888,\"#fdca26\"],[1.0,\"#f0f921\"]]}],\"surface\":[{\"type\":\"surface\",\"colorbar\":{\"outlinewidth\":0,\"ticks\":\"\"},\"colorscale\":[[0.0,\"#0d0887\"],[0.1111111111111111,\"#46039f\"],[0.2222222222222222,\"#7201a8\"],[0.3333333333333333,\"#9c179e\"],[0.4444444444444444,\"#bd3786\"],[0.5555555555555556,\"#d8576b\"],[0.6666666666666666,\"#ed7953\"],[0.7777777777777778,\"#fb9f3a\"],[0.8888888888888888,\"#fdca26\"],[1.0,\"#f0f921\"]]}],\"mesh3d\":[{\"type\":\"mesh3d\",\"colorbar\":{\"outlinewidth\":0,\"ticks\":\"\"}}],\"scatter\":[{\"fillpattern\":{\"fillmode\":\"overlay\",\"size\":10,\"solidity\":0.2},\"type\":\"scatter\"}],\"parcoords\":[{\"type\":\"parcoords\",\"line\":{\"colorbar\":{\"outlinewidth\":0,\"ticks\":\"\"}}}],\"scatterpolargl\":[{\"type\":\"scatterpolargl\",\"marker\":{\"colorbar\":{\"outlinewidth\":0,\"ticks\":\"\"}}}],\"bar\":[{\"error_x\":{\"color\":\"#2a3f5f\"},\"error_y\":{\"color\":\"#2a3f5f\"},\"marker\":{\"line\":{\"color\":\"#E5ECF6\",\"width\":0.5},\"pattern\":{\"fillmode\":\"overlay\",\"size\":10,\"solidity\":0.2}},\"type\":\"bar\"}],\"scattergeo\":[{\"type\":\"scattergeo\",\"marker\":{\"colorbar\":{\"outlinewidth\":0,\"ticks\":\"\"}}}],\"scatterpolar\":[{\"type\":\"scatterpolar\",\"marker\":{\"colorbar\":{\"outlinewidth\":0,\"ticks\":\"\"}}}],\"histogram\":[{\"marker\":{\"pattern\":{\"fillmode\":\"overlay\",\"size\":10,\"solidity\":0.2}},\"type\":\"histogram\"}],\"scattergl\":[{\"type\":\"scattergl\",\"marker\":{\"colorbar\":{\"outlinewidth\":0,\"ticks\":\"\"}}}],\"scatter3d\":[{\"type\":\"scatter3d\",\"line\":{\"colorbar\":{\"outlinewidth\":0,\"ticks\":\"\"}},\"marker\":{\"colorbar\":{\"outlinewidth\":0,\"ticks\":\"\"}}}],\"scattermapbox\":[{\"type\":\"scattermapbox\",\"marker\":{\"colorbar\":{\"outlinewidth\":0,\"ticks\":\"\"}}}],\"scatterternary\":[{\"type\":\"scatterternary\",\"marker\":{\"colorbar\":{\"outlinewidth\":0,\"ticks\":\"\"}}}],\"scattercarpet\":[{\"type\":\"scattercarpet\",\"marker\":{\"colorbar\":{\"outlinewidth\":0,\"ticks\":\"\"}}}],\"carpet\":[{\"aaxis\":{\"endlinecolor\":\"#2a3f5f\",\"gridcolor\":\"white\",\"linecolor\":\"white\",\"minorgridcolor\":\"white\",\"startlinecolor\":\"#2a3f5f\"},\"baxis\":{\"endlinecolor\":\"#2a3f5f\",\"gridcolor\":\"white\",\"linecolor\":\"white\",\"minorgridcolor\":\"white\",\"startlinecolor\":\"#2a3f5f\"},\"type\":\"carpet\"}],\"table\":[{\"cells\":{\"fill\":{\"color\":\"#EBF0F8\"},\"line\":{\"color\":\"white\"}},\"header\":{\"fill\":{\"color\":\"#C8D4E3\"},\"line\":{\"color\":\"white\"}},\"type\":\"table\"}],\"barpolar\":[{\"marker\":{\"line\":{\"color\":\"#E5ECF6\",\"width\":0.5},\"pattern\":{\"fillmode\":\"overlay\",\"size\":10,\"solidity\":0.2}},\"type\":\"barpolar\"}],\"pie\":[{\"automargin\":true,\"type\":\"pie\"}]},\"layout\":{\"autotypenumbers\":\"strict\",\"colorway\":[\"#636efa\",\"#EF553B\",\"#00cc96\",\"#ab63fa\",\"#FFA15A\",\"#19d3f3\",\"#FF6692\",\"#B6E880\",\"#FF97FF\",\"#FECB52\"],\"font\":{\"color\":\"#2a3f5f\"},\"hovermode\":\"closest\",\"hoverlabel\":{\"align\":\"left\"},\"paper_bgcolor\":\"white\",\"plot_bgcolor\":\"#E5ECF6\",\"polar\":{\"bgcolor\":\"#E5ECF6\",\"angularaxis\":{\"gridcolor\":\"white\",\"linecolor\":\"white\",\"ticks\":\"\"},\"radialaxis\":{\"gridcolor\":\"white\",\"linecolor\":\"white\",\"ticks\":\"\"}},\"ternary\":{\"bgcolor\":\"#E5ECF6\",\"aaxis\":{\"gridcolor\":\"white\",\"linecolor\":\"white\",\"ticks\":\"\"},\"baxis\":{\"gridcolor\":\"white\",\"linecolor\":\"white\",\"ticks\":\"\"},\"caxis\":{\"gridcolor\":\"white\",\"linecolor\":\"white\",\"ticks\":\"\"}},\"coloraxis\":{\"colorbar\":{\"outlinewidth\":0,\"ticks\":\"\"}},\"colorscale\":{\"sequential\":[[0.0,\"#0d0887\"],[0.1111111111111111,\"#46039f\"],[0.2222222222222222,\"#7201a8\"],[0.3333333333333333,\"#9c179e\"],[0.4444444444444444,\"#bd3786\"],[0.5555555555555556,\"#d8576b\"],[0.6666666666666666,\"#ed7953\"],[0.7777777777777778,\"#fb9f3a\"],[0.8888888888888888,\"#fdca26\"],[1.0,\"#f0f921\"]],\"sequentialminus\":[[0.0,\"#0d0887\"],[0.1111111111111111,\"#46039f\"],[0.2222222222222222,\"#7201a8\"],[0.3333333333333333,\"#9c179e\"],[0.4444444444444444,\"#bd3786\"],[0.5555555555555556,\"#d8576b\"],[0.6666666666666666,\"#ed7953\"],[0.7777777777777778,\"#fb9f3a\"],[0.8888888888888888,\"#fdca26\"],[1.0,\"#f0f921\"]],\"diverging\":[[0,\"#8e0152\"],[0.1,\"#c51b7d\"],[0.2,\"#de77ae\"],[0.3,\"#f1b6da\"],[0.4,\"#fde0ef\"],[0.5,\"#f7f7f7\"],[0.6,\"#e6f5d0\"],[0.7,\"#b8e186\"],[0.8,\"#7fbc41\"],[0.9,\"#4d9221\"],[1,\"#276419\"]]},\"xaxis\":{\"gridcolor\":\"white\",\"linecolor\":\"white\",\"ticks\":\"\",\"title\":{\"standoff\":15},\"zerolinecolor\":\"white\",\"automargin\":true,\"zerolinewidth\":2},\"yaxis\":{\"gridcolor\":\"white\",\"linecolor\":\"white\",\"ticks\":\"\",\"title\":{\"standoff\":15},\"zerolinecolor\":\"white\",\"automargin\":true,\"zerolinewidth\":2},\"scene\":{\"xaxis\":{\"backgroundcolor\":\"#E5ECF6\",\"gridcolor\":\"white\",\"linecolor\":\"white\",\"showbackground\":true,\"ticks\":\"\",\"zerolinecolor\":\"white\",\"gridwidth\":2},\"yaxis\":{\"backgroundcolor\":\"#E5ECF6\",\"gridcolor\":\"white\",\"linecolor\":\"white\",\"showbackground\":true,\"ticks\":\"\",\"zerolinecolor\":\"white\",\"gridwidth\":2},\"zaxis\":{\"backgroundcolor\":\"#E5ECF6\",\"gridcolor\":\"white\",\"linecolor\":\"white\",\"showbackground\":true,\"ticks\":\"\",\"zerolinecolor\":\"white\",\"gridwidth\":2}},\"shapedefaults\":{\"line\":{\"color\":\"#2a3f5f\"}},\"annotationdefaults\":{\"arrowcolor\":\"#2a3f5f\",\"arrowhead\":0,\"arrowwidth\":1},\"geo\":{\"bgcolor\":\"white\",\"landcolor\":\"#E5ECF6\",\"subunitcolor\":\"white\",\"showland\":true,\"showlakes\":true,\"lakecolor\":\"white\"},\"title\":{\"x\":0.05},\"mapbox\":{\"style\":\"light\"}}},\"coloraxis\":{\"colorbar\":{\"title\":{\"text\":\"count\"}},\"colorscale\":[[0.0,\"rgb(255,255,217)\"],[0.125,\"rgb(237,248,177)\"],[0.25,\"rgb(199,233,180)\"],[0.375,\"rgb(127,205,187)\"],[0.5,\"rgb(65,182,196)\"],[0.625,\"rgb(29,145,192)\"],[0.75,\"rgb(34,94,168)\"],[0.875,\"rgb(37,52,148)\"],[1.0,\"rgb(8,29,88)\"]]},\"legend\":{\"tracegroupgap\":0},\"margin\":{\"t\":50,\"l\":25,\"r\":25,\"b\":25}},                        {\"responsive\": true}                    ).then(function(){\n                            \nvar gd = document.getElementById('7021c864-d3e5-40a6-8401-8d489e2679d6');\nvar x = new MutationObserver(function (mutations, observer) {{\n        var display = window.getComputedStyle(gd).display;\n        if (!display || display === 'none') {{\n            console.log([gd, 'removed!']);\n            Plotly.purge(gd);\n            observer.disconnect();\n        }}\n}});\n\n// Listen for the removal of the full notebook cells\nvar notebookContainer = gd.closest('#notebook-container');\nif (notebookContainer) {{\n    x.observe(notebookContainer, {childList: true});\n}}\n\n// Listen for the clearing of the current output cell\nvar outputEl = gd.closest('.output');\nif (outputEl) {{\n    x.observe(outputEl, {childList: true});\n}}\n\n                        })                };                });            </script>        </div>"
          },
          "metadata": {}
        }
      ]
    },
    {
      "cell_type": "code",
      "source": [],
      "metadata": {
        "trusted": true,
        "id": "JMBlk0xGUxLl"
      },
      "execution_count": null,
      "outputs": []
    },
    {
      "cell_type": "code",
      "source": [
        "no_categoryCode = data.drop_duplicates(subset='product_id')['main_category'].isna().sum()\n",
        "no_categoryCode"
      ],
      "metadata": {
        "execution": {
          "iopub.status.busy": "2024-07-11T14:58:18.267258Z",
          "iopub.execute_input": "2024-07-11T14:58:18.267548Z",
          "iopub.status.idle": "2024-07-11T14:58:18.339109Z",
          "shell.execute_reply.started": "2024-07-11T14:58:18.267525Z",
          "shell.execute_reply": "2024-07-11T14:58:18.338115Z"
        },
        "trusted": true,
        "id": "w-v-6v8XUxLl",
        "outputId": "04edbff8-70c4-4624-adcd-b01aeb7df32f"
      },
      "execution_count": null,
      "outputs": [
        {
          "execution_count": 30,
          "output_type": "execute_result",
          "data": {
            "text/plain": "41490"
          },
          "metadata": {}
        }
      ]
    },
    {
      "cell_type": "code",
      "source": [
        "have_categoryCode = category_counts['count'].sum()\n",
        "have_categoryCode"
      ],
      "metadata": {
        "execution": {
          "iopub.status.busy": "2024-07-11T14:58:18.340369Z",
          "iopub.execute_input": "2024-07-11T14:58:18.341009Z",
          "iopub.status.idle": "2024-07-11T14:58:18.347592Z",
          "shell.execute_reply.started": "2024-07-11T14:58:18.340972Z",
          "shell.execute_reply": "2024-07-11T14:58:18.346662Z"
        },
        "trusted": true,
        "id": "58cYzg9qUxLl",
        "outputId": "aaa04469-3f08-4b0b-9ea8-49535f271a53"
      },
      "execution_count": null,
      "outputs": [
        {
          "execution_count": 31,
          "output_type": "execute_result",
          "data": {
            "text/plain": "409"
          },
          "metadata": {}
        }
      ]
    },
    {
      "cell_type": "code",
      "source": [
        "# There are many products have no code, the percentage are:\n",
        "no_categoryCode = data.drop_duplicates(subset='product_id')['main_category'].isna().sum()\n",
        "have_categoryCode = category_counts['count'].sum()\n",
        "print('Percentage of products have category_code: {0:.2f}%'.format(100*have_categoryCode/(have_categoryCode+no_categoryCode)))\n",
        "print('Percentage of products have NO category_code: {0:.2f}%'.format(100*no_categoryCode/(have_categoryCode+no_categoryCode)))"
      ],
      "metadata": {
        "execution": {
          "iopub.status.busy": "2024-07-11T14:58:18.348941Z",
          "iopub.execute_input": "2024-07-11T14:58:18.349362Z",
          "iopub.status.idle": "2024-07-11T14:58:18.421510Z",
          "shell.execute_reply.started": "2024-07-11T14:58:18.349335Z",
          "shell.execute_reply": "2024-07-11T14:58:18.420446Z"
        },
        "trusted": true,
        "id": "YcbpCwiIUxLm",
        "outputId": "9247163a-e27f-4707-c28c-aba7a4c517b9"
      },
      "execution_count": null,
      "outputs": [
        {
          "name": "stdout",
          "text": "Percentage of products have category_code: 0.98%\nPercentage of products have NO category_code: 99.02%\n",
          "output_type": "stream"
        }
      ]
    },
    {
      "cell_type": "code",
      "source": [],
      "metadata": {
        "id": "Ykahe71iUxLn"
      },
      "execution_count": null,
      "outputs": []
    },
    {
      "cell_type": "code",
      "source": [],
      "metadata": {
        "trusted": true,
        "id": "wlZIlKGbUxLn"
      },
      "execution_count": null,
      "outputs": []
    },
    {
      "cell_type": "code",
      "source": [
        "# Group products with category ids\n",
        "catId_data = data.drop_duplicates(subset='product_id').groupby(['category_id'])\n",
        "\n",
        "# Count for inconsistent id and code\n",
        "non_consistent = 0\n",
        "for cat_id, group in catId_data:\n",
        "    unique_codes = group['sub_category'].unique() # since sub-categories reflect catergory codes\n",
        "\n",
        "    if len(unique_codes) > 1:\n",
        "        print(f\"For category_id {cat_id}, multiple category_codes exist: {unique_codes}\")\n",
        "        non_consistent+=1\n",
        "\n",
        "print(f\"Found {non_consistent} inconsistent category_id and category_code\")"
      ],
      "metadata": {
        "execution": {
          "iopub.status.busy": "2024-07-11T14:58:18.422547Z",
          "iopub.execute_input": "2024-07-11T14:58:18.422810Z",
          "iopub.status.idle": "2024-07-11T14:58:18.536860Z",
          "shell.execute_reply.started": "2024-07-11T14:58:18.422787Z",
          "shell.execute_reply": "2024-07-11T14:58:18.535829Z"
        },
        "trusted": true,
        "id": "XREcKkhfUxLn",
        "outputId": "8ffb12d7-c64a-4058-c6dc-8837a94fd914"
      },
      "execution_count": null,
      "outputs": [
        {
          "name": "stdout",
          "text": "Found 0 inconsistent category_id and category_code\n",
          "output_type": "stream"
        },
        {
          "name": "stderr",
          "text": "/tmp/ipykernel_32/3631185736.py:6: FutureWarning:\n\nIn a future version of pandas, a length 1 tuple will be returned when iterating over a groupby with a grouper equal to a list of length 1. Don't supply a list with a single grouper to avoid this warning.\n\n",
          "output_type": "stream"
        }
      ]
    },
    {
      "cell_type": "markdown",
      "source": [
        "## 1.2. Products with Zero-price"
      ],
      "metadata": {
        "id": "TtEhO2tmUxLn"
      }
    },
    {
      "cell_type": "code",
      "source": [
        "zero_price = data[data['price']==0]\n",
        "zero_price.head(10)"
      ],
      "metadata": {
        "execution": {
          "iopub.status.busy": "2024-07-11T14:58:18.542122Z",
          "iopub.execute_input": "2024-07-11T14:58:18.542684Z",
          "iopub.status.idle": "2024-07-11T14:58:18.571881Z",
          "shell.execute_reply.started": "2024-07-11T14:58:18.542656Z",
          "shell.execute_reply": "2024-07-11T14:58:18.571023Z"
        },
        "trusted": true,
        "id": "M7YN3X5XUxLn",
        "outputId": "8bb8b9de-ddc2-4b4b-fa3e-fba7f17c63ef"
      },
      "execution_count": null,
      "outputs": [
        {
          "execution_count": 34,
          "output_type": "execute_result",
          "data": {
            "text/plain": "                    event_time event_type  product_id          category_id  \\\n2454   2019-10-01 02:05:17 UTC       view     5892084  1597770225539875791   \n2614   2019-10-01 02:15:41 UTC       view     5892052  1487580010377117763   \n5686   2019-10-01 04:25:00 UTC       view     5873432  2007399943458784057   \n6086   2019-10-01 04:33:15 UTC       view     5882605  1487580013522845895   \n8344   2019-10-01 05:16:30 UTC       view     5889621  1487580010561667147   \n8417   2019-10-01 05:18:03 UTC       view     5889622  1487580010561667147   \n8465   2019-10-01 05:18:46 UTC       view     5889623  1487580010561667147   \n8950   2019-10-01 05:24:38 UTC       view     5873431  2007399943458784057   \n10125  2019-10-01 05:38:01 UTC       view     5889627  1487580010561667147   \n10154  2019-10-01 05:38:32 UTC       view     5889628  1487580010561667147   \n\n      main_category sub_category brand  price    user_id  \\\n2454            NaN          NaN   NaN    0.0  555458569   \n2614            NaN          NaN   NaN    0.0  555455025   \n5686        apparel        glove   NaN    0.0  500054739   \n6086            NaN          NaN   NaN    0.0  523154930   \n8344            NaN          NaN   NaN    0.0  523988665   \n8417            NaN          NaN   NaN    0.0  523988665   \n8465            NaN          NaN   NaN    0.0  523988665   \n8950        apparel        glove   NaN    0.0  542778344   \n10125           NaN          NaN   NaN    0.0  523988665   \n10154           NaN          NaN   NaN    0.0  523988665   \n\n                               user_session  \n2454   c048be2f-547d-4add-9bc6-09aa1e7ae9de  \n2614   320f6021-30ac-4a58-ae17-bac1cc32aac3  \n5686   701220b4-45b4-4028-bcc3-5d77480253ff  \n6086   caaf1f68-7b97-4d27-9c3d-8b28c2920ffd  \n8344   00849bd2-fcd2-4cb4-af31-4e264f151848  \n8417   80cfe614-f0a5-4101-a2b6-a21227590470  \n8465   c2cd0464-3d2b-48e2-9667-bac248fe297a  \n8950   7c4f6972-ead8-46f1-85d4-e7d7028f06c3  \n10125  8b2bf9d8-43f0-43b2-bed3-13b2c956cada  \n10154  b7087089-41f5-48bc-b7eb-52fea86fa22c  ",
            "text/html": "<div>\n<style scoped>\n    .dataframe tbody tr th:only-of-type {\n        vertical-align: middle;\n    }\n\n    .dataframe tbody tr th {\n        vertical-align: top;\n    }\n\n    .dataframe thead th {\n        text-align: right;\n    }\n</style>\n<table border=\"1\" class=\"dataframe\">\n  <thead>\n    <tr style=\"text-align: right;\">\n      <th></th>\n      <th>event_time</th>\n      <th>event_type</th>\n      <th>product_id</th>\n      <th>category_id</th>\n      <th>main_category</th>\n      <th>sub_category</th>\n      <th>brand</th>\n      <th>price</th>\n      <th>user_id</th>\n      <th>user_session</th>\n    </tr>\n  </thead>\n  <tbody>\n    <tr>\n      <th>2454</th>\n      <td>2019-10-01 02:05:17 UTC</td>\n      <td>view</td>\n      <td>5892084</td>\n      <td>1597770225539875791</td>\n      <td>NaN</td>\n      <td>NaN</td>\n      <td>NaN</td>\n      <td>0.0</td>\n      <td>555458569</td>\n      <td>c048be2f-547d-4add-9bc6-09aa1e7ae9de</td>\n    </tr>\n    <tr>\n      <th>2614</th>\n      <td>2019-10-01 02:15:41 UTC</td>\n      <td>view</td>\n      <td>5892052</td>\n      <td>1487580010377117763</td>\n      <td>NaN</td>\n      <td>NaN</td>\n      <td>NaN</td>\n      <td>0.0</td>\n      <td>555455025</td>\n      <td>320f6021-30ac-4a58-ae17-bac1cc32aac3</td>\n    </tr>\n    <tr>\n      <th>5686</th>\n      <td>2019-10-01 04:25:00 UTC</td>\n      <td>view</td>\n      <td>5873432</td>\n      <td>2007399943458784057</td>\n      <td>apparel</td>\n      <td>glove</td>\n      <td>NaN</td>\n      <td>0.0</td>\n      <td>500054739</td>\n      <td>701220b4-45b4-4028-bcc3-5d77480253ff</td>\n    </tr>\n    <tr>\n      <th>6086</th>\n      <td>2019-10-01 04:33:15 UTC</td>\n      <td>view</td>\n      <td>5882605</td>\n      <td>1487580013522845895</td>\n      <td>NaN</td>\n      <td>NaN</td>\n      <td>NaN</td>\n      <td>0.0</td>\n      <td>523154930</td>\n      <td>caaf1f68-7b97-4d27-9c3d-8b28c2920ffd</td>\n    </tr>\n    <tr>\n      <th>8344</th>\n      <td>2019-10-01 05:16:30 UTC</td>\n      <td>view</td>\n      <td>5889621</td>\n      <td>1487580010561667147</td>\n      <td>NaN</td>\n      <td>NaN</td>\n      <td>NaN</td>\n      <td>0.0</td>\n      <td>523988665</td>\n      <td>00849bd2-fcd2-4cb4-af31-4e264f151848</td>\n    </tr>\n    <tr>\n      <th>8417</th>\n      <td>2019-10-01 05:18:03 UTC</td>\n      <td>view</td>\n      <td>5889622</td>\n      <td>1487580010561667147</td>\n      <td>NaN</td>\n      <td>NaN</td>\n      <td>NaN</td>\n      <td>0.0</td>\n      <td>523988665</td>\n      <td>80cfe614-f0a5-4101-a2b6-a21227590470</td>\n    </tr>\n    <tr>\n      <th>8465</th>\n      <td>2019-10-01 05:18:46 UTC</td>\n      <td>view</td>\n      <td>5889623</td>\n      <td>1487580010561667147</td>\n      <td>NaN</td>\n      <td>NaN</td>\n      <td>NaN</td>\n      <td>0.0</td>\n      <td>523988665</td>\n      <td>c2cd0464-3d2b-48e2-9667-bac248fe297a</td>\n    </tr>\n    <tr>\n      <th>8950</th>\n      <td>2019-10-01 05:24:38 UTC</td>\n      <td>view</td>\n      <td>5873431</td>\n      <td>2007399943458784057</td>\n      <td>apparel</td>\n      <td>glove</td>\n      <td>NaN</td>\n      <td>0.0</td>\n      <td>542778344</td>\n      <td>7c4f6972-ead8-46f1-85d4-e7d7028f06c3</td>\n    </tr>\n    <tr>\n      <th>10125</th>\n      <td>2019-10-01 05:38:01 UTC</td>\n      <td>view</td>\n      <td>5889627</td>\n      <td>1487580010561667147</td>\n      <td>NaN</td>\n      <td>NaN</td>\n      <td>NaN</td>\n      <td>0.0</td>\n      <td>523988665</td>\n      <td>8b2bf9d8-43f0-43b2-bed3-13b2c956cada</td>\n    </tr>\n    <tr>\n      <th>10154</th>\n      <td>2019-10-01 05:38:32 UTC</td>\n      <td>view</td>\n      <td>5889628</td>\n      <td>1487580010561667147</td>\n      <td>NaN</td>\n      <td>NaN</td>\n      <td>NaN</td>\n      <td>0.0</td>\n      <td>523988665</td>\n      <td>b7087089-41f5-48bc-b7eb-52fea86fa22c</td>\n    </tr>\n  </tbody>\n</table>\n</div>"
          },
          "metadata": {}
        }
      ]
    },
    {
      "cell_type": "markdown",
      "source": [
        "It seems like those 0-price product has **no brand** and some are with **undefined category code**, let's check it out"
      ],
      "metadata": {
        "id": "L8aZnmUTUxLo"
      }
    },
    {
      "cell_type": "code",
      "source": [],
      "metadata": {
        "id": "yQdDEZuIUxLo"
      },
      "execution_count": null,
      "outputs": []
    },
    {
      "cell_type": "code",
      "source": [
        "zeroprice_total = zero_price['product_id'].nunique()\n",
        "print('Total 0-price products: ', zeroprice_total)\n",
        "nobrand_zeroprice_percentage = 100*zero_price[zero_price['brand'].isna()]['product_id'].nunique()/zeroprice_total\n",
        "print('Pecentage of 0-price products has no brand: {0:.2f}%'.format(nobrand_zeroprice_percentage))\n",
        "zeroprice_percentage = 100*zero_price['product_id'].nunique()/data['product_id'].nunique()\n",
        "print('Pecentage of 0-price products per all products: {0:.2f}%'.format(zeroprice_percentage))\n",
        "nobrand_percentage = 100*data[data['brand'].isna()]['product_id'].nunique()/data['product_id'].nunique()\n",
        "print('Pecentage of products has no brand per all products: {0:.2f}%'.format(nobrand_percentage))"
      ],
      "metadata": {
        "execution": {
          "iopub.status.busy": "2024-07-11T14:58:18.572868Z",
          "iopub.execute_input": "2024-07-11T14:58:18.573143Z",
          "iopub.status.idle": "2024-07-11T14:58:19.203165Z",
          "shell.execute_reply.started": "2024-07-11T14:58:18.573119Z",
          "shell.execute_reply": "2024-07-11T14:58:19.201896Z"
        },
        "trusted": true,
        "id": "GcVlpaKsUxLo",
        "outputId": "2e52de98-d7dc-411f-d608-df2781e34017"
      },
      "execution_count": null,
      "outputs": [
        {
          "name": "stdout",
          "text": "Total 0-price products:  1420\nPecentage of 0-price products has no brand: 99.79%\nPecentage of 0-price products per all products: 3.39%\nPecentage of products has no brand per all products: 44.16%\n",
          "output_type": "stream"
        }
      ]
    },
    {
      "cell_type": "markdown",
      "source": [
        "0-price products are potentially due to:\n",
        "\n",
        "1. **Missing information**: The unknown brand and 0 USD price might indicate that these products are placeholders or items for which complete information hasn't been entered into the dataset.\n",
        "\n",
        "2. **Free or Promotional Items**: A 0 USD price might be intentional to indicate that the product is not being sold but rather offered as a promotion.\n",
        "\n",
        "3. **Special Cases**: Some products might genuinely have a 0 USD price due to unique circumstances. For example, a software product with a freemium model might have a free version with a 0 USD price. Or products that have not show and the prices can be considered as **placeholder prices**.\n",
        "\n",
        "Further analysis will be investigated more to figure out the potential state of these products by looking at their correlations, so that we can have a suitable solution to handle on those values."
      ],
      "metadata": {
        "id": "nL1Fm__4UxLo"
      }
    },
    {
      "cell_type": "code",
      "source": [
        "# Main category of those product?\n",
        "zeroprice_mainCat = zero_price.groupby('main_category')['product_id'].nunique()\n",
        "zeroprice_mainCat"
      ],
      "metadata": {
        "execution": {
          "iopub.status.busy": "2024-07-11T14:58:19.204343Z",
          "iopub.execute_input": "2024-07-11T14:58:19.204653Z",
          "iopub.status.idle": "2024-07-11T14:58:19.215396Z",
          "shell.execute_reply.started": "2024-07-11T14:58:19.204626Z",
          "shell.execute_reply": "2024-07-11T14:58:19.214285Z"
        },
        "trusted": true,
        "id": "uy5nNpJNUxLp",
        "outputId": "ffed3502-bea6-4198-c7f2-f915a93a03d5"
      },
      "execution_count": null,
      "outputs": [
        {
          "execution_count": 36,
          "output_type": "execute_result",
          "data": {
            "text/plain": "main_category\napparel       6\nappliances    2\nstationery    5\nName: product_id, dtype: int64"
          },
          "metadata": {}
        }
      ]
    },
    {
      "cell_type": "markdown",
      "source": [],
      "metadata": {
        "id": "Kit-3NgvUxLp"
      }
    },
    {
      "cell_type": "code",
      "source": [
        "# Calculate the percentage of zero-price products by main category\n",
        "percentage_zero_price = zeroprice_mainCat/mainCat_values * 100\n",
        "\n",
        "# Create a bar chart\n",
        "plt.figure(figsize=(10, 6))\n",
        "plt.bar(percentage_zero_price.index, percentage_zero_price, color='blue')\n",
        "plt.title('Percentage of Zero-price Products by Main Category')\n",
        "plt.xlabel('Main Category')\n",
        "plt.ylabel('Percentage')\n",
        "plt.xticks(rotation=45, ha='right')\n",
        "plt.ylim(0, 30)  # Set y-axis limit to 0-100 for percentage\n",
        "\n",
        "# Format y-axis labels as percentages\n",
        "plt.gca().yaxis.set_major_formatter(plt.FuncFormatter(lambda x, _: f'{int(x)}%'))\n",
        "\n",
        "# Show the plot\n",
        "plt.tight_layout()\n",
        "plt.show()\n"
      ],
      "metadata": {
        "execution": {
          "iopub.status.busy": "2024-07-11T14:58:19.216724Z",
          "iopub.execute_input": "2024-07-11T14:58:19.217091Z",
          "iopub.status.idle": "2024-07-11T14:58:19.592112Z",
          "shell.execute_reply.started": "2024-07-11T14:58:19.217045Z",
          "shell.execute_reply": "2024-07-11T14:58:19.591108Z"
        },
        "trusted": true,
        "id": "PmRQ1ZwyUxLp",
        "outputId": "9e9e790c-8767-4590-bd85-ba9687457cba"
      },
      "execution_count": null,
      "outputs": [
        {
          "output_type": "display_data",
          "data": {
            "text/plain": "<Figure size 1000x600 with 1 Axes>",
            "image/png": "[encoded data removed]"
          },
          "metadata": {}
        }
      ]
    },
    {
      "cell_type": "code",
      "source": [
        "# Donut chart of event_type\n",
        "zeroprice_event_names = zero_price['event_type'].unique()\n",
        "zeroprice_event_values = zero_price['event_type'].value_counts()\n",
        "fig = px.pie(names=zeroprice_event_names, values=zeroprice_event_values, hole=0.3)\n",
        "fig.update_layout({\"title\":{\"text\":\"Distibution of zero-price product events\", \"x\":0.50}})\n",
        "fig.show()"
      ],
      "metadata": {
        "execution": {
          "iopub.status.busy": "2024-07-11T14:58:19.593450Z",
          "iopub.execute_input": "2024-07-11T14:58:19.593783Z",
          "iopub.status.idle": "2024-07-11T14:58:19.651979Z",
          "shell.execute_reply.started": "2024-07-11T14:58:19.593756Z",
          "shell.execute_reply": "2024-07-11T14:58:19.651060Z"
        },
        "trusted": true,
        "id": "kkS6-fcEUxLp",
        "outputId": "c4f88c61-715f-484c-e1f1-fcf3109ae02a"
      },
      "execution_count": null,
      "outputs": [
        {
          "output_type": "display_data",
          "data": {
            "text/html": "<div>                            <div id=\"524b99e7-eea1-4da2-81b7-1570efcc9318\" class=\"plotly-graph-div\" style=\"height:525px; width:100%;\"></div>            <script type=\"text/javascript\">                require([\"plotly\"], function(Plotly) {                    window.PLOTLYENV=window.PLOTLYENV || {};                                    if (document.getElementById(\"524b99e7-eea1-4da2-81b7-1570efcc9318\")) {                    Plotly.newPlot(                        \"524b99e7-eea1-4da2-81b7-1570efcc9318\",                        [{\"domain\":{\"x\":[0.0,1.0],\"y\":[0.0,1.0]},\"hole\":0.3,\"hovertemplate\":\"label=%{label}\\u003cbr\\u003evalue=%{value}\\u003cextra\\u003e\\u003c\\u002fextra\\u003e\",\"labels\":[\"view\",\"cart\",\"remove_from_cart\"],\"legendgroup\":\"\",\"name\":\"\",\"showlegend\":true,\"values\":[5372,540,114],\"type\":\"pie\"}],                        {\"template\":{\"data\":{\"histogram2dcontour\":[{\"type\":\"histogram2dcontour\",\"colorbar\":{\"outlinewidth\":0,\"ticks\":\"\"},\"colorscale\":[[0.0,\"#0d0887\"],[0.1111111111111111,\"#46039f\"],[0.2222222222222222,\"#7201a8\"],[0.3333333333333333,\"#9c179e\"],[0.4444444444444444,\"#bd3786\"],[0.5555555555555556,\"#d8576b\"],[0.6666666666666666,\"#ed7953\"],[0.7777777777777778,\"#fb9f3a\"],[0.8888888888888888,\"#fdca26\"],[1.0,\"#f0f921\"]]}],\"choropleth\":[{\"type\":\"choropleth\",\"colorbar\":{\"outlinewidth\":0,\"ticks\":\"\"}}],\"histogram2d\":[{\"type\":\"histogram2d\",\"colorbar\":{\"outlinewidth\":0,\"ticks\":\"\"},\"colorscale\":[[0.0,\"#0d0887\"],[0.1111111111111111,\"#46039f\"],[0.2222222222222222,\"#7201a8\"],[0.3333333333333333,\"#9c179e\"],[0.4444444444444444,\"#bd3786\"],[0.5555555555555556,\"#d8576b\"],[0.6666666666666666,\"#ed7953\"],[0.7777777777777778,\"#fb9f3a\"],[0.8888888888888888,\"#fdca26\"],[1.0,\"#f0f921\"]]}],\"heatmap\":[{\"type\":\"heatmap\",\"colorbar\":{\"outlinewidth\":0,\"ticks\":\"\"},\"colorscale\":[[0.0,\"#0d0887\"],[0.1111111111111111,\"#46039f\"],[0.2222222222222222,\"#7201a8\"],[0.3333333333333333,\"#9c179e\"],[0.4444444444444444,\"#bd3786\"],[0.5555555555555556,\"#d8576b\"],[0.6666666666666666,\"#ed7953\"],[0.7777777777777778,\"#fb9f3a\"],[0.8888888888888888,\"#fdca26\"],[1.0,\"#f0f921\"]]}],\"heatmapgl\":[{\"type\":\"heatmapgl\",\"colorbar\":{\"outlinewidth\":0,\"ticks\":\"\"},\"colorscale\":[[0.0,\"#0d0887\"],[0.1111111111111111,\"#46039f\"],[0.2222222222222222,\"#7201a8\"],[0.3333333333333333,\"#9c179e\"],[0.4444444444444444,\"#bd3786\"],[0.5555555555555556,\"#d8576b\"],[0.6666666666666666,\"#ed7953\"],[0.7777777777777778,\"#fb9f3a\"],[0.8888888888888888,\"#fdca26\"],[1.0,\"#f0f921\"]]}],\"contourcarpet\":[{\"type\":\"contourcarpet\",\"colorbar\":{\"outlinewidth\":0,\"ticks\":\"\"}}],\"contour\":[{\"type\":\"contour\",\"colorbar\":{\"outlinewidth\":0,\"ticks\":\"\"},\"colorscale\":[[0.0,\"#0d0887\"],[0.1111111111111111,\"#46039f\"],[0.2222222222222222,\"#7201a8\"],[0.3333333333333333,\"#9c179e\"],[0.4444444444444444,\"#bd3786\"],[0.5555555555555556,\"#d8576b\"],[0.6666666666666666,\"#ed7953\"],[0.7777777777777778,\"#fb9f3a\"],[0.8888888888888888,\"#fdca26\"],[1.0,\"#f0f921\"]]}],\"surface\":[{\"type\":\"surface\",\"colorbar\":{\"outlinewidth\":0,\"ticks\":\"\"},\"colorscale\":[[0.0,\"#0d0887\"],[0.1111111111111111,\"#46039f\"],[0.2222222222222222,\"#7201a8\"],[0.3333333333333333,\"#9c179e\"],[0.4444444444444444,\"#bd3786\"],[0.5555555555555556,\"#d8576b\"],[0.6666666666666666,\"#ed7953\"],[0.7777777777777778,\"#fb9f3a\"],[0.8888888888888888,\"#fdca26\"],[1.0,\"#f0f921\"]]}],\"mesh3d\":[{\"type\":\"mesh3d\",\"colorbar\":{\"outlinewidth\":0,\"ticks\":\"\"}}],\"scatter\":[{\"fillpattern\":{\"fillmode\":\"overlay\",\"size\":10,\"solidity\":0.2},\"type\":\"scatter\"}],\"parcoords\":[{\"type\":\"parcoords\",\"line\":{\"colorbar\":{\"outlinewidth\":0,\"ticks\":\"\"}}}],\"scatterpolargl\":[{\"type\":\"scatterpolargl\",\"marker\":{\"colorbar\":{\"outlinewidth\":0,\"ticks\":\"\"}}}],\"bar\":[{\"error_x\":{\"color\":\"#2a3f5f\"},\"error_y\":{\"color\":\"#2a3f5f\"},\"marker\":{\"line\":{\"color\":\"#E5ECF6\",\"width\":0.5},\"pattern\":{\"fillmode\":\"overlay\",\"size\":10,\"solidity\":0.2}},\"type\":\"bar\"}],\"scattergeo\":[{\"type\":\"scattergeo\",\"marker\":{\"colorbar\":{\"outlinewidth\":0,\"ticks\":\"\"}}}],\"scatterpolar\":[{\"type\":\"scatterpolar\",\"marker\":{\"colorbar\":{\"outlinewidth\":0,\"ticks\":\"\"}}}],\"histogram\":[{\"marker\":{\"pattern\":{\"fillmode\":\"overlay\",\"size\":10,\"solidity\":0.2}},\"type\":\"histogram\"}],\"scattergl\":[{\"type\":\"scattergl\",\"marker\":{\"colorbar\":{\"outlinewidth\":0,\"ticks\":\"\"}}}],\"scatter3d\":[{\"type\":\"scatter3d\",\"line\":{\"colorbar\":{\"outlinewidth\":0,\"ticks\":\"\"}},\"marker\":{\"colorbar\":{\"outlinewidth\":0,\"ticks\":\"\"}}}],\"scattermapbox\":[{\"type\":\"scattermapbox\",\"marker\":{\"colorbar\":{\"outlinewidth\":0,\"ticks\":\"\"}}}],\"scatterternary\":[{\"type\":\"scatterternary\",\"marker\":{\"colorbar\":{\"outlinewidth\":0,\"ticks\":\"\"}}}],\"scattercarpet\":[{\"type\":\"scattercarpet\",\"marker\":{\"colorbar\":{\"outlinewidth\":0,\"ticks\":\"\"}}}],\"carpet\":[{\"aaxis\":{\"endlinecolor\":\"#2a3f5f\",\"gridcolor\":\"white\",\"linecolor\":\"white\",\"minorgridcolor\":\"white\",\"startlinecolor\":\"#2a3f5f\"},\"baxis\":{\"endlinecolor\":\"#2a3f5f\",\"gridcolor\":\"white\",\"linecolor\":\"white\",\"minorgridcolor\":\"white\",\"startlinecolor\":\"#2a3f5f\"},\"type\":\"carpet\"}],\"table\":[{\"cells\":{\"fill\":{\"color\":\"#EBF0F8\"},\"line\":{\"color\":\"white\"}},\"header\":{\"fill\":{\"color\":\"#C8D4E3\"},\"line\":{\"color\":\"white\"}},\"type\":\"table\"}],\"barpolar\":[{\"marker\":{\"line\":{\"color\":\"#E5ECF6\",\"width\":0.5},\"pattern\":{\"fillmode\":\"overlay\",\"size\":10,\"solidity\":0.2}},\"type\":\"barpolar\"}],\"pie\":[{\"automargin\":true,\"type\":\"pie\"}]},\"layout\":{\"autotypenumbers\":\"strict\",\"colorway\":[\"#636efa\",\"#EF553B\",\"#00cc96\",\"#ab63fa\",\"#FFA15A\",\"#19d3f3\",\"#FF6692\",\"#B6E880\",\"#FF97FF\",\"#FECB52\"],\"font\":{\"color\":\"#2a3f5f\"},\"hovermode\":\"closest\",\"hoverlabel\":{\"align\":\"left\"},\"paper_bgcolor\":\"white\",\"plot_bgcolor\":\"#E5ECF6\",\"polar\":{\"bgcolor\":\"#E5ECF6\",\"angularaxis\":{\"gridcolor\":\"white\",\"linecolor\":\"white\",\"ticks\":\"\"},\"radialaxis\":{\"gridcolor\":\"white\",\"linecolor\":\"white\",\"ticks\":\"\"}},\"ternary\":{\"bgcolor\":\"#E5ECF6\",\"aaxis\":{\"gridcolor\":\"white\",\"linecolor\":\"white\",\"ticks\":\"\"},\"baxis\":{\"gridcolor\":\"white\",\"linecolor\":\"white\",\"ticks\":\"\"},\"caxis\":{\"gridcolor\":\"white\",\"linecolor\":\"white\",\"ticks\":\"\"}},\"coloraxis\":{\"colorbar\":{\"outlinewidth\":0,\"ticks\":\"\"}},\"colorscale\":{\"sequential\":[[0.0,\"#0d0887\"],[0.1111111111111111,\"#46039f\"],[0.2222222222222222,\"#7201a8\"],[0.3333333333333333,\"#9c179e\"],[0.4444444444444444,\"#bd3786\"],[0.5555555555555556,\"#d8576b\"],[0.6666666666666666,\"#ed7953\"],[0.7777777777777778,\"#fb9f3a\"],[0.8888888888888888,\"#fdca26\"],[1.0,\"#f0f921\"]],\"sequentialminus\":[[0.0,\"#0d0887\"],[0.1111111111111111,\"#46039f\"],[0.2222222222222222,\"#7201a8\"],[0.3333333333333333,\"#9c179e\"],[0.4444444444444444,\"#bd3786\"],[0.5555555555555556,\"#d8576b\"],[0.6666666666666666,\"#ed7953\"],[0.7777777777777778,\"#fb9f3a\"],[0.8888888888888888,\"#fdca26\"],[1.0,\"#f0f921\"]],\"diverging\":[[0,\"#8e0152\"],[0.1,\"#c51b7d\"],[0.2,\"#de77ae\"],[0.3,\"#f1b6da\"],[0.4,\"#fde0ef\"],[0.5,\"#f7f7f7\"],[0.6,\"#e6f5d0\"],[0.7,\"#b8e186\"],[0.8,\"#7fbc41\"],[0.9,\"#4d9221\"],[1,\"#276419\"]]},\"xaxis\":{\"gridcolor\":\"white\",\"linecolor\":\"white\",\"ticks\":\"\",\"title\":{\"standoff\":15},\"zerolinecolor\":\"white\",\"automargin\":true,\"zerolinewidth\":2},\"yaxis\":{\"gridcolor\":\"white\",\"linecolor\":\"white\",\"ticks\":\"\",\"title\":{\"standoff\":15},\"zerolinecolor\":\"white\",\"automargin\":true,\"zerolinewidth\":2},\"scene\":{\"xaxis\":{\"backgroundcolor\":\"#E5ECF6\",\"gridcolor\":\"white\",\"linecolor\":\"white\",\"showbackground\":true,\"ticks\":\"\",\"zerolinecolor\":\"white\",\"gridwidth\":2},\"yaxis\":{\"backgroundcolor\":\"#E5ECF6\",\"gridcolor\":\"white\",\"linecolor\":\"white\",\"showbackground\":true,\"ticks\":\"\",\"zerolinecolor\":\"white\",\"gridwidth\":2},\"zaxis\":{\"backgroundcolor\":\"#E5ECF6\",\"gridcolor\":\"white\",\"linecolor\":\"white\",\"showbackground\":true,\"ticks\":\"\",\"zerolinecolor\":\"white\",\"gridwidth\":2}},\"shapedefaults\":{\"line\":{\"color\":\"#2a3f5f\"}},\"annotationdefaults\":{\"arrowcolor\":\"#2a3f5f\",\"arrowhead\":0,\"arrowwidth\":1},\"geo\":{\"bgcolor\":\"white\",\"landcolor\":\"#E5ECF6\",\"subunitcolor\":\"white\",\"showland\":true,\"showlakes\":true,\"lakecolor\":\"white\"},\"title\":{\"x\":0.05},\"mapbox\":{\"style\":\"light\"}}},\"legend\":{\"tracegroupgap\":0},\"margin\":{\"t\":60},\"title\":{\"text\":\"Distibution of zero-price product events\",\"x\":0.5}},                        {\"responsive\": true}                    ).then(function(){\n                            \nvar gd = document.getElementById('524b99e7-eea1-4da2-81b7-1570efcc9318');\nvar x = new MutationObserver(function (mutations, observer) {{\n        var display = window.getComputedStyle(gd).display;\n        if (!display || display === 'none') {{\n            console.log([gd, 'removed!']);\n            Plotly.purge(gd);\n            observer.disconnect();\n        }}\n}});\n\n// Listen for the removal of the full notebook cells\nvar notebookContainer = gd.closest('#notebook-container');\nif (notebookContainer) {{\n    x.observe(notebookContainer, {childList: true});\n}}\n\n// Listen for the clearing of the current output cell\nvar outputEl = gd.closest('.output');\nif (outputEl) {{\n    x.observe(outputEl, {childList: true});\n}}\n\n                        })                };                });            </script>        </div>"
          },
          "metadata": {}
        }
      ]
    },
    {
      "cell_type": "code",
      "source": [],
      "metadata": {
        "trusted": true,
        "id": "R8M-CFiRUxLp"
      },
      "execution_count": null,
      "outputs": []
    },
    {
      "cell_type": "code",
      "source": [
        "data.head(10)"
      ],
      "metadata": {
        "execution": {
          "iopub.status.busy": "2024-07-11T14:58:19.653291Z",
          "iopub.execute_input": "2024-07-11T14:58:19.653603Z",
          "iopub.status.idle": "2024-07-11T14:58:19.670108Z",
          "shell.execute_reply.started": "2024-07-11T14:58:19.653576Z",
          "shell.execute_reply": "2024-07-11T14:58:19.669105Z"
        },
        "trusted": true,
        "id": "j9dEbnZNUxLq",
        "outputId": "4a90e3d6-a739-4070-c115-43c851738f0c"
      },
      "execution_count": null,
      "outputs": [
        {
          "execution_count": 39,
          "output_type": "execute_result",
          "data": {
            "text/plain": "                event_time event_type  product_id          category_id  \\\n0  2019-10-01 00:00:00 UTC       cart     5773203  1487580005134238553   \n1  2019-10-01 00:00:03 UTC       cart     5773353  1487580005134238553   \n2  2019-10-01 00:00:07 UTC       cart     5881589  2151191071051219817   \n3  2019-10-01 00:00:07 UTC       cart     5723490  1487580005134238553   \n4  2019-10-01 00:00:15 UTC       cart     5881449  1487580013522845895   \n5  2019-10-01 00:00:16 UTC       cart     5857269  1487580005134238553   \n6  2019-10-01 00:00:19 UTC       cart     5739055  1487580008246412266   \n7  2019-10-01 00:00:24 UTC       cart     5825598  1487580009445982239   \n8  2019-10-01 00:00:25 UTC       cart     5698989  1487580006317032337   \n9  2019-10-01 00:00:26 UTC       view     5875317  2029082628195353599   \n\n  main_category sub_category   brand  price    user_id  \\\n0           NaN          NaN  runail   2.62  463240011   \n1           NaN          NaN  runail   2.62  463240011   \n2           NaN          NaN  lovely  13.48  429681830   \n3           NaN          NaN  runail   2.62  463240011   \n4           NaN          NaN  lovely   0.56  429681830   \n5           NaN          NaN  runail   2.62  430174032   \n6           NaN          NaN  kapous   4.75  377667011   \n7           NaN          NaN     NaN   0.56  467916806   \n8           NaN          NaN     NaN   1.27  385985999   \n9           NaN          NaN     NaN   1.59  474232307   \n\n                           user_session  \n0  26dd6e6e-4dac-4778-8d2c-92e149dab885  \n1  26dd6e6e-4dac-4778-8d2c-92e149dab885  \n2  49e8d843-adf3-428b-a2c3-fe8bc6a307c9  \n3  26dd6e6e-4dac-4778-8d2c-92e149dab885  \n4  49e8d843-adf3-428b-a2c3-fe8bc6a307c9  \n5  73dea1e7-664e-43f4-8b30-d32b9d5af04f  \n6  81326ac6-daa4-4f0a-b488-fd0956a78733  \n7  2f5b5546-b8cb-9ee7-7ecd-84276f8ef486  \n8  d30965e8-1101-44ab-b45d-cc1bb9fae694  \n9  445f2b74-5e4c-427e-b7fa-6e0a28b156fe  ",
            "text/html": "<div>\n<style scoped>\n    .dataframe tbody tr th:only-of-type {\n        vertical-align: middle;\n    }\n\n    .dataframe tbody tr th {\n        vertical-align: top;\n    }\n\n    .dataframe thead th {\n        text-align: right;\n    }\n</style>\n<table border=\"1\" class=\"dataframe\">\n  <thead>\n    <tr style=\"text-align: right;\">\n      <th></th>\n      <th>event_time</th>\n      <th>event_type</th>\n      <th>product_id</th>\n      <th>category_id</th>\n      <th>main_category</th>\n      <th>sub_category</th>\n      <th>brand</th>\n      <th>price</th>\n      <th>user_id</th>\n      <th>user_session</th>\n    </tr>\n  </thead>\n  <tbody>\n    <tr>\n      <th>0</th>\n      <td>2019-10-01 00:00:00 UTC</td>\n      <td>cart</td>\n      <td>5773203</td>\n      <td>1487580005134238553</td>\n      <td>NaN</td>\n      <td>NaN</td>\n      <td>runail</td>\n      <td>2.62</td>\n      <td>463240011</td>\n      <td>26dd6e6e-4dac-4778-8d2c-92e149dab885</td>\n    </tr>\n    <tr>\n      <th>1</th>\n      <td>2019-10-01 00:00:03 UTC</td>\n      <td>cart</td>\n      <td>5773353</td>\n      <td>1487580005134238553</td>\n      <td>NaN</td>\n      <td>NaN</td>\n      <td>runail</td>\n      <td>2.62</td>\n      <td>463240011</td>\n      <td>26dd6e6e-4dac-4778-8d2c-92e149dab885</td>\n    </tr>\n    <tr>\n      <th>2</th>\n      <td>2019-10-01 00:00:07 UTC</td>\n      <td>cart</td>\n      <td>5881589</td>\n      <td>2151191071051219817</td>\n      <td>NaN</td>\n      <td>NaN</td>\n      <td>lovely</td>\n      <td>13.48</td>\n      <td>429681830</td>\n      <td>49e8d843-adf3-428b-a2c3-fe8bc6a307c9</td>\n    </tr>\n    <tr>\n      <th>3</th>\n      <td>2019-10-01 00:00:07 UTC</td>\n      <td>cart</td>\n      <td>5723490</td>\n      <td>1487580005134238553</td>\n      <td>NaN</td>\n      <td>NaN</td>\n      <td>runail</td>\n      <td>2.62</td>\n      <td>463240011</td>\n      <td>26dd6e6e-4dac-4778-8d2c-92e149dab885</td>\n    </tr>\n    <tr>\n      <th>4</th>\n      <td>2019-10-01 00:00:15 UTC</td>\n      <td>cart</td>\n      <td>5881449</td>\n      <td>1487580013522845895</td>\n      <td>NaN</td>\n      <td>NaN</td>\n      <td>lovely</td>\n      <td>0.56</td>\n      <td>429681830</td>\n      <td>49e8d843-adf3-428b-a2c3-fe8bc6a307c9</td>\n    </tr>\n    <tr>\n      <th>5</th>\n      <td>2019-10-01 00:00:16 UTC</td>\n      <td>cart</td>\n      <td>5857269</td>\n      <td>1487580005134238553</td>\n      <td>NaN</td>\n      <td>NaN</td>\n      <td>runail</td>\n      <td>2.62</td>\n      <td>430174032</td>\n      <td>73dea1e7-664e-43f4-8b30-d32b9d5af04f</td>\n    </tr>\n    <tr>\n      <th>6</th>\n      <td>2019-10-01 00:00:19 UTC</td>\n      <td>cart</td>\n      <td>5739055</td>\n      <td>1487580008246412266</td>\n      <td>NaN</td>\n      <td>NaN</td>\n      <td>kapous</td>\n      <td>4.75</td>\n      <td>377667011</td>\n      <td>81326ac6-daa4-4f0a-b488-fd0956a78733</td>\n    </tr>\n    <tr>\n      <th>7</th>\n      <td>2019-10-01 00:00:24 UTC</td>\n      <td>cart</td>\n      <td>5825598</td>\n      <td>1487580009445982239</td>\n      <td>NaN</td>\n      <td>NaN</td>\n      <td>NaN</td>\n      <td>0.56</td>\n      <td>467916806</td>\n      <td>2f5b5546-b8cb-9ee7-7ecd-84276f8ef486</td>\n    </tr>\n    <tr>\n      <th>8</th>\n      <td>2019-10-01 00:00:25 UTC</td>\n      <td>cart</td>\n      <td>5698989</td>\n      <td>1487580006317032337</td>\n      <td>NaN</td>\n      <td>NaN</td>\n      <td>NaN</td>\n      <td>1.27</td>\n      <td>385985999</td>\n      <td>d30965e8-1101-44ab-b45d-cc1bb9fae694</td>\n    </tr>\n    <tr>\n      <th>9</th>\n      <td>2019-10-01 00:00:26 UTC</td>\n      <td>view</td>\n      <td>5875317</td>\n      <td>2029082628195353599</td>\n      <td>NaN</td>\n      <td>NaN</td>\n      <td>NaN</td>\n      <td>1.59</td>\n      <td>474232307</td>\n      <td>445f2b74-5e4c-427e-b7fa-6e0a28b156fe</td>\n    </tr>\n  </tbody>\n</table>\n</div>"
          },
          "metadata": {}
        }
      ]
    },
    {
      "cell_type": "code",
      "source": [
        "# # Some ids\n",
        "# zeroprice_id = [5892084, 5892052, 5873432, 5882605]\n",
        "\n",
        "# # Convert event_time to datetime format\n",
        "# data['event_time'] = pd.to_datetime(data['event_time'])\n",
        "\n",
        "# # Create subplots\n",
        "# fig, axs = plt.subplots(len(zeroprice_id), 1, figsize=(10, 12), sharex=True)\n",
        "\n",
        "# # Plot price history for each product\n",
        "# for i, product_id in enumerate(zeroprice_id):\n",
        "#     product_data = data[data['product_id'] == product_id]\n",
        "#     axs[i].plot(product_data['event_time'], product_data['price'], marker='o', linestyle='-', color='b')\n",
        "#     axs[i].set_title(f'Price History of Product ID {product_id}')\n",
        "#     axs[i].set_ylabel('Price')\n",
        "#     axs[i].grid(True)\n",
        "\n",
        "# axs[len(zeroprice_id) - 1].set_xlabel('Event Time')\n",
        "# plt.xticks(rotation=45)\n",
        "# plt.tight_layout()\n",
        "# plt.show()"
      ],
      "metadata": {
        "execution": {
          "iopub.status.busy": "2024-07-11T14:58:19.671298Z",
          "iopub.execute_input": "2024-07-11T14:58:19.671668Z",
          "iopub.status.idle": "2024-07-11T14:58:19.677534Z",
          "shell.execute_reply.started": "2024-07-11T14:58:19.671619Z",
          "shell.execute_reply": "2024-07-11T14:58:19.676501Z"
        },
        "trusted": true,
        "id": "gcW_FY5gUxLq"
      },
      "execution_count": null,
      "outputs": []
    },
    {
      "cell_type": "code",
      "source": [
        "zeroprice_products = data.groupby('product_id')\n",
        "mean_price = zeroprice_products['price'].mean()\n",
        "zeromean_price = mean_price[mean_price==0]\n",
        "print(zeromean_price)\n",
        "print('Number of products has zero price throughout the whole month: ', len(zeromean_price))"
      ],
      "metadata": {
        "execution": {
          "iopub.status.busy": "2024-07-11T14:58:19.678854Z",
          "iopub.execute_input": "2024-07-11T14:58:19.679297Z",
          "iopub.status.idle": "2024-07-11T14:58:19.804263Z",
          "shell.execute_reply.started": "2024-07-11T14:58:19.679265Z",
          "shell.execute_reply": "2024-07-11T14:58:19.803251Z"
        },
        "trusted": true,
        "id": "hu-Ock2zUxLq",
        "outputId": "52d9e656-60a7-4112-b26d-7008665b9a16"
      },
      "execution_count": null,
      "outputs": [
        {
          "name": "stdout",
          "text": "product_id\n5837453    0.0\n5837553    0.0\n5837554    0.0\n5864610    0.0\n5870110    0.0\n          ... \n5900459    0.0\n5900460    0.0\n5900461    0.0\n5900462    0.0\n5900464    0.0\nName: price, Length: 280, dtype: float64\nNumber of products has zero price throughout the whole month:  280\n",
          "output_type": "stream"
        }
      ]
    },
    {
      "cell_type": "code",
      "source": [],
      "metadata": {
        "id": "snBGPxgbUxLr"
      },
      "execution_count": null,
      "outputs": []
    },
    {
      "cell_type": "code",
      "source": [
        "def cleanBrand_test():\n",
        "    df = {\n",
        "        'product_id': [5773203, 5773353, 5881589, 5773353, 5723490, 5881449, 5857269, 5773203],\n",
        "        'brand': ['a', 'nan', 'c', 'b', 'd', 'd', 'nan', 'g']\n",
        "    }\n",
        "    df = pd.DataFrame(df)\n",
        "    print(df)\n",
        "\n",
        "    # Group by product_id and count distinct brands\n",
        "    product_brands_df = df.groupby('product_id')['brand'].unique().reset_index()\n",
        "    print(product_brands_df)\n",
        "\n",
        "    print(f'Found {len(product_brands_df[product_brands_df.brand.apply(lambda x: len(x) > 1)])} brand with multiple brands')\n",
        "\n",
        "    def clean_brand(brand_list):\n",
        "            for brand in brand_list:\n",
        "                if brand and brand!='nan':\n",
        "                    return brand\n",
        "            return None\n",
        "\n",
        "    product_brands_df['brand'] = product_brands_df['brand'].apply(clean_brand)\n",
        "    print(product_brands_df)\n",
        "\n",
        "    df = df.merge(product_brands_df[['product_id', 'brand']], on='product_id', how='left', suffixes=('', '_new'))\n",
        "    print(df)\n",
        "    df['brand'] = df['brand_new'].fillna(df['brand'])\n",
        "    df.drop(columns=['brand_new'], inplace=True)\n",
        "    print(df)\n",
        "\n",
        "cleanBrand_test()"
      ],
      "metadata": {
        "execution": {
          "iopub.status.busy": "2024-07-11T14:58:19.805564Z",
          "iopub.execute_input": "2024-07-11T14:58:19.805881Z",
          "iopub.status.idle": "2024-07-11T14:58:19.834861Z",
          "shell.execute_reply.started": "2024-07-11T14:58:19.805856Z",
          "shell.execute_reply": "2024-07-11T14:58:19.833716Z"
        },
        "trusted": true,
        "id": "X3mHm1DMUxLr",
        "outputId": "2de61cc8-5772-454e-b50d-dc8da8b44a09"
      },
      "execution_count": null,
      "outputs": [
        {
          "name": "stdout",
          "text": "   product_id brand\n0     5773203     a\n1     5773353   nan\n2     5881589     c\n3     5773353     b\n4     5723490     d\n5     5881449     d\n6     5857269   nan\n7     5773203     g\n   product_id     brand\n0     5723490       [d]\n1     5773203    [a, g]\n2     5773353  [nan, b]\n3     5857269     [nan]\n4     5881449       [d]\n5     5881589       [c]\nFound 2 brand with multiple brands\n   product_id brand\n0     5723490     d\n1     5773203     a\n2     5773353     b\n3     5857269  None\n4     5881449     d\n5     5881589     c\n   product_id brand brand_new\n0     5773203     a         a\n1     5773353   nan         b\n2     5881589     c         c\n3     5773353     b         b\n4     5723490     d         d\n5     5881449     d         d\n6     5857269   nan      None\n7     5773203     g         a\n   product_id brand\n0     5773203     a\n1     5773353     b\n2     5881589     c\n3     5773353     b\n4     5723490     d\n5     5881449     d\n6     5857269   nan\n7     5773203     a\n",
          "output_type": "stream"
        }
      ]
    },
    {
      "cell_type": "code",
      "source": [
        "# Group by product_id and count distinct brands\n",
        "num_brands = data.groupby('product_id')['brand'].nunique().sort_values(ascending=False).reset_index().iloc[0]['brand']\n",
        "print(num_brands)\n",
        "\n",
        "# In case the product has various brands throughout the period: fill the NaN with brand from this table\n",
        "if int(num_brands)>1:\n",
        "\n",
        "    product_brands = data.groupby('product_id')['brand'].unique().reset_index()\n",
        "\n",
        "    print('------------------------------------------')\n",
        "    print(f'Found {len(product_brands[product_brands.brand.apply(lambda x: len(x) > 1)])} brand with multiple brands...')\n",
        "    print('------------------------------------------')\n",
        "\n",
        "    # if brand has 2 brands, choose the one that is not null\n",
        "    def clean_brand(brand_list):\n",
        "        for brand in brand_list:\n",
        "            if brand and brand!='nan':\n",
        "                return brand\n",
        "        return None\n",
        "\n",
        "    product_brands['brand'] = product_brands['brand'].apply(clean_brand)\n",
        "\n",
        "    def fill_brand(df, product_brands_df):\n",
        "        df = df.merge(product_brands_df[['product_id', 'brand']], on='product_id', how='left', suffixes=('', '_new'))\n",
        "        df['brand'] = df['brand_new'].fillna(df['brand'])\n",
        "        df.drop(columns=['brand_new'], inplace=True)\n",
        "        print('Filled successfully')\n",
        "\n",
        "    fill_brand(data, product_brands)\n"
      ],
      "metadata": {
        "execution": {
          "iopub.status.busy": "2024-07-11T14:58:19.836122Z",
          "iopub.execute_input": "2024-07-11T14:58:19.836453Z",
          "iopub.status.idle": "2024-07-11T14:58:21.296931Z",
          "shell.execute_reply.started": "2024-07-11T14:58:19.836427Z",
          "shell.execute_reply": "2024-07-11T14:58:21.295963Z"
        },
        "trusted": true,
        "id": "KZrT6GVKUxLr",
        "outputId": "bffa5ee4-0323-4bf9-b146-c3309bdd4ef2"
      },
      "execution_count": null,
      "outputs": [
        {
          "name": "stdout",
          "text": "1\n",
          "output_type": "stream"
        }
      ]
    },
    {
      "cell_type": "code",
      "source": [
        "num_brands = data['brand'].nunique()\n",
        "print('Total number of brands: ', num_brands)"
      ],
      "metadata": {
        "execution": {
          "iopub.status.busy": "2024-07-11T14:58:21.298275Z",
          "iopub.execute_input": "2024-07-11T14:58:21.298639Z",
          "iopub.status.idle": "2024-07-11T14:58:21.665384Z",
          "shell.execute_reply.started": "2024-07-11T14:58:21.298603Z",
          "shell.execute_reply": "2024-07-11T14:58:21.664328Z"
        },
        "trusted": true,
        "id": "KB2z_zKNUxLr",
        "outputId": "f5772d0a-86d1-4797-c265-acd73613dda4"
      },
      "execution_count": null,
      "outputs": [
        {
          "name": "stdout",
          "text": "Total number of brands:  240\n",
          "output_type": "stream"
        }
      ]
    },
    {
      "cell_type": "code",
      "source": [
        "data"
      ],
      "metadata": {
        "execution": {
          "iopub.status.busy": "2024-07-11T14:58:21.666742Z",
          "iopub.execute_input": "2024-07-11T14:58:21.667094Z",
          "iopub.status.idle": "2024-07-11T14:58:21.690923Z",
          "shell.execute_reply.started": "2024-07-11T14:58:21.667039Z",
          "shell.execute_reply": "2024-07-11T14:58:21.689732Z"
        },
        "trusted": true,
        "id": "_ALjqhUCUxLs",
        "outputId": "9093669b-b91e-4b6d-d8ba-da1bfac04c5a"
      },
      "execution_count": null,
      "outputs": [
        {
          "execution_count": 45,
          "output_type": "execute_result",
          "data": {
            "text/plain": "                      event_time        event_type  product_id  \\\n0        2019-10-01 00:00:00 UTC              cart     5773203   \n1        2019-10-01 00:00:03 UTC              cart     5773353   \n2        2019-10-01 00:00:07 UTC              cart     5881589   \n3        2019-10-01 00:00:07 UTC              cart     5723490   \n4        2019-10-01 00:00:15 UTC              cart     5881449   \n...                          ...               ...         ...   \n4102278  2019-10-31 23:59:25 UTC  remove_from_cart     5848062   \n4102279  2019-10-31 23:59:30 UTC              view     5885631   \n4102280  2019-10-31 23:59:34 UTC              view     5784898   \n4102281  2019-10-31 23:59:36 UTC              view     5870838   \n4102282  2019-10-31 23:59:54 UTC              view       59996   \n\n                 category_id main_category sub_category   brand  price  \\\n0        1487580005134238553           NaN          NaN  runail   2.62   \n1        1487580005134238553           NaN          NaN  runail   2.62   \n2        2151191071051219817           NaN          NaN  lovely  13.48   \n3        1487580005134238553           NaN          NaN  runail   2.62   \n4        1487580013522845895           NaN          NaN  lovely   0.56   \n...                      ...           ...          ...     ...    ...   \n4102278  1526733091857498510           NaN          NaN     NaN   9.21   \n4102279  1783999064103190764           NaN          NaN     NaN  15.48   \n4102280  1487580009143992338           NaN          NaN     NaN   1.78   \n4102281  1487580007675986893           NaN          NaN    milv   0.79   \n4102282  1487580012927254698           NaN          NaN     NaN   4.13   \n\n           user_id                          user_session  \n0        463240011  26dd6e6e-4dac-4778-8d2c-92e149dab885  \n1        463240011  26dd6e6e-4dac-4778-8d2c-92e149dab885  \n2        429681830  49e8d843-adf3-428b-a2c3-fe8bc6a307c9  \n3        463240011  26dd6e6e-4dac-4778-8d2c-92e149dab885  \n4        429681830  49e8d843-adf3-428b-a2c3-fe8bc6a307c9  \n...            ...                                   ...  \n4102278  429913900  2f0bff3c-252f-4fe6-afcd-5d8a6a92839a  \n4102279  556138645  57ed222e-a54a-4907-9944-5a875c2d7f4f  \n4102280  564441099  8cbf1746-2d46-4169-afb1-b5fa38ee1ba4  \n4102281  429913900  2f0bff3c-252f-4fe6-afcd-5d8a6a92839a  \n4102282  566280798  4eaf7c71-e8bf-4ea6-b719-eca144466eb3  \n\n[3889128 rows x 10 columns]",
            "text/html": "<div>\n<style scoped>\n    .dataframe tbody tr th:only-of-type {\n        vertical-align: middle;\n    }\n\n    .dataframe tbody tr th {\n        vertical-align: top;\n    }\n\n    .dataframe thead th {\n        text-align: right;\n    }\n</style>\n<table border=\"1\" class=\"dataframe\">\n  <thead>\n    <tr style=\"text-align: right;\">\n      <th></th>\n      <th>event_time</th>\n      <th>event_type</th>\n      <th>product_id</th>\n      <th>category_id</th>\n      <th>main_category</th>\n      <th>sub_category</th>\n      <th>brand</th>\n      <th>price</th>\n      <th>user_id</th>\n      <th>user_session</th>\n    </tr>\n  </thead>\n  <tbody>\n    <tr>\n      <th>0</th>\n      <td>2019-10-01 00:00:00 UTC</td>\n      <td>cart</td>\n      <td>5773203</td>\n      <td>1487580005134238553</td>\n      <td>NaN</td>\n      <td>NaN</td>\n      <td>runail</td>\n      <td>2.62</td>\n      <td>463240011</td>\n      <td>26dd6e6e-4dac-4778-8d2c-92e149dab885</td>\n    </tr>\n    <tr>\n      <th>1</th>\n      <td>2019-10-01 00:00:03 UTC</td>\n      <td>cart</td>\n      <td>5773353</td>\n      <td>1487580005134238553</td>\n      <td>NaN</td>\n      <td>NaN</td>\n      <td>runail</td>\n      <td>2.62</td>\n      <td>463240011</td>\n      <td>26dd6e6e-4dac-4778-8d2c-92e149dab885</td>\n    </tr>\n    <tr>\n      <th>2</th>\n      <td>2019-10-01 00:00:07 UTC</td>\n      <td>cart</td>\n      <td>5881589</td>\n      <td>2151191071051219817</td>\n      <td>NaN</td>\n      <td>NaN</td>\n      <td>lovely</td>\n      <td>13.48</td>\n      <td>429681830</td>\n      <td>49e8d843-adf3-428b-a2c3-fe8bc6a307c9</td>\n    </tr>\n    <tr>\n      <th>3</th>\n      <td>2019-10-01 00:00:07 UTC</td>\n      <td>cart</td>\n      <td>5723490</td>\n      <td>1487580005134238553</td>\n      <td>NaN</td>\n      <td>NaN</td>\n      <td>runail</td>\n      <td>2.62</td>\n      <td>463240011</td>\n      <td>26dd6e6e-4dac-4778-8d2c-92e149dab885</td>\n    </tr>\n    <tr>\n      <th>4</th>\n      <td>2019-10-01 00:00:15 UTC</td>\n      <td>cart</td>\n      <td>5881449</td>\n      <td>1487580013522845895</td>\n      <td>NaN</td>\n      <td>NaN</td>\n      <td>lovely</td>\n      <td>0.56</td>\n      <td>429681830</td>\n      <td>49e8d843-adf3-428b-a2c3-fe8bc6a307c9</td>\n    </tr>\n    <tr>\n      <th>...</th>\n      <td>...</td>\n      <td>...</td>\n      <td>...</td>\n      <td>...</td>\n      <td>...</td>\n      <td>...</td>\n      <td>...</td>\n      <td>...</td>\n      <td>...</td>\n      <td>...</td>\n    </tr>\n    <tr>\n      <th>4102278</th>\n      <td>2019-10-31 23:59:25 UTC</td>\n      <td>remove_from_cart</td>\n      <td>5848062</td>\n      <td>1526733091857498510</td>\n      <td>NaN</td>\n      <td>NaN</td>\n      <td>NaN</td>\n      <td>9.21</td>\n      <td>429913900</td>\n      <td>2f0bff3c-252f-4fe6-afcd-5d8a6a92839a</td>\n    </tr>\n    <tr>\n      <th>4102279</th>\n      <td>2019-10-31 23:59:30 UTC</td>\n      <td>view</td>\n      <td>5885631</td>\n      <td>1783999064103190764</td>\n      <td>NaN</td>\n      <td>NaN</td>\n      <td>NaN</td>\n      <td>15.48</td>\n      <td>556138645</td>\n      <td>57ed222e-a54a-4907-9944-5a875c2d7f4f</td>\n    </tr>\n    <tr>\n      <th>4102280</th>\n      <td>2019-10-31 23:59:34 UTC</td>\n      <td>view</td>\n      <td>5784898</td>\n      <td>1487580009143992338</td>\n      <td>NaN</td>\n      <td>NaN</td>\n      <td>NaN</td>\n      <td>1.78</td>\n      <td>564441099</td>\n      <td>8cbf1746-2d46-4169-afb1-b5fa38ee1ba4</td>\n    </tr>\n    <tr>\n      <th>4102281</th>\n      <td>2019-10-31 23:59:36 UTC</td>\n      <td>view</td>\n      <td>5870838</td>\n      <td>1487580007675986893</td>\n      <td>NaN</td>\n      <td>NaN</td>\n      <td>milv</td>\n      <td>0.79</td>\n      <td>429913900</td>\n      <td>2f0bff3c-252f-4fe6-afcd-5d8a6a92839a</td>\n    </tr>\n    <tr>\n      <th>4102282</th>\n      <td>2019-10-31 23:59:54 UTC</td>\n      <td>view</td>\n      <td>59996</td>\n      <td>1487580012927254698</td>\n      <td>NaN</td>\n      <td>NaN</td>\n      <td>NaN</td>\n      <td>4.13</td>\n      <td>566280798</td>\n      <td>4eaf7c71-e8bf-4ea6-b719-eca144466eb3</td>\n    </tr>\n  </tbody>\n</table>\n<p>3889128 rows × 10 columns</p>\n</div>"
          },
          "metadata": {}
        }
      ]
    },
    {
      "cell_type": "markdown",
      "source": [
        "## 1.3. Price and Brand"
      ],
      "metadata": {
        "id": "CHLOjJ5dUxLs"
      }
    },
    {
      "cell_type": "code",
      "source": [
        "def drop_cart_duplicates(data):\n",
        "    # Drop cart duplicates\n",
        "    before_data = len(data)\n",
        "    cart_data = data[data.event_type=='cart']\n",
        "    # show duplicates\n",
        "    #print(cart_data[cart_data.duplicated(subset=['product_id', 'user_id', 'user_session'], keep=False)].sort_values('user_id').head(10))\n",
        "    cart_duplicates = len(cart_data[cart_data.duplicated(subset=['product_id', 'user_id', 'user_session'], keep=False)])\n",
        "    print('Found {} duplicates'.format(cart_duplicates))\n",
        "\n",
        "    data = data[data.event_type!='cart']\n",
        "    cart_data.drop_duplicates(subset=['product_id', 'user_id', 'user_session'], keep='first', inplace=True)\n",
        "    # check if exist duplicates\n",
        "    #print(cart_data[cart_data.duplicated(subset=['product_id', 'user_id', 'user_session'], keep=False)].sort_values('user_id').head(10))\n",
        "\n",
        "    # union\n",
        "    data = pd.concat([cart_data, data])\n",
        "    print('Data from {} rows reduced to {} rows'.format(before_data, len(data)))\n",
        "    data.sort_values(by=['event_time'])\n",
        "\n",
        "    return data\n",
        "\n",
        "data = drop_cart_duplicates(data)\n",
        "data.head(10)"
      ],
      "metadata": {
        "execution": {
          "iopub.status.busy": "2024-07-11T14:58:21.692356Z",
          "iopub.execute_input": "2024-07-11T14:58:21.693041Z",
          "iopub.status.idle": "2024-07-11T14:58:32.657408Z",
          "shell.execute_reply.started": "2024-07-11T14:58:21.693003Z",
          "shell.execute_reply": "2024-07-11T14:58:32.656261Z"
        },
        "trusted": true,
        "id": "ABGWFccnUxLs",
        "outputId": "cbaf14ab-a9eb-4946-9d22-a2341fd8cd18"
      },
      "execution_count": null,
      "outputs": [
        {
          "name": "stdout",
          "text": "Found 348863 duplicates\n",
          "output_type": "stream"
        },
        {
          "name": "stderr",
          "text": "/tmp/ipykernel_32/4114660435.py:11: SettingWithCopyWarning:\n\n\nA value is trying to be set on a copy of a slice from a DataFrame\n\nSee the caveats in the documentation: https://pandas.pydata.org/pandas-docs/stable/user_guide/indexing.html#returning-a-view-versus-a-copy\n\n",
          "output_type": "stream"
        },
        {
          "name": "stdout",
          "text": "Data from 3889128 rows reduced to 3667559 rows\n",
          "output_type": "stream"
        },
        {
          "execution_count": 46,
          "output_type": "execute_result",
          "data": {
            "text/plain": "                 event_time event_type  product_id          category_id  \\\n0   2019-10-01 00:00:00 UTC       cart     5773203  1487580005134238553   \n1   2019-10-01 00:00:03 UTC       cart     5773353  1487580005134238553   \n2   2019-10-01 00:00:07 UTC       cart     5881589  2151191071051219817   \n3   2019-10-01 00:00:07 UTC       cart     5723490  1487580005134238553   \n4   2019-10-01 00:00:15 UTC       cart     5881449  1487580013522845895   \n5   2019-10-01 00:00:16 UTC       cart     5857269  1487580005134238553   \n6   2019-10-01 00:00:19 UTC       cart     5739055  1487580008246412266   \n7   2019-10-01 00:00:24 UTC       cart     5825598  1487580009445982239   \n8   2019-10-01 00:00:25 UTC       cart     5698989  1487580006317032337   \n16  2019-10-01 00:00:34 UTC       cart     5670337  1752742615205281895   \n\n   main_category sub_category   brand  price    user_id  \\\n0            NaN          NaN  runail   2.62  463240011   \n1            NaN          NaN  runail   2.62  463240011   \n2            NaN          NaN  lovely  13.48  429681830   \n3            NaN          NaN  runail   2.62  463240011   \n4            NaN          NaN  lovely   0.56  429681830   \n5            NaN          NaN  runail   2.62  430174032   \n6            NaN          NaN  kapous   4.75  377667011   \n7            NaN          NaN     NaN   0.56  467916806   \n8            NaN          NaN     NaN   1.27  385985999   \n16           NaN          NaN     NaN   2.38  546705258   \n\n                            user_session  \n0   26dd6e6e-4dac-4778-8d2c-92e149dab885  \n1   26dd6e6e-4dac-4778-8d2c-92e149dab885  \n2   49e8d843-adf3-428b-a2c3-fe8bc6a307c9  \n3   26dd6e6e-4dac-4778-8d2c-92e149dab885  \n4   49e8d843-adf3-428b-a2c3-fe8bc6a307c9  \n5   73dea1e7-664e-43f4-8b30-d32b9d5af04f  \n6   81326ac6-daa4-4f0a-b488-fd0956a78733  \n7   2f5b5546-b8cb-9ee7-7ecd-84276f8ef486  \n8   d30965e8-1101-44ab-b45d-cc1bb9fae694  \n16  3b5c65c0-bb1c-453b-b340-4ebf973a3136  ",
            "text/html": "<div>\n<style scoped>\n    .dataframe tbody tr th:only-of-type {\n        vertical-align: middle;\n    }\n\n    .dataframe tbody tr th {\n        vertical-align: top;\n    }\n\n    .dataframe thead th {\n        text-align: right;\n    }\n</style>\n<table border=\"1\" class=\"dataframe\">\n  <thead>\n    <tr style=\"text-align: right;\">\n      <th></th>\n      <th>event_time</th>\n      <th>event_type</th>\n      <th>product_id</th>\n      <th>category_id</th>\n      <th>main_category</th>\n      <th>sub_category</th>\n      <th>brand</th>\n      <th>price</th>\n      <th>user_id</th>\n      <th>user_session</th>\n    </tr>\n  </thead>\n  <tbody>\n    <tr>\n      <th>0</th>\n      <td>2019-10-01 00:00:00 UTC</td>\n      <td>cart</td>\n      <td>5773203</td>\n      <td>1487580005134238553</td>\n      <td>NaN</td>\n      <td>NaN</td>\n      <td>runail</td>\n      <td>2.62</td>\n      <td>463240011</td>\n      <td>26dd6e6e-4dac-4778-8d2c-92e149dab885</td>\n    </tr>\n    <tr>\n      <th>1</th>\n      <td>2019-10-01 00:00:03 UTC</td>\n      <td>cart</td>\n      <td>5773353</td>\n      <td>1487580005134238553</td>\n      <td>NaN</td>\n      <td>NaN</td>\n      <td>runail</td>\n      <td>2.62</td>\n      <td>463240011</td>\n      <td>26dd6e6e-4dac-4778-8d2c-92e149dab885</td>\n    </tr>\n    <tr>\n      <th>2</th>\n      <td>2019-10-01 00:00:07 UTC</td>\n      <td>cart</td>\n      <td>5881589</td>\n      <td>2151191071051219817</td>\n      <td>NaN</td>\n      <td>NaN</td>\n      <td>lovely</td>\n      <td>13.48</td>\n      <td>429681830</td>\n      <td>49e8d843-adf3-428b-a2c3-fe8bc6a307c9</td>\n    </tr>\n    <tr>\n      <th>3</th>\n      <td>2019-10-01 00:00:07 UTC</td>\n      <td>cart</td>\n      <td>5723490</td>\n      <td>1487580005134238553</td>\n      <td>NaN</td>\n      <td>NaN</td>\n      <td>runail</td>\n      <td>2.62</td>\n      <td>463240011</td>\n      <td>26dd6e6e-4dac-4778-8d2c-92e149dab885</td>\n    </tr>\n    <tr>\n      <th>4</th>\n      <td>2019-10-01 00:00:15 UTC</td>\n      <td>cart</td>\n      <td>5881449</td>\n      <td>1487580013522845895</td>\n      <td>NaN</td>\n      <td>NaN</td>\n      <td>lovely</td>\n      <td>0.56</td>\n      <td>429681830</td>\n      <td>49e8d843-adf3-428b-a2c3-fe8bc6a307c9</td>\n    </tr>\n    <tr>\n      <th>5</th>\n      <td>2019-10-01 00:00:16 UTC</td>\n      <td>cart</td>\n      <td>5857269</td>\n      <td>1487580005134238553</td>\n      <td>NaN</td>\n      <td>NaN</td>\n      <td>runail</td>\n      <td>2.62</td>\n      <td>430174032</td>\n      <td>73dea1e7-664e-43f4-8b30-d32b9d5af04f</td>\n    </tr>\n    <tr>\n      <th>6</th>\n      <td>2019-10-01 00:00:19 UTC</td>\n      <td>cart</td>\n      <td>5739055</td>\n      <td>1487580008246412266</td>\n      <td>NaN</td>\n      <td>NaN</td>\n      <td>kapous</td>\n      <td>4.75</td>\n      <td>377667011</td>\n      <td>81326ac6-daa4-4f0a-b488-fd0956a78733</td>\n    </tr>\n    <tr>\n      <th>7</th>\n      <td>2019-10-01 00:00:24 UTC</td>\n      <td>cart</td>\n      <td>5825598</td>\n      <td>1487580009445982239</td>\n      <td>NaN</td>\n      <td>NaN</td>\n      <td>NaN</td>\n      <td>0.56</td>\n      <td>467916806</td>\n      <td>2f5b5546-b8cb-9ee7-7ecd-84276f8ef486</td>\n    </tr>\n    <tr>\n      <th>8</th>\n      <td>2019-10-01 00:00:25 UTC</td>\n      <td>cart</td>\n      <td>5698989</td>\n      <td>1487580006317032337</td>\n      <td>NaN</td>\n      <td>NaN</td>\n      <td>NaN</td>\n      <td>1.27</td>\n      <td>385985999</td>\n      <td>d30965e8-1101-44ab-b45d-cc1bb9fae694</td>\n    </tr>\n    <tr>\n      <th>16</th>\n      <td>2019-10-01 00:00:34 UTC</td>\n      <td>cart</td>\n      <td>5670337</td>\n      <td>1752742615205281895</td>\n      <td>NaN</td>\n      <td>NaN</td>\n      <td>NaN</td>\n      <td>2.38</td>\n      <td>546705258</td>\n      <td>3b5c65c0-bb1c-453b-b340-4ebf973a3136</td>\n    </tr>\n  </tbody>\n</table>\n</div>"
          },
          "metadata": {}
        }
      ]
    },
    {
      "cell_type": "code",
      "source": [
        "def drop_removecart_duplicates(data):\n",
        "    # Drop cart duplicates\n",
        "    before_data = len(data)\n",
        "    removecart_data = data[data.event_type=='remove_from_cart']\n",
        "    # show duplicates\n",
        "    #print(removecart_data[removecart_data.duplicated(subset=['product_id', 'user_id', 'user_session'], keep=False)].sort_values('user_id').head(10))\n",
        "    removecart_duplicates = len(removecart_data[removecart_data.duplicated(subset=['product_id', 'user_id', 'user_session'], keep=False)])\n",
        "    print('Found {} duplicates'.format(removecart_duplicates))\n",
        "\n",
        "    data = data[data.event_type!='remove_from_cart']\n",
        "    removecart_data.drop_duplicates(subset=['product_id', 'user_id', 'user_session'], keep='last', inplace=True)\n",
        "    # check if exist duplicates\n",
        "    #print(removecart_data[removecart_data.duplicated(subset=['product_id', 'user_id', 'user_session'], keep=False)].sort_values('user_id').head(10))\n",
        "\n",
        "    # union\n",
        "    data = pd.concat([data, removecart_data])\n",
        "    print('Data from {} rows reduced to {} rows'.format(before_data, len(data)))\n",
        "\n",
        "    data.sort_values(by=['event_time'])\n",
        "\n",
        "    return data\n",
        "\n",
        "data = drop_removecart_duplicates(data)\n",
        "data.head(10)"
      ],
      "metadata": {
        "execution": {
          "iopub.status.busy": "2024-07-11T14:58:32.658845Z",
          "iopub.execute_input": "2024-07-11T14:58:32.659267Z",
          "iopub.status.idle": "2024-07-11T14:58:43.688434Z",
          "shell.execute_reply.started": "2024-07-11T14:58:32.659227Z",
          "shell.execute_reply": "2024-07-11T14:58:43.687456Z"
        },
        "trusted": true,
        "id": "TUwunLN0UxLs",
        "outputId": "59ad5188-5588-4c4f-d2a8-8dd4893c99a1"
      },
      "execution_count": null,
      "outputs": [
        {
          "name": "stdout",
          "text": "Found 128702 duplicates\n",
          "output_type": "stream"
        },
        {
          "name": "stderr",
          "text": "/tmp/ipykernel_32/645692818.py:11: SettingWithCopyWarning:\n\n\nA value is trying to be set on a copy of a slice from a DataFrame\n\nSee the caveats in the documentation: https://pandas.pydata.org/pandas-docs/stable/user_guide/indexing.html#returning-a-view-versus-a-copy\n\n",
          "output_type": "stream"
        },
        {
          "name": "stdout",
          "text": "Data from 3667559 rows reduced to 3597348 rows\n",
          "output_type": "stream"
        },
        {
          "execution_count": 47,
          "output_type": "execute_result",
          "data": {
            "text/plain": "                 event_time event_type  product_id          category_id  \\\n0   2019-10-01 00:00:00 UTC       cart     5773203  1487580005134238553   \n1   2019-10-01 00:00:03 UTC       cart     5773353  1487580005134238553   \n2   2019-10-01 00:00:07 UTC       cart     5881589  2151191071051219817   \n3   2019-10-01 00:00:07 UTC       cart     5723490  1487580005134238553   \n4   2019-10-01 00:00:15 UTC       cart     5881449  1487580013522845895   \n5   2019-10-01 00:00:16 UTC       cart     5857269  1487580005134238553   \n6   2019-10-01 00:00:19 UTC       cart     5739055  1487580008246412266   \n7   2019-10-01 00:00:24 UTC       cart     5825598  1487580009445982239   \n8   2019-10-01 00:00:25 UTC       cart     5698989  1487580006317032337   \n16  2019-10-01 00:00:34 UTC       cart     5670337  1752742615205281895   \n\n   main_category sub_category   brand  price    user_id  \\\n0            NaN          NaN  runail   2.62  463240011   \n1            NaN          NaN  runail   2.62  463240011   \n2            NaN          NaN  lovely  13.48  429681830   \n3            NaN          NaN  runail   2.62  463240011   \n4            NaN          NaN  lovely   0.56  429681830   \n5            NaN          NaN  runail   2.62  430174032   \n6            NaN          NaN  kapous   4.75  377667011   \n7            NaN          NaN     NaN   0.56  467916806   \n8            NaN          NaN     NaN   1.27  385985999   \n16           NaN          NaN     NaN   2.38  546705258   \n\n                            user_session  \n0   26dd6e6e-4dac-4778-8d2c-92e149dab885  \n1   26dd6e6e-4dac-4778-8d2c-92e149dab885  \n2   49e8d843-adf3-428b-a2c3-fe8bc6a307c9  \n3   26dd6e6e-4dac-4778-8d2c-92e149dab885  \n4   49e8d843-adf3-428b-a2c3-fe8bc6a307c9  \n5   73dea1e7-664e-43f4-8b30-d32b9d5af04f  \n6   81326ac6-daa4-4f0a-b488-fd0956a78733  \n7   2f5b5546-b8cb-9ee7-7ecd-84276f8ef486  \n8   d30965e8-1101-44ab-b45d-cc1bb9fae694  \n16  3b5c65c0-bb1c-453b-b340-4ebf973a3136  ",
            "text/html": "<div>\n<style scoped>\n    .dataframe tbody tr th:only-of-type {\n        vertical-align: middle;\n    }\n\n    .dataframe tbody tr th {\n        vertical-align: top;\n    }\n\n    .dataframe thead th {\n        text-align: right;\n    }\n</style>\n<table border=\"1\" class=\"dataframe\">\n  <thead>\n    <tr style=\"text-align: right;\">\n      <th></th>\n      <th>event_time</th>\n      <th>event_type</th>\n      <th>product_id</th>\n      <th>category_id</th>\n      <th>main_category</th>\n      <th>sub_category</th>\n      <th>brand</th>\n      <th>price</th>\n      <th>user_id</th>\n      <th>user_session</th>\n    </tr>\n  </thead>\n  <tbody>\n    <tr>\n      <th>0</th>\n      <td>2019-10-01 00:00:00 UTC</td>\n      <td>cart</td>\n      <td>5773203</td>\n      <td>1487580005134238553</td>\n      <td>NaN</td>\n      <td>NaN</td>\n      <td>runail</td>\n      <td>2.62</td>\n      <td>463240011</td>\n      <td>26dd6e6e-4dac-4778-8d2c-92e149dab885</td>\n    </tr>\n    <tr>\n      <th>1</th>\n      <td>2019-10-01 00:00:03 UTC</td>\n      <td>cart</td>\n      <td>5773353</td>\n      <td>1487580005134238553</td>\n      <td>NaN</td>\n      <td>NaN</td>\n      <td>runail</td>\n      <td>2.62</td>\n      <td>463240011</td>\n      <td>26dd6e6e-4dac-4778-8d2c-92e149dab885</td>\n    </tr>\n    <tr>\n      <th>2</th>\n      <td>2019-10-01 00:00:07 UTC</td>\n      <td>cart</td>\n      <td>5881589</td>\n      <td>2151191071051219817</td>\n      <td>NaN</td>\n      <td>NaN</td>\n      <td>lovely</td>\n      <td>13.48</td>\n      <td>429681830</td>\n      <td>49e8d843-adf3-428b-a2c3-fe8bc6a307c9</td>\n    </tr>\n    <tr>\n      <th>3</th>\n      <td>2019-10-01 00:00:07 UTC</td>\n      <td>cart</td>\n      <td>5723490</td>\n      <td>1487580005134238553</td>\n      <td>NaN</td>\n      <td>NaN</td>\n      <td>runail</td>\n      <td>2.62</td>\n      <td>463240011</td>\n      <td>26dd6e6e-4dac-4778-8d2c-92e149dab885</td>\n    </tr>\n    <tr>\n      <th>4</th>\n      <td>2019-10-01 00:00:15 UTC</td>\n      <td>cart</td>\n      <td>5881449</td>\n      <td>1487580013522845895</td>\n      <td>NaN</td>\n      <td>NaN</td>\n      <td>lovely</td>\n      <td>0.56</td>\n      <td>429681830</td>\n      <td>49e8d843-adf3-428b-a2c3-fe8bc6a307c9</td>\n    </tr>\n    <tr>\n      <th>5</th>\n      <td>2019-10-01 00:00:16 UTC</td>\n      <td>cart</td>\n      <td>5857269</td>\n      <td>1487580005134238553</td>\n      <td>NaN</td>\n      <td>NaN</td>\n      <td>runail</td>\n      <td>2.62</td>\n      <td>430174032</td>\n      <td>73dea1e7-664e-43f4-8b30-d32b9d5af04f</td>\n    </tr>\n    <tr>\n      <th>6</th>\n      <td>2019-10-01 00:00:19 UTC</td>\n      <td>cart</td>\n      <td>5739055</td>\n      <td>1487580008246412266</td>\n      <td>NaN</td>\n      <td>NaN</td>\n      <td>kapous</td>\n      <td>4.75</td>\n      <td>377667011</td>\n      <td>81326ac6-daa4-4f0a-b488-fd0956a78733</td>\n    </tr>\n    <tr>\n      <th>7</th>\n      <td>2019-10-01 00:00:24 UTC</td>\n      <td>cart</td>\n      <td>5825598</td>\n      <td>1487580009445982239</td>\n      <td>NaN</td>\n      <td>NaN</td>\n      <td>NaN</td>\n      <td>0.56</td>\n      <td>467916806</td>\n      <td>2f5b5546-b8cb-9ee7-7ecd-84276f8ef486</td>\n    </tr>\n    <tr>\n      <th>8</th>\n      <td>2019-10-01 00:00:25 UTC</td>\n      <td>cart</td>\n      <td>5698989</td>\n      <td>1487580006317032337</td>\n      <td>NaN</td>\n      <td>NaN</td>\n      <td>NaN</td>\n      <td>1.27</td>\n      <td>385985999</td>\n      <td>d30965e8-1101-44ab-b45d-cc1bb9fae694</td>\n    </tr>\n    <tr>\n      <th>16</th>\n      <td>2019-10-01 00:00:34 UTC</td>\n      <td>cart</td>\n      <td>5670337</td>\n      <td>1752742615205281895</td>\n      <td>NaN</td>\n      <td>NaN</td>\n      <td>NaN</td>\n      <td>2.38</td>\n      <td>546705258</td>\n      <td>3b5c65c0-bb1c-453b-b340-4ebf973a3136</td>\n    </tr>\n  </tbody>\n</table>\n</div>"
          },
          "metadata": {}
        }
      ]
    },
    {
      "cell_type": "code",
      "source": [
        "# Derive dataset for distinct products\n",
        "data_product = data.drop_duplicates(subset='product_id')\n",
        "data_product"
      ],
      "metadata": {
        "execution": {
          "iopub.status.busy": "2024-07-11T14:58:43.689853Z",
          "iopub.execute_input": "2024-07-11T14:58:43.690475Z",
          "iopub.status.idle": "2024-07-11T14:58:44.537456Z",
          "shell.execute_reply.started": "2024-07-11T14:58:43.690439Z",
          "shell.execute_reply": "2024-07-11T14:58:44.536531Z"
        },
        "trusted": true,
        "id": "YBEYMLv3UxLt",
        "outputId": "cb038403-71a2-4a98-b525-d9d172b0f6e7"
      },
      "execution_count": null,
      "outputs": [
        {
          "execution_count": 48,
          "output_type": "execute_result",
          "data": {
            "text/plain": "                      event_time        event_type  product_id  \\\n0        2019-10-01 00:00:00 UTC              cart     5773203   \n1        2019-10-01 00:00:03 UTC              cart     5773353   \n2        2019-10-01 00:00:07 UTC              cart     5881589   \n3        2019-10-01 00:00:07 UTC              cart     5723490   \n4        2019-10-01 00:00:15 UTC              cart     5881449   \n...                          ...               ...         ...   \n4069171  2019-10-31 17:40:55 UTC  remove_from_cart     5556098   \n4069202  2019-10-31 17:41:10 UTC  remove_from_cart     5867468   \n4069208  2019-10-31 17:41:12 UTC  remove_from_cart     5867532   \n4084745  2019-10-31 19:43:15 UTC  remove_from_cart     5848306   \n4096856  2019-10-31 21:38:55 UTC  remove_from_cart     5749064   \n\n                 category_id main_category sub_category   brand  price  \\\n0        1487580005134238553           NaN          NaN  runail   2.62   \n1        1487580005134238553           NaN          NaN  runail   2.62   \n2        2151191071051219817           NaN          NaN  lovely  13.48   \n3        1487580005134238553           NaN          NaN  runail   2.62   \n4        1487580013522845895           NaN          NaN  lovely   0.56   \n...                      ...           ...          ...     ...    ...   \n4069171  1487580007659209676           NaN          NaN     cnd  11.11   \n4069202  1487580004882580302           NaN          NaN     NaN   1.35   \n4069208  1487580005595612013           NaN          NaN     NaN   2.10   \n4084745  1487580005595612013           NaN          NaN     NaN   3.00   \n4096856  1495705810729173554           NaN          NaN   konad   3.00   \n\n           user_id                          user_session  \n0        463240011  26dd6e6e-4dac-4778-8d2c-92e149dab885  \n1        463240011  26dd6e6e-4dac-4778-8d2c-92e149dab885  \n2        429681830  49e8d843-adf3-428b-a2c3-fe8bc6a307c9  \n3        463240011  26dd6e6e-4dac-4778-8d2c-92e149dab885  \n4        429681830  49e8d843-adf3-428b-a2c3-fe8bc6a307c9  \n...            ...                                   ...  \n4069171  488043875  1fc42dca-e3bd-425b-9db0-5683c0ad7a41  \n4069202  488043875  1fc42dca-e3bd-425b-9db0-5683c0ad7a41  \n4069208  488043875  1fc42dca-e3bd-425b-9db0-5683c0ad7a41  \n4084745  515625962  cecb8d26-0f85-4432-b3b6-2f5f576864f7  \n4096856  534905445  42c384db-f445-46d5-b198-e919eb89c318  \n\n[41899 rows x 10 columns]",
            "text/html": "<div>\n<style scoped>\n    .dataframe tbody tr th:only-of-type {\n        vertical-align: middle;\n    }\n\n    .dataframe tbody tr th {\n        vertical-align: top;\n    }\n\n    .dataframe thead th {\n        text-align: right;\n    }\n</style>\n<table border=\"1\" class=\"dataframe\">\n  <thead>\n    <tr style=\"text-align: right;\">\n      <th></th>\n      <th>event_time</th>\n      <th>event_type</th>\n      <th>product_id</th>\n      <th>category_id</th>\n      <th>main_category</th>\n      <th>sub_category</th>\n      <th>brand</th>\n      <th>price</th>\n      <th>user_id</th>\n      <th>user_session</th>\n    </tr>\n  </thead>\n  <tbody>\n    <tr>\n      <th>0</th>\n      <td>2019-10-01 00:00:00 UTC</td>\n      <td>cart</td>\n      <td>5773203</td>\n      <td>1487580005134238553</td>\n      <td>NaN</td>\n      <td>NaN</td>\n      <td>runail</td>\n      <td>2.62</td>\n      <td>463240011</td>\n      <td>26dd6e6e-4dac-4778-8d2c-92e149dab885</td>\n    </tr>\n    <tr>\n      <th>1</th>\n      <td>2019-10-01 00:00:03 UTC</td>\n      <td>cart</td>\n      <td>5773353</td>\n      <td>1487580005134238553</td>\n      <td>NaN</td>\n      <td>NaN</td>\n      <td>runail</td>\n      <td>2.62</td>\n      <td>463240011</td>\n      <td>26dd6e6e-4dac-4778-8d2c-92e149dab885</td>\n    </tr>\n    <tr>\n      <th>2</th>\n      <td>2019-10-01 00:00:07 UTC</td>\n      <td>cart</td>\n      <td>5881589</td>\n      <td>2151191071051219817</td>\n      <td>NaN</td>\n      <td>NaN</td>\n      <td>lovely</td>\n      <td>13.48</td>\n      <td>429681830</td>\n      <td>49e8d843-adf3-428b-a2c3-fe8bc6a307c9</td>\n    </tr>\n    <tr>\n      <th>3</th>\n      <td>2019-10-01 00:00:07 UTC</td>\n      <td>cart</td>\n      <td>5723490</td>\n      <td>1487580005134238553</td>\n      <td>NaN</td>\n      <td>NaN</td>\n      <td>runail</td>\n      <td>2.62</td>\n      <td>463240011</td>\n      <td>26dd6e6e-4dac-4778-8d2c-92e149dab885</td>\n    </tr>\n    <tr>\n      <th>4</th>\n      <td>2019-10-01 00:00:15 UTC</td>\n      <td>cart</td>\n      <td>5881449</td>\n      <td>1487580013522845895</td>\n      <td>NaN</td>\n      <td>NaN</td>\n      <td>lovely</td>\n      <td>0.56</td>\n      <td>429681830</td>\n      <td>49e8d843-adf3-428b-a2c3-fe8bc6a307c9</td>\n    </tr>\n    <tr>\n      <th>...</th>\n      <td>...</td>\n      <td>...</td>\n      <td>...</td>\n      <td>...</td>\n      <td>...</td>\n      <td>...</td>\n      <td>...</td>\n      <td>...</td>\n      <td>...</td>\n      <td>...</td>\n    </tr>\n    <tr>\n      <th>4069171</th>\n      <td>2019-10-31 17:40:55 UTC</td>\n      <td>remove_from_cart</td>\n      <td>5556098</td>\n      <td>1487580007659209676</td>\n      <td>NaN</td>\n      <td>NaN</td>\n      <td>cnd</td>\n      <td>11.11</td>\n      <td>488043875</td>\n      <td>1fc42dca-e3bd-425b-9db0-5683c0ad7a41</td>\n    </tr>\n    <tr>\n      <th>4069202</th>\n      <td>2019-10-31 17:41:10 UTC</td>\n      <td>remove_from_cart</td>\n      <td>5867468</td>\n      <td>1487580004882580302</td>\n      <td>NaN</td>\n      <td>NaN</td>\n      <td>NaN</td>\n      <td>1.35</td>\n      <td>488043875</td>\n      <td>1fc42dca-e3bd-425b-9db0-5683c0ad7a41</td>\n    </tr>\n    <tr>\n      <th>4069208</th>\n      <td>2019-10-31 17:41:12 UTC</td>\n      <td>remove_from_cart</td>\n      <td>5867532</td>\n      <td>1487580005595612013</td>\n      <td>NaN</td>\n      <td>NaN</td>\n      <td>NaN</td>\n      <td>2.10</td>\n      <td>488043875</td>\n      <td>1fc42dca-e3bd-425b-9db0-5683c0ad7a41</td>\n    </tr>\n    <tr>\n      <th>4084745</th>\n      <td>2019-10-31 19:43:15 UTC</td>\n      <td>remove_from_cart</td>\n      <td>5848306</td>\n      <td>1487580005595612013</td>\n      <td>NaN</td>\n      <td>NaN</td>\n      <td>NaN</td>\n      <td>3.00</td>\n      <td>515625962</td>\n      <td>cecb8d26-0f85-4432-b3b6-2f5f576864f7</td>\n    </tr>\n    <tr>\n      <th>4096856</th>\n      <td>2019-10-31 21:38:55 UTC</td>\n      <td>remove_from_cart</td>\n      <td>5749064</td>\n      <td>1495705810729173554</td>\n      <td>NaN</td>\n      <td>NaN</td>\n      <td>konad</td>\n      <td>3.00</td>\n      <td>534905445</td>\n      <td>42c384db-f445-46d5-b198-e919eb89c318</td>\n    </tr>\n  </tbody>\n</table>\n<p>41899 rows × 10 columns</p>\n</div>"
          },
          "metadata": {}
        }
      ]
    },
    {
      "cell_type": "code",
      "source": [],
      "metadata": {
        "id": "CFCZf2nEUxLt"
      },
      "execution_count": null,
      "outputs": []
    },
    {
      "cell_type": "code",
      "source": [
        "# Categorize products based on price ranges\n",
        "bins = [0, 10, 100, 500, float('inf')]\n",
        "labels = ['0-10 USD', '10-100 USD', '100-500 USD', 'Above 500 USD']\n",
        "price_range_data = pd.cut(data_product['price'], bins=bins, labels=labels).reset_index()\n",
        "\n",
        "# Count the number of products in each price range\n",
        "price_range_counts = price_range_data['price'].value_counts().reset_index()\n",
        "price_range_counts.columns = ['price', 'count']\n",
        "\n",
        "# Create a donut chart using Plotly Express\n",
        "fig = px.pie(price_range_counts, values='count', names='price', hole=0.3,\n",
        "             labels={'price': 'Price Range'},\n",
        "             title='Distribution of Products by Price Range')\n",
        "\n",
        "# Show the donut chart\n",
        "fig.show()\n",
        "\n",
        "# Median price of each brand\n",
        "median_price = data.groupby('brand')['price'].median().reset_index()\n",
        "print(median_price)"
      ],
      "metadata": {
        "execution": {
          "iopub.status.busy": "2024-07-11T14:58:44.538735Z",
          "iopub.execute_input": "2024-07-11T14:58:44.539009Z",
          "iopub.status.idle": "2024-07-11T14:58:45.243715Z",
          "shell.execute_reply.started": "2024-07-11T14:58:44.538985Z",
          "shell.execute_reply": "2024-07-11T14:58:45.242759Z"
        },
        "trusted": true,
        "id": "XYDN4Xv2UxLt",
        "outputId": "35916226-705d-4265-f62a-96c970ba693f"
      },
      "execution_count": null,
      "outputs": [
        {
          "output_type": "display_data",
          "data": {
            "text/html": "<div>                            <div id=\"7ad6d390-8261-46c1-bb52-ff22921943e2\" class=\"plotly-graph-div\" style=\"height:525px; width:100%;\"></div>            <script type=\"text/javascript\">                require([\"plotly\"], function(Plotly) {                    window.PLOTLYENV=window.PLOTLYENV || {};                                    if (document.getElementById(\"7ad6d390-8261-46c1-bb52-ff22921943e2\")) {                    Plotly.newPlot(                        \"7ad6d390-8261-46c1-bb52-ff22921943e2\",                        [{\"domain\":{\"x\":[0.0,1.0],\"y\":[0.0,1.0]},\"hole\":0.3,\"hovertemplate\":\"Price Range=%{label}\\u003cbr\\u003ecount=%{value}\\u003cextra\\u003e\\u003c\\u002fextra\\u003e\",\"labels\":[\"0-10 USD\",\"10-100 USD\",\"100-500 USD\",\"Above 500 USD\"],\"legendgroup\":\"\",\"name\":\"\",\"showlegend\":true,\"values\":[33646,7481,97,0],\"type\":\"pie\"}],                        {\"template\":{\"data\":{\"histogram2dcontour\":[{\"type\":\"histogram2dcontour\",\"colorbar\":{\"outlinewidth\":0,\"ticks\":\"\"},\"colorscale\":[[0.0,\"#0d0887\"],[0.1111111111111111,\"#46039f\"],[0.2222222222222222,\"#7201a8\"],[0.3333333333333333,\"#9c179e\"],[0.4444444444444444,\"#bd3786\"],[0.5555555555555556,\"#d8576b\"],[0.6666666666666666,\"#ed7953\"],[0.7777777777777778,\"#fb9f3a\"],[0.8888888888888888,\"#fdca26\"],[1.0,\"#f0f921\"]]}],\"choropleth\":[{\"type\":\"choropleth\",\"colorbar\":{\"outlinewidth\":0,\"ticks\":\"\"}}],\"histogram2d\":[{\"type\":\"histogram2d\",\"colorbar\":{\"outlinewidth\":0,\"ticks\":\"\"},\"colorscale\":[[0.0,\"#0d0887\"],[0.1111111111111111,\"#46039f\"],[0.2222222222222222,\"#7201a8\"],[0.3333333333333333,\"#9c179e\"],[0.4444444444444444,\"#bd3786\"],[0.5555555555555556,\"#d8576b\"],[0.6666666666666666,\"#ed7953\"],[0.7777777777777778,\"#fb9f3a\"],[0.8888888888888888,\"#fdca26\"],[1.0,\"#f0f921\"]]}],\"heatmap\":[{\"type\":\"heatmap\",\"colorbar\":{\"outlinewidth\":0,\"ticks\":\"\"},\"colorscale\":[[0.0,\"#0d0887\"],[0.1111111111111111,\"#46039f\"],[0.2222222222222222,\"#7201a8\"],[0.3333333333333333,\"#9c179e\"],[0.4444444444444444,\"#bd3786\"],[0.5555555555555556,\"#d8576b\"],[0.6666666666666666,\"#ed7953\"],[0.7777777777777778,\"#fb9f3a\"],[0.8888888888888888,\"#fdca26\"],[1.0,\"#f0f921\"]]}],\"heatmapgl\":[{\"type\":\"heatmapgl\",\"colorbar\":{\"outlinewidth\":0,\"ticks\":\"\"},\"colorscale\":[[0.0,\"#0d0887\"],[0.1111111111111111,\"#46039f\"],[0.2222222222222222,\"#7201a8\"],[0.3333333333333333,\"#9c179e\"],[0.4444444444444444,\"#bd3786\"],[0.5555555555555556,\"#d8576b\"],[0.6666666666666666,\"#ed7953\"],[0.7777777777777778,\"#fb9f3a\"],[0.8888888888888888,\"#fdca26\"],[1.0,\"#f0f921\"]]}],\"contourcarpet\":[{\"type\":\"contourcarpet\",\"colorbar\":{\"outlinewidth\":0,\"ticks\":\"\"}}],\"contour\":[{\"type\":\"contour\",\"colorbar\":{\"outlinewidth\":0,\"ticks\":\"\"},\"colorscale\":[[0.0,\"#0d0887\"],[0.1111111111111111,\"#46039f\"],[0.2222222222222222,\"#7201a8\"],[0.3333333333333333,\"#9c179e\"],[0.4444444444444444,\"#bd3786\"],[0.5555555555555556,\"#d8576b\"],[0.6666666666666666,\"#ed7953\"],[0.7777777777777778,\"#fb9f3a\"],[0.8888888888888888,\"#fdca26\"],[1.0,\"#f0f921\"]]}],\"surface\":[{\"type\":\"surface\",\"colorbar\":{\"outlinewidth\":0,\"ticks\":\"\"},\"colorscale\":[[0.0,\"#0d0887\"],[0.1111111111111111,\"#46039f\"],[0.2222222222222222,\"#7201a8\"],[0.3333333333333333,\"#9c179e\"],[0.4444444444444444,\"#bd3786\"],[0.5555555555555556,\"#d8576b\"],[0.6666666666666666,\"#ed7953\"],[0.7777777777777778,\"#fb9f3a\"],[0.8888888888888888,\"#fdca26\"],[1.0,\"#f0f921\"]]}],\"mesh3d\":[{\"type\":\"mesh3d\",\"colorbar\":{\"outlinewidth\":0,\"ticks\":\"\"}}],\"scatter\":[{\"fillpattern\":{\"fillmode\":\"overlay\",\"size\":10,\"solidity\":0.2},\"type\":\"scatter\"}],\"parcoords\":[{\"type\":\"parcoords\",\"line\":{\"colorbar\":{\"outlinewidth\":0,\"ticks\":\"\"}}}],\"scatterpolargl\":[{\"type\":\"scatterpolargl\",\"marker\":{\"colorbar\":{\"outlinewidth\":0,\"ticks\":\"\"}}}],\"bar\":[{\"error_x\":{\"color\":\"#2a3f5f\"},\"error_y\":{\"color\":\"#2a3f5f\"},\"marker\":{\"line\":{\"color\":\"#E5ECF6\",\"width\":0.5},\"pattern\":{\"fillmode\":\"overlay\",\"size\":10,\"solidity\":0.2}},\"type\":\"bar\"}],\"scattergeo\":[{\"type\":\"scattergeo\",\"marker\":{\"colorbar\":{\"outlinewidth\":0,\"ticks\":\"\"}}}],\"scatterpolar\":[{\"type\":\"scatterpolar\",\"marker\":{\"colorbar\":{\"outlinewidth\":0,\"ticks\":\"\"}}}],\"histogram\":[{\"marker\":{\"pattern\":{\"fillmode\":\"overlay\",\"size\":10,\"solidity\":0.2}},\"type\":\"histogram\"}],\"scattergl\":[{\"type\":\"scattergl\",\"marker\":{\"colorbar\":{\"outlinewidth\":0,\"ticks\":\"\"}}}],\"scatter3d\":[{\"type\":\"scatter3d\",\"line\":{\"colorbar\":{\"outlinewidth\":0,\"ticks\":\"\"}},\"marker\":{\"colorbar\":{\"outlinewidth\":0,\"ticks\":\"\"}}}],\"scattermapbox\":[{\"type\":\"scattermapbox\",\"marker\":{\"colorbar\":{\"outlinewidth\":0,\"ticks\":\"\"}}}],\"scatterternary\":[{\"type\":\"scatterternary\",\"marker\":{\"colorbar\":{\"outlinewidth\":0,\"ticks\":\"\"}}}],\"scattercarpet\":[{\"type\":\"scattercarpet\",\"marker\":{\"colorbar\":{\"outlinewidth\":0,\"ticks\":\"\"}}}],\"carpet\":[{\"aaxis\":{\"endlinecolor\":\"#2a3f5f\",\"gridcolor\":\"white\",\"linecolor\":\"white\",\"minorgridcolor\":\"white\",\"startlinecolor\":\"#2a3f5f\"},\"baxis\":{\"endlinecolor\":\"#2a3f5f\",\"gridcolor\":\"white\",\"linecolor\":\"white\",\"minorgridcolor\":\"white\",\"startlinecolor\":\"#2a3f5f\"},\"type\":\"carpet\"}],\"table\":[{\"cells\":{\"fill\":{\"color\":\"#EBF0F8\"},\"line\":{\"color\":\"white\"}},\"header\":{\"fill\":{\"color\":\"#C8D4E3\"},\"line\":{\"color\":\"white\"}},\"type\":\"table\"}],\"barpolar\":[{\"marker\":{\"line\":{\"color\":\"#E5ECF6\",\"width\":0.5},\"pattern\":{\"fillmode\":\"overlay\",\"size\":10,\"solidity\":0.2}},\"type\":\"barpolar\"}],\"pie\":[{\"automargin\":true,\"type\":\"pie\"}]},\"layout\":{\"autotypenumbers\":\"strict\",\"colorway\":[\"#636efa\",\"#EF553B\",\"#00cc96\",\"#ab63fa\",\"#FFA15A\",\"#19d3f3\",\"#FF6692\",\"#B6E880\",\"#FF97FF\",\"#FECB52\"],\"font\":{\"color\":\"#2a3f5f\"},\"hovermode\":\"closest\",\"hoverlabel\":{\"align\":\"left\"},\"paper_bgcolor\":\"white\",\"plot_bgcolor\":\"#E5ECF6\",\"polar\":{\"bgcolor\":\"#E5ECF6\",\"angularaxis\":{\"gridcolor\":\"white\",\"linecolor\":\"white\",\"ticks\":\"\"},\"radialaxis\":{\"gridcolor\":\"white\",\"linecolor\":\"white\",\"ticks\":\"\"}},\"ternary\":{\"bgcolor\":\"#E5ECF6\",\"aaxis\":{\"gridcolor\":\"white\",\"linecolor\":\"white\",\"ticks\":\"\"},\"baxis\":{\"gridcolor\":\"white\",\"linecolor\":\"white\",\"ticks\":\"\"},\"caxis\":{\"gridcolor\":\"white\",\"linecolor\":\"white\",\"ticks\":\"\"}},\"coloraxis\":{\"colorbar\":{\"outlinewidth\":0,\"ticks\":\"\"}},\"colorscale\":{\"sequential\":[[0.0,\"#0d0887\"],[0.1111111111111111,\"#46039f\"],[0.2222222222222222,\"#7201a8\"],[0.3333333333333333,\"#9c179e\"],[0.4444444444444444,\"#bd3786\"],[0.5555555555555556,\"#d8576b\"],[0.6666666666666666,\"#ed7953\"],[0.7777777777777778,\"#fb9f3a\"],[0.8888888888888888,\"#fdca26\"],[1.0,\"#f0f921\"]],\"sequentialminus\":[[0.0,\"#0d0887\"],[0.1111111111111111,\"#46039f\"],[0.2222222222222222,\"#7201a8\"],[0.3333333333333333,\"#9c179e\"],[0.4444444444444444,\"#bd3786\"],[0.5555555555555556,\"#d8576b\"],[0.6666666666666666,\"#ed7953\"],[0.7777777777777778,\"#fb9f3a\"],[0.8888888888888888,\"#fdca26\"],[1.0,\"#f0f921\"]],\"diverging\":[[0,\"#8e0152\"],[0.1,\"#c51b7d\"],[0.2,\"#de77ae\"],[0.3,\"#f1b6da\"],[0.4,\"#fde0ef\"],[0.5,\"#f7f7f7\"],[0.6,\"#e6f5d0\"],[0.7,\"#b8e186\"],[0.8,\"#7fbc41\"],[0.9,\"#4d9221\"],[1,\"#276419\"]]},\"xaxis\":{\"gridcolor\":\"white\",\"linecolor\":\"white\",\"ticks\":\"\",\"title\":{\"standoff\":15},\"zerolinecolor\":\"white\",\"automargin\":true,\"zerolinewidth\":2},\"yaxis\":{\"gridcolor\":\"white\",\"linecolor\":\"white\",\"ticks\":\"\",\"title\":{\"standoff\":15},\"zerolinecolor\":\"white\",\"automargin\":true,\"zerolinewidth\":2},\"scene\":{\"xaxis\":{\"backgroundcolor\":\"#E5ECF6\",\"gridcolor\":\"white\",\"linecolor\":\"white\",\"showbackground\":true,\"ticks\":\"\",\"zerolinecolor\":\"white\",\"gridwidth\":2},\"yaxis\":{\"backgroundcolor\":\"#E5ECF6\",\"gridcolor\":\"white\",\"linecolor\":\"white\",\"showbackground\":true,\"ticks\":\"\",\"zerolinecolor\":\"white\",\"gridwidth\":2},\"zaxis\":{\"backgroundcolor\":\"#E5ECF6\",\"gridcolor\":\"white\",\"linecolor\":\"white\",\"showbackground\":true,\"ticks\":\"\",\"zerolinecolor\":\"white\",\"gridwidth\":2}},\"shapedefaults\":{\"line\":{\"color\":\"#2a3f5f\"}},\"annotationdefaults\":{\"arrowcolor\":\"#2a3f5f\",\"arrowhead\":0,\"arrowwidth\":1},\"geo\":{\"bgcolor\":\"white\",\"landcolor\":\"#E5ECF6\",\"subunitcolor\":\"white\",\"showland\":true,\"showlakes\":true,\"lakecolor\":\"white\"},\"title\":{\"x\":0.05},\"mapbox\":{\"style\":\"light\"}}},\"legend\":{\"tracegroupgap\":0},\"title\":{\"text\":\"Distribution of Products by Price Range\"}},                        {\"responsive\": true}                    ).then(function(){\n                            \nvar gd = document.getElementById('7ad6d390-8261-46c1-bb52-ff22921943e2');\nvar x = new MutationObserver(function (mutations, observer) {{\n        var display = window.getComputedStyle(gd).display;\n        if (!display || display === 'none') {{\n            console.log([gd, 'removed!']);\n            Plotly.purge(gd);\n            observer.disconnect();\n        }}\n}});\n\n// Listen for the removal of the full notebook cells\nvar notebookContainer = gd.closest('#notebook-container');\nif (notebookContainer) {{\n    x.observe(notebookContainer, {childList: true});\n}}\n\n// Listen for the clearing of the current output cell\nvar outputEl = gd.closest('.output');\nif (outputEl) {{\n    x.observe(outputEl, {childList: true});\n}}\n\n                        })                };                });            </script>        </div>"
          },
          "metadata": {}
        },
        {
          "name": "stdout",
          "text": "          brand  price\n0      airnails   1.43\n1         almea  31.43\n2        andrea   5.54\n3        ardell   6.37\n4    art-visage   2.94\n..          ...    ...\n235       ypsed  19.16\n236        yu-r  39.68\n237         zab  16.03\n238      zeitun  10.87\n239      zinger   4.60\n\n[240 rows x 2 columns]\n",
          "output_type": "stream"
        }
      ]
    },
    {
      "cell_type": "code",
      "source": [
        "median_range_data = pd.cut(median_price['price'], bins=bins, labels=labels)\n",
        "\n",
        "# Count the number of products in each price range\n",
        "median_range_counts = median_range_data.value_counts()\n",
        "\n",
        "# Create a donut chart using Plotly Express\n",
        "fig = px.bar(data_frame=median_range_counts, x=median_range_counts,y=median_range_counts.index,\n",
        "            orientation='h', labels={'x': 'Number of brands', 'y': 'Median Price Range'},\n",
        "             title='Number of Brands by Median Price Range')\n",
        "\n",
        "# Show the donut chart\n",
        "fig.show()"
      ],
      "metadata": {
        "execution": {
          "iopub.status.busy": "2024-07-11T14:58:45.245305Z",
          "iopub.execute_input": "2024-07-11T14:58:45.245683Z",
          "iopub.status.idle": "2024-07-11T14:58:45.334055Z",
          "shell.execute_reply.started": "2024-07-11T14:58:45.245647Z",
          "shell.execute_reply": "2024-07-11T14:58:45.333038Z"
        },
        "trusted": true,
        "id": "JDm9MmMlUxLt",
        "outputId": "facf6a22-221e-4428-ee5e-3067e2e075d1"
      },
      "execution_count": null,
      "outputs": [
        {
          "output_type": "display_data",
          "data": {
            "text/html": "<div>                            <div id=\"19cd4068-4ede-45e8-9b60-06922fb45a27\" class=\"plotly-graph-div\" style=\"height:525px; width:100%;\"></div>            <script type=\"text/javascript\">                require([\"plotly\"], function(Plotly) {                    window.PLOTLYENV=window.PLOTLYENV || {};                                    if (document.getElementById(\"19cd4068-4ede-45e8-9b60-06922fb45a27\")) {                    Plotly.newPlot(                        \"19cd4068-4ede-45e8-9b60-06922fb45a27\",                        [{\"alignmentgroup\":\"True\",\"hovertemplate\":\"Number of brands=%{x}\\u003cbr\\u003eindex=%{y}\\u003cextra\\u003e\\u003c\\u002fextra\\u003e\",\"legendgroup\":\"\",\"marker\":{\"color\":\"#636efa\",\"pattern\":{\"shape\":\"\"}},\"name\":\"\",\"offsetgroup\":\"\",\"orientation\":\"h\",\"showlegend\":false,\"textposition\":\"auto\",\"x\":[148,87,5,0],\"xaxis\":\"x\",\"y\":[\"0-10 USD\",\"10-100 USD\",\"100-500 USD\",\"Above 500 USD\"],\"yaxis\":\"y\",\"type\":\"bar\"}],                        {\"template\":{\"data\":{\"histogram2dcontour\":[{\"type\":\"histogram2dcontour\",\"colorbar\":{\"outlinewidth\":0,\"ticks\":\"\"},\"colorscale\":[[0.0,\"#0d0887\"],[0.1111111111111111,\"#46039f\"],[0.2222222222222222,\"#7201a8\"],[0.3333333333333333,\"#9c179e\"],[0.4444444444444444,\"#bd3786\"],[0.5555555555555556,\"#d8576b\"],[0.6666666666666666,\"#ed7953\"],[0.7777777777777778,\"#fb9f3a\"],[0.8888888888888888,\"#fdca26\"],[1.0,\"#f0f921\"]]}],\"choropleth\":[{\"type\":\"choropleth\",\"colorbar\":{\"outlinewidth\":0,\"ticks\":\"\"}}],\"histogram2d\":[{\"type\":\"histogram2d\",\"colorbar\":{\"outlinewidth\":0,\"ticks\":\"\"},\"colorscale\":[[0.0,\"#0d0887\"],[0.1111111111111111,\"#46039f\"],[0.2222222222222222,\"#7201a8\"],[0.3333333333333333,\"#9c179e\"],[0.4444444444444444,\"#bd3786\"],[0.5555555555555556,\"#d8576b\"],[0.6666666666666666,\"#ed7953\"],[0.7777777777777778,\"#fb9f3a\"],[0.8888888888888888,\"#fdca26\"],[1.0,\"#f0f921\"]]}],\"heatmap\":[{\"type\":\"heatmap\",\"colorbar\":{\"outlinewidth\":0,\"ticks\":\"\"},\"colorscale\":[[0.0,\"#0d0887\"],[0.1111111111111111,\"#46039f\"],[0.2222222222222222,\"#7201a8\"],[0.3333333333333333,\"#9c179e\"],[0.4444444444444444,\"#bd3786\"],[0.5555555555555556,\"#d8576b\"],[0.6666666666666666,\"#ed7953\"],[0.7777777777777778,\"#fb9f3a\"],[0.8888888888888888,\"#fdca26\"],[1.0,\"#f0f921\"]]}],\"heatmapgl\":[{\"type\":\"heatmapgl\",\"colorbar\":{\"outlinewidth\":0,\"ticks\":\"\"},\"colorscale\":[[0.0,\"#0d0887\"],[0.1111111111111111,\"#46039f\"],[0.2222222222222222,\"#7201a8\"],[0.3333333333333333,\"#9c179e\"],[0.4444444444444444,\"#bd3786\"],[0.5555555555555556,\"#d8576b\"],[0.6666666666666666,\"#ed7953\"],[0.7777777777777778,\"#fb9f3a\"],[0.8888888888888888,\"#fdca26\"],[1.0,\"#f0f921\"]]}],\"contourcarpet\":[{\"type\":\"contourcarpet\",\"colorbar\":{\"outlinewidth\":0,\"ticks\":\"\"}}],\"contour\":[{\"type\":\"contour\",\"colorbar\":{\"outlinewidth\":0,\"ticks\":\"\"},\"colorscale\":[[0.0,\"#0d0887\"],[0.1111111111111111,\"#46039f\"],[0.2222222222222222,\"#7201a8\"],[0.3333333333333333,\"#9c179e\"],[0.4444444444444444,\"#bd3786\"],[0.5555555555555556,\"#d8576b\"],[0.6666666666666666,\"#ed7953\"],[0.7777777777777778,\"#fb9f3a\"],[0.8888888888888888,\"#fdca26\"],[1.0,\"#f0f921\"]]}],\"surface\":[{\"type\":\"surface\",\"colorbar\":{\"outlinewidth\":0,\"ticks\":\"\"},\"colorscale\":[[0.0,\"#0d0887\"],[0.1111111111111111,\"#46039f\"],[0.2222222222222222,\"#7201a8\"],[0.3333333333333333,\"#9c179e\"],[0.4444444444444444,\"#bd3786\"],[0.5555555555555556,\"#d8576b\"],[0.6666666666666666,\"#ed7953\"],[0.7777777777777778,\"#fb9f3a\"],[0.8888888888888888,\"#fdca26\"],[1.0,\"#f0f921\"]]}],\"mesh3d\":[{\"type\":\"mesh3d\",\"colorbar\":{\"outlinewidth\":0,\"ticks\":\"\"}}],\"scatter\":[{\"fillpattern\":{\"fillmode\":\"overlay\",\"size\":10,\"solidity\":0.2},\"type\":\"scatter\"}],\"parcoords\":[{\"type\":\"parcoords\",\"line\":{\"colorbar\":{\"outlinewidth\":0,\"ticks\":\"\"}}}],\"scatterpolargl\":[{\"type\":\"scatterpolargl\",\"marker\":{\"colorbar\":{\"outlinewidth\":0,\"ticks\":\"\"}}}],\"bar\":[{\"error_x\":{\"color\":\"#2a3f5f\"},\"error_y\":{\"color\":\"#2a3f5f\"},\"marker\":{\"line\":{\"color\":\"#E5ECF6\",\"width\":0.5},\"pattern\":{\"fillmode\":\"overlay\",\"size\":10,\"solidity\":0.2}},\"type\":\"bar\"}],\"scattergeo\":[{\"type\":\"scattergeo\",\"marker\":{\"colorbar\":{\"outlinewidth\":0,\"ticks\":\"\"}}}],\"scatterpolar\":[{\"type\":\"scatterpolar\",\"marker\":{\"colorbar\":{\"outlinewidth\":0,\"ticks\":\"\"}}}],\"histogram\":[{\"marker\":{\"pattern\":{\"fillmode\":\"overlay\",\"size\":10,\"solidity\":0.2}},\"type\":\"histogram\"}],\"scattergl\":[{\"type\":\"scattergl\",\"marker\":{\"colorbar\":{\"outlinewidth\":0,\"ticks\":\"\"}}}],\"scatter3d\":[{\"type\":\"scatter3d\",\"line\":{\"colorbar\":{\"outlinewidth\":0,\"ticks\":\"\"}},\"marker\":{\"colorbar\":{\"outlinewidth\":0,\"ticks\":\"\"}}}],\"scattermapbox\":[{\"type\":\"scattermapbox\",\"marker\":{\"colorbar\":{\"outlinewidth\":0,\"ticks\":\"\"}}}],\"scatterternary\":[{\"type\":\"scatterternary\",\"marker\":{\"colorbar\":{\"outlinewidth\":0,\"ticks\":\"\"}}}],\"scattercarpet\":[{\"type\":\"scattercarpet\",\"marker\":{\"colorbar\":{\"outlinewidth\":0,\"ticks\":\"\"}}}],\"carpet\":[{\"aaxis\":{\"endlinecolor\":\"#2a3f5f\",\"gridcolor\":\"white\",\"linecolor\":\"white\",\"minorgridcolor\":\"white\",\"startlinecolor\":\"#2a3f5f\"},\"baxis\":{\"endlinecolor\":\"#2a3f5f\",\"gridcolor\":\"white\",\"linecolor\":\"white\",\"minorgridcolor\":\"white\",\"startlinecolor\":\"#2a3f5f\"},\"type\":\"carpet\"}],\"table\":[{\"cells\":{\"fill\":{\"color\":\"#EBF0F8\"},\"line\":{\"color\":\"white\"}},\"header\":{\"fill\":{\"color\":\"#C8D4E3\"},\"line\":{\"color\":\"white\"}},\"type\":\"table\"}],\"barpolar\":[{\"marker\":{\"line\":{\"color\":\"#E5ECF6\",\"width\":0.5},\"pattern\":{\"fillmode\":\"overlay\",\"size\":10,\"solidity\":0.2}},\"type\":\"barpolar\"}],\"pie\":[{\"automargin\":true,\"type\":\"pie\"}]},\"layout\":{\"autotypenumbers\":\"strict\",\"colorway\":[\"#636efa\",\"#EF553B\",\"#00cc96\",\"#ab63fa\",\"#FFA15A\",\"#19d3f3\",\"#FF6692\",\"#B6E880\",\"#FF97FF\",\"#FECB52\"],\"font\":{\"color\":\"#2a3f5f\"},\"hovermode\":\"closest\",\"hoverlabel\":{\"align\":\"left\"},\"paper_bgcolor\":\"white\",\"plot_bgcolor\":\"#E5ECF6\",\"polar\":{\"bgcolor\":\"#E5ECF6\",\"angularaxis\":{\"gridcolor\":\"white\",\"linecolor\":\"white\",\"ticks\":\"\"},\"radialaxis\":{\"gridcolor\":\"white\",\"linecolor\":\"white\",\"ticks\":\"\"}},\"ternary\":{\"bgcolor\":\"#E5ECF6\",\"aaxis\":{\"gridcolor\":\"white\",\"linecolor\":\"white\",\"ticks\":\"\"},\"baxis\":{\"gridcolor\":\"white\",\"linecolor\":\"white\",\"ticks\":\"\"},\"caxis\":{\"gridcolor\":\"white\",\"linecolor\":\"white\",\"ticks\":\"\"}},\"coloraxis\":{\"colorbar\":{\"outlinewidth\":0,\"ticks\":\"\"}},\"colorscale\":{\"sequential\":[[0.0,\"#0d0887\"],[0.1111111111111111,\"#46039f\"],[0.2222222222222222,\"#7201a8\"],[0.3333333333333333,\"#9c179e\"],[0.4444444444444444,\"#bd3786\"],[0.5555555555555556,\"#d8576b\"],[0.6666666666666666,\"#ed7953\"],[0.7777777777777778,\"#fb9f3a\"],[0.8888888888888888,\"#fdca26\"],[1.0,\"#f0f921\"]],\"sequentialminus\":[[0.0,\"#0d0887\"],[0.1111111111111111,\"#46039f\"],[0.2222222222222222,\"#7201a8\"],[0.3333333333333333,\"#9c179e\"],[0.4444444444444444,\"#bd3786\"],[0.5555555555555556,\"#d8576b\"],[0.6666666666666666,\"#ed7953\"],[0.7777777777777778,\"#fb9f3a\"],[0.8888888888888888,\"#fdca26\"],[1.0,\"#f0f921\"]],\"diverging\":[[0,\"#8e0152\"],[0.1,\"#c51b7d\"],[0.2,\"#de77ae\"],[0.3,\"#f1b6da\"],[0.4,\"#fde0ef\"],[0.5,\"#f7f7f7\"],[0.6,\"#e6f5d0\"],[0.7,\"#b8e186\"],[0.8,\"#7fbc41\"],[0.9,\"#4d9221\"],[1,\"#276419\"]]},\"xaxis\":{\"gridcolor\":\"white\",\"linecolor\":\"white\",\"ticks\":\"\",\"title\":{\"standoff\":15},\"zerolinecolor\":\"white\",\"automargin\":true,\"zerolinewidth\":2},\"yaxis\":{\"gridcolor\":\"white\",\"linecolor\":\"white\",\"ticks\":\"\",\"title\":{\"standoff\":15},\"zerolinecolor\":\"white\",\"automargin\":true,\"zerolinewidth\":2},\"scene\":{\"xaxis\":{\"backgroundcolor\":\"#E5ECF6\",\"gridcolor\":\"white\",\"linecolor\":\"white\",\"showbackground\":true,\"ticks\":\"\",\"zerolinecolor\":\"white\",\"gridwidth\":2},\"yaxis\":{\"backgroundcolor\":\"#E5ECF6\",\"gridcolor\":\"white\",\"linecolor\":\"white\",\"showbackground\":true,\"ticks\":\"\",\"zerolinecolor\":\"white\",\"gridwidth\":2},\"zaxis\":{\"backgroundcolor\":\"#E5ECF6\",\"gridcolor\":\"white\",\"linecolor\":\"white\",\"showbackground\":true,\"ticks\":\"\",\"zerolinecolor\":\"white\",\"gridwidth\":2}},\"shapedefaults\":{\"line\":{\"color\":\"#2a3f5f\"}},\"annotationdefaults\":{\"arrowcolor\":\"#2a3f5f\",\"arrowhead\":0,\"arrowwidth\":1},\"geo\":{\"bgcolor\":\"white\",\"landcolor\":\"#E5ECF6\",\"subunitcolor\":\"white\",\"showland\":true,\"showlakes\":true,\"lakecolor\":\"white\"},\"title\":{\"x\":0.05},\"mapbox\":{\"style\":\"light\"}}},\"xaxis\":{\"anchor\":\"y\",\"domain\":[0.0,1.0],\"title\":{\"text\":\"Number of brands\"}},\"yaxis\":{\"anchor\":\"x\",\"domain\":[0.0,1.0],\"title\":{\"text\":\"index\"}},\"legend\":{\"tracegroupgap\":0},\"title\":{\"text\":\"Number of Brands by Median Price Range\"},\"barmode\":\"relative\"},                        {\"responsive\": true}                    ).then(function(){\n                            \nvar gd = document.getElementById('19cd4068-4ede-45e8-9b60-06922fb45a27');\nvar x = new MutationObserver(function (mutations, observer) {{\n        var display = window.getComputedStyle(gd).display;\n        if (!display || display === 'none') {{\n            console.log([gd, 'removed!']);\n            Plotly.purge(gd);\n            observer.disconnect();\n        }}\n}});\n\n// Listen for the removal of the full notebook cells\nvar notebookContainer = gd.closest('#notebook-container');\nif (notebookContainer) {{\n    x.observe(notebookContainer, {childList: true});\n}}\n\n// Listen for the clearing of the current output cell\nvar outputEl = gd.closest('.output');\nif (outputEl) {{\n    x.observe(outputEl, {childList: true});\n}}\n\n                        })                };                });            </script>        </div>"
          },
          "metadata": {}
        }
      ]
    },
    {
      "cell_type": "markdown",
      "source": [
        "The presence of a significant number of brands in the **100-500 USD** range suggests a consumer demand for mid-range products with advanced features (will have closer look on customer perspectives)."
      ],
      "metadata": {
        "id": "ABh91SIQUxLt"
      }
    },
    {
      "cell_type": "markdown",
      "source": [
        "## 1.4. Event time"
      ],
      "metadata": {
        "id": "d9QxOFJJUxLu"
      }
    },
    {
      "cell_type": "markdown",
      "source": [
        "In this section, we are going to split **event_time** into **date** and **time**, also extract **weekday** from **date** feature for further customer behavior analysis:"
      ],
      "metadata": {
        "id": "sGxKA6_OUxLu"
      }
    },
    {
      "cell_type": "code",
      "source": [
        "def split_datetime(data):\n",
        "    # Split into date and time\n",
        "    data['event_time'] = pd.to_datetime(data['event_time'])\n",
        "    data['date'] = pd.to_datetime(data['event_time'].dt.date)\n",
        "    data['time'] = data['event_time'].dt.time\n",
        "    data['weekday'] = data['date'].dt.weekday\n",
        "    print('Splitted sucessfully')\n",
        "\n",
        "    data.drop('event_time', axis='columns')\n",
        "    data = data[['date', 'weekday', 'time', 'event_type', 'product_id', 'category_id', 'main_category', 'sub_category', 'brand', 'price', 'user_id', 'user_session']]\n",
        "    print('Rearanged sucessfully')\n",
        "\n",
        "    data.sort_values(by=['date', 'time'])\n",
        "    data['date'] = pd.to_datetime(data['date'])\n",
        "\n",
        "    return data\n",
        "\n",
        "data = split_datetime(data)\n",
        "data.head(10)"
      ],
      "metadata": {
        "execution": {
          "iopub.status.busy": "2024-07-11T14:58:45.335286Z",
          "iopub.execute_input": "2024-07-11T14:58:45.335555Z"
        },
        "trusted": true,
        "id": "S1so11GlUxLu"
      },
      "execution_count": null,
      "outputs": []
    },
    {
      "cell_type": "code",
      "source": [
        "data.info()"
      ],
      "metadata": {
        "trusted": true,
        "id": "ygYVv5Q0UxLu"
      },
      "execution_count": null,
      "outputs": []
    },
    {
      "cell_type": "code",
      "source": [
        "# drop negative prices\n",
        "def drop_neg_price(data):\n",
        "    data = data.loc[data.price>=0]\n",
        "    return data\n",
        "\n",
        "data = drop_neg_price(data)"
      ],
      "metadata": {
        "trusted": true,
        "id": "gDsakp67UxLu"
      },
      "execution_count": null,
      "outputs": []
    },
    {
      "cell_type": "code",
      "source": [
        "# check neg prices\n",
        "data.loc[data.price<0]"
      ],
      "metadata": {
        "trusted": true,
        "id": "ae_JweSSUxLu"
      },
      "execution_count": null,
      "outputs": []
    },
    {
      "cell_type": "code",
      "source": [],
      "metadata": {
        "trusted": true,
        "id": "AmAaXANrUxLv"
      },
      "execution_count": null,
      "outputs": []
    },
    {
      "cell_type": "code",
      "source": [
        "for i,j in data.groupby('category_id')['price']:\n",
        "    print(i,j)\n",
        "    break"
      ],
      "metadata": {
        "trusted": true,
        "id": "zBF1ei9HUxLv"
      },
      "execution_count": null,
      "outputs": []
    },
    {
      "cell_type": "code",
      "source": [],
      "metadata": {
        "trusted": true,
        "id": "DtjQXWTLUxLv"
      },
      "execution_count": null,
      "outputs": []
    },
    {
      "cell_type": "code",
      "source": [
        "percentiles_IQR = data.groupby('category_id')['price'].quantile([0.25, 0.5, 0.75]).unstack().reset_index()\n",
        "percentiles_IQR"
      ],
      "metadata": {
        "trusted": true,
        "id": "AcM5K12GUxLv"
      },
      "execution_count": null,
      "outputs": []
    },
    {
      "cell_type": "code",
      "source": [
        "percentiles_IQR.rename(columns={0.25: 'Q1', 0.5: 'median', 0.75: 'Q3'}, inplace=True)\n",
        "percentiles_IQR"
      ],
      "metadata": {
        "trusted": true,
        "id": "n9rg2OHiUxLv"
      },
      "execution_count": null,
      "outputs": []
    },
    {
      "cell_type": "code",
      "source": [
        "percentiles_IQR['IQR'] = percentiles_IQR['Q3'] - percentiles_IQR['Q1']\n",
        "percentiles_IQR"
      ],
      "metadata": {
        "trusted": true,
        "id": "MHkzDYWDUxLv"
      },
      "execution_count": null,
      "outputs": []
    },
    {
      "cell_type": "code",
      "source": [
        " data.merge(percentiles_IQR, on='category_id', how='left')"
      ],
      "metadata": {
        "trusted": true,
        "id": "RGeBq8wHUxLw"
      },
      "execution_count": null,
      "outputs": []
    },
    {
      "cell_type": "code",
      "source": [
        "data"
      ],
      "metadata": {
        "trusted": true,
        "id": "1KgraIrtUxLw"
      },
      "execution_count": null,
      "outputs": []
    },
    {
      "cell_type": "code",
      "source": [],
      "metadata": {
        "trusted": true,
        "id": "i1sRyVuFUxLw"
      },
      "execution_count": null,
      "outputs": []
    },
    {
      "cell_type": "code",
      "source": [
        "def relative_price(data):\n",
        "    print('Calculating relative price...')\n",
        "\n",
        "    start = time.time()\n",
        "    # calculate percentiles_IQR\n",
        "    percentiles_IQR = data.groupby('category_id')['price'].quantile([0.25, 0.5, 0.75]).unstack().reset_index()\n",
        "    percentiles_IQR.rename(columns={0.25: 'Q1', 0.5: 'median', 0.75: 'Q3'}, inplace=True)\n",
        "    percentiles_IQR['IQR'] = percentiles_IQR['Q3'] - percentiles_IQR['Q1']\n",
        "\n",
        "\n",
        "    # calculate relative price by price-median/IQR\n",
        "    data = data.merge(percentiles_IQR, on='category_id', how='left')\n",
        "    data['relative_price'] = np.where(data['IQR']==0, 0, (data['price']-data['median'])/data['IQR'])\n",
        "    data['relative_price'] = data['relative_price'].apply(lambda x: max(min(x, 10), -10))  # avoid exceeding\n",
        "    data.drop(columns=['Q1', 'Q3', 'median', 'IQR'], axis='columns',inplace=True)\n",
        "    end = time.time()\n",
        "\n",
        "    # rearrange\n",
        "    data = data[['date', 'weekday', 'time', 'event_type', 'product_id', 'category_id', 'main_category', 'sub_category',\n",
        "                'brand', 'price', 'relative_price', 'user_id', 'user_session']]\n",
        "    print('Finished in {0:.3f}s'.format(end-start))\n",
        "    return data\n",
        "\n",
        "data = relative_price(data)\n",
        "data.describe()"
      ],
      "metadata": {
        "trusted": true,
        "id": "EPjCAd17UxLw"
      },
      "execution_count": null,
      "outputs": []
    },
    {
      "cell_type": "code",
      "source": [
        "data.isna().sum()"
      ],
      "metadata": {
        "trusted": true,
        "id": "MTjuTA_qUxLw"
      },
      "execution_count": null,
      "outputs": []
    },
    {
      "cell_type": "code",
      "source": [
        "data"
      ],
      "metadata": {
        "trusted": true,
        "id": "_nUZhHHtUxLw"
      },
      "execution_count": null,
      "outputs": []
    },
    {
      "cell_type": "code",
      "source": [
        "clean_name = f'{name}-clean'\n",
        "#data.to_csv(f'{input_path}\\\\clean\\\\{clean_name}.csv')"
      ],
      "metadata": {
        "trusted": true,
        "id": "rOvI9GnTUxLx"
      },
      "execution_count": null,
      "outputs": []
    },
    {
      "cell_type": "markdown",
      "source": [
        "# 2. Feature Engineering\n",
        "\n",
        "Create 2 tables: product and user tables for futher recommendation system"
      ],
      "metadata": {
        "id": "HGxDx5z8UxLx"
      }
    },
    {
      "cell_type": "code",
      "source": [
        "def merge_dataframe(list_data, on=None, suffixes=('_x', '_y')):\n",
        "\n",
        "\tdf_merge = list_data[0]\n",
        "\tfor df in list_data[1:]:\n",
        "\t\tdf_merge = df_merge.merge(df, on=on, how='left', suffixes=suffixes)\n",
        "\n",
        "\treturn df_merge"
      ],
      "metadata": {
        "trusted": true,
        "id": "zJq1EzRGUxLx"
      },
      "execution_count": null,
      "outputs": []
    },
    {
      "cell_type": "code",
      "source": [],
      "metadata": {
        "trusted": true,
        "id": "AvPVT1eyUxLx"
      },
      "execution_count": null,
      "outputs": []
    },
    {
      "cell_type": "markdown",
      "source": [
        "## 2.1. Product table"
      ],
      "metadata": {
        "id": "qCmy_YRBUxLx"
      }
    },
    {
      "cell_type": "code",
      "source": [],
      "metadata": {
        "id": "BbyziBaIUxLx"
      },
      "execution_count": null,
      "outputs": []
    },
    {
      "cell_type": "code",
      "source": [],
      "metadata": {
        "id": "edfC4O71UxLy"
      },
      "execution_count": null,
      "outputs": []
    },
    {
      "cell_type": "code",
      "source": [
        "def create_productTable(data):\n",
        "\n",
        "\tstart = time.time()\n",
        "\t# feature engineering\n",
        "\tprint('Basic features processing...')\n",
        "\tproductTable = data.groupby('product_id').agg(\n",
        "\t\tfirst_date=('date', 'min'),\n",
        "\t\tlast_date=('date', 'max'),\n",
        "\t\tcategory_id=('category_id', 'first'),\n",
        "\t\tavg_price=('price', 'mean'),\n",
        "\t\trelative_price=('relative_price', 'mean'),\n",
        "\t\tviews=('event_type', lambda x: (x == 'view').sum()),\n",
        "\t\tcarts=('event_type', lambda x: (x == 'cart').sum()),\n",
        "\t\tremove_from_carts=('event_type', lambda x: (x == 'remove_from_cart').sum()),\n",
        "\t\tpurchases=('event_type', lambda x: (x == 'purchase').sum()),\n",
        "\t).reset_index()\n",
        "\n",
        "\tprint('Interaction rates processing...')\n",
        "\t# calculate rate\n",
        "\tproductTable['cart_per_view'] = 100*np.where(productTable['views'] == 0, productTable['carts'], productTable['carts']/productTable['views'])\n",
        "\tproductTable['purchase_per_view'] = 100*np.where(productTable['views'] == 0, productTable['purchases'], productTable['purchases']/productTable['views'])\n",
        "\tproductTable['remove_per_cart'] = 100*np.where(productTable['carts'] == 0, productTable['remove_from_carts'], productTable['remove_from_carts']/productTable['carts'])\n",
        "\tproductTable['purchase_per_cart'] = 100*np.where(productTable['carts'] == 0, productTable['purchases'], productTable['purchases']/productTable['carts'])\n",
        "\n",
        "\t# by weighted mean\n",
        "\ttotal_views = productTable[['views']].sum().sum()\n",
        "\ttotal_carts = productTable[['carts']].sum().sum()\n",
        "\ttotal_removes = productTable[['remove_from_carts']].sum().sum()\n",
        "\ttotal_purchases = productTable[['purchases']].sum().sum()\n",
        "\n",
        "\t# rate by weights\n",
        "\tproductTable['cart_per_view'] = productTable['cart_per_view']\\\n",
        "\t\t\t*(productTable['views']/total_views)\n",
        "\tproductTable['purchase_per_view'] = productTable['purchase_per_view']\\\n",
        "\t\t\t*(productTable['views']/total_views)\n",
        "\tproductTable['remove_per_cart'] = productTable['remove_per_cart']\\\n",
        "\t\t\t*((productTable['carts'])/total_carts)\n",
        "\tproductTable['purchase_per_cart'] = productTable['purchase_per_cart']\\\n",
        "\t\t\t*((productTable['carts'])/total_carts)\n",
        "\n",
        "\t# normalize rates by min-max\n",
        "\trate_columns = ['cart_per_view', 'purchase_per_view', 'remove_per_cart', 'purchase_per_cart']\n",
        "\tfor col in rate_columns:\n",
        "\t\tmin_value = productTable[col].min()\n",
        "\t\tmax_value = productTable[col].max()\n",
        "\t\tproductTable[col] = (productTable[col] - min_value) / (max_value - min_value)\n",
        "\tend = time.time()\n",
        "\n",
        "\tprint('Create product table success. Finish in {0:.3f}s'.format(end-start))\n",
        "\treturn productTable\n",
        "\n",
        "productTable = create_productTable(data)\n",
        "productTable"
      ],
      "metadata": {
        "trusted": true,
        "id": "3p4cmLvIUxLy"
      },
      "execution_count": null,
      "outputs": []
    },
    {
      "cell_type": "code",
      "source": [
        "productTable.info()"
      ],
      "metadata": {
        "trusted": true,
        "id": "FORb0RNKUxLy"
      },
      "execution_count": null,
      "outputs": []
    },
    {
      "cell_type": "code",
      "source": [
        "productTable.describe()"
      ],
      "metadata": {
        "trusted": true,
        "id": "Xvr5yr4aUxLy"
      },
      "execution_count": null,
      "outputs": []
    },
    {
      "cell_type": "code",
      "source": [
        "product_name = f'{name}-product'\n",
        "#data.to_csv(f'{input_path}\\\\clean\\\\{product_name}.csv')"
      ],
      "metadata": {
        "trusted": true,
        "id": "k6TISX4OUxLy"
      },
      "execution_count": null,
      "outputs": []
    },
    {
      "cell_type": "code",
      "source": [
        "productTable"
      ],
      "metadata": {
        "trusted": true,
        "id": "KG30FwWuUxLy"
      },
      "execution_count": null,
      "outputs": []
    },
    {
      "cell_type": "code",
      "source": [],
      "metadata": {
        "id": "L0hwKR9XUxLz"
      },
      "execution_count": null,
      "outputs": []
    },
    {
      "cell_type": "markdown",
      "source": [
        "## 2.1. User table"
      ],
      "metadata": {
        "id": "0_PukNQ0UxLz"
      }
    },
    {
      "cell_type": "code",
      "source": [
        "def create_userInteraction(data):\n",
        "    # count events\n",
        "    views = data.loc[data.event_type=='view'].groupby('user_id').event_type.count().reset_index()\n",
        "    views.rename(columns={'event_type': 'views'}, inplace=True)\n",
        "    carts = data.loc[data.event_type=='cart'].groupby('user_id').event_type.count().reset_index()\n",
        "    carts.rename(columns={'event_type': 'carts'}, inplace=True)\n",
        "    removes = data.loc[data.event_type=='remove_from_cart'].groupby('user_id').event_type.count().reset_index()\n",
        "    removes.rename(columns={'event_type': 'remove_from_carts'}, inplace=True)\n",
        "    purchases = data.loc[data.event_type=='purchase'].groupby('user_id').event_type.count().reset_index()\n",
        "    purchases.rename(columns={'event_type': 'purchases'}, inplace=True)\n",
        "    sumEvent_mask = merge_dataframe([views, carts, removes, purchases], on='user_id')\n",
        "    sumEvent_mask.fillna(0, inplace=True)\n",
        "\n",
        "    # average price\n",
        "    viewPrice_mask = data.loc[data.event_type=='view'].groupby(['user_id']).price.mean().reset_index()\n",
        "    viewPrice_mask.rename(columns={'price': 'avg_view_price'}, inplace=True)\n",
        "    purchasePrice_mask = data.loc[data.event_type=='cart'].groupby(['user_id']).price.mean().reset_index()\n",
        "    purchasePrice_mask.rename(columns={'price': 'avg_purchase_price'}, inplace=True)\n",
        "    avgPrice_mask = merge_dataframe([viewPrice_mask, purchasePrice_mask], on='user_id')\n",
        "    avgPrice_mask.fillna(0, inplace=True)\n",
        "\n",
        "    # average price\n",
        "    viewRelative_mask = data.loc[data.event_type=='view'].groupby(['user_id']).relative_price.mean().reset_index()\n",
        "    viewRelative_mask.rename(columns={'relative_price': 'avg_view_relative_price'}, inplace=True)\n",
        "    purchaseRelative_mask = data.loc[data.event_type=='cart'].groupby(['user_id']).relative_price.mean().reset_index()\n",
        "    purchaseRelative_mask.rename(columns={'relative_price': 'avg_purchase_relative_price'}, inplace=True)\n",
        "    avgRelative_mask = merge_dataframe([viewRelative_mask, purchaseRelative_mask], on='user_id')\n",
        "    avgRelative_mask.fillna(0, inplace=True)\n",
        "\n",
        "    # distinct product counts by event\n",
        "    viewCount_mask = data.loc[data.event_type=='view'].groupby(['user_id']).product_id.nunique().reset_index()\n",
        "    viewCount_mask.rename(columns={'product_id': 'distinct_view_product'}, inplace=True)\n",
        "    cartCount_mask = data.loc[data.event_type=='cart'].groupby(['user_id']).product_id.nunique().reset_index()\n",
        "    cartCount_mask.rename(columns={'product_id': 'distinct_cart_product'}, inplace=True)\n",
        "    removeCount_mask = data.loc[data.event_type=='remove_from_cart'].groupby(['user_id']).product_id.nunique().reset_index()\n",
        "    removeCount_mask.rename(columns={'product_id': 'distinct_remove_product'}, inplace=True)\n",
        "    purchaseCount_mask = data.loc[data.event_type=='purchase'].groupby(['user_id']).product_id.nunique().reset_index()\n",
        "    purchaseCount_mask.rename(columns={'product_id': 'distinct_purchase_product'}, inplace=True)\n",
        "    eventCount_mask = merge_dataframe([viewCount_mask, cartCount_mask, removeCount_mask, purchaseCount_mask], on='user_id')\n",
        "    eventCount_mask.fillna(0, inplace=True)\n",
        "\n",
        "    return merge_dataframe([sumEvent_mask, avgPrice_mask, avgRelative_mask, eventCount_mask,], on='user_id')\n",
        "\n",
        "#df = create_userInteraction(data)\n",
        "#df"
      ],
      "metadata": {
        "trusted": true,
        "id": "1eWSv-mVUxLz"
      },
      "execution_count": null,
      "outputs": []
    },
    {
      "cell_type": "code",
      "source": [
        "# create user table\n",
        "def create_userTable(data):\n",
        "\tstart = time.time()\n",
        "\t# feature engineering\n",
        "\tprint('Basic features processing...')\n",
        "\tuserTable = data.groupby('user_id').agg(\n",
        "\t\tfirst_date=('date', 'min'),\n",
        "\t\tlast_date=('date', 'max'),\n",
        "\t).reset_index()\n",
        "\n",
        "\tuserTable['first_date'] = pd.to_datetime(userTable['first_date'])\n",
        "\tuserTable['last_date'] = pd.to_datetime(userTable['last_date'])\n",
        "\n",
        "\tprint('Interaction features processing...')\n",
        "\t# create event features\n",
        "\tuserTable = merge_dataframe([userTable, create_userInteraction(data)], on='user_id')\n",
        "\n",
        "\tprint('Interaction rates processing...')\n",
        "\t# calculate rate\n",
        "\tuserTable['cart_per_view'] = 100*np.where(userTable['views'] == 0, userTable['carts'], userTable['carts']/userTable['views'])\n",
        "\tuserTable['purchase_per_view'] = 100*np.where(userTable['views'] == 0, userTable['purchases'], userTable['purchases']/userTable['views'])\n",
        "\tuserTable['remove_per_cart'] = 100*np.where(userTable['carts'] == 0, userTable['remove_from_carts'], userTable['remove_from_carts']/userTable['carts'])\n",
        "\tuserTable['purchase_per_cart'] = 100*np.where(userTable['carts'] == 0, userTable['purchases'], userTable['purchases']/userTable['carts'])\n",
        "\tuserTable.fillna(0, inplace=True)\n",
        "\n",
        "\t# by weighted mean\n",
        "\ttotal_views = userTable[['views']].sum().sum()\n",
        "\ttotal_carts = userTable[['carts']].sum().sum()\n",
        "\ttotal_removes = userTable[['remove_from_carts']].sum().sum()\n",
        "\ttotal_purchases = userTable[['purchases']].sum().sum()\n",
        "\n",
        "\t# rate by weights\n",
        "\tuserTable['cart_per_view'] = userTable['cart_per_view']\\\n",
        "\t\t\t*(userTable['views']/total_views)\n",
        "\tuserTable['purchase_per_view'] = userTable['purchase_per_view']\\\n",
        "\t\t\t*(userTable['views']/total_views)\n",
        "\tuserTable['remove_per_cart'] = userTable['remove_per_cart']\\\n",
        "\t\t\t*((userTable['carts'])/total_carts)\n",
        "\tuserTable['purchase_per_cart'] = userTable['purchase_per_cart']\\\n",
        "\t\t\t*((userTable['carts'])/total_carts)\n",
        "\n",
        "\t# normalize rates by min-max\n",
        "\trate_columns = ['cart_per_view', 'purchase_per_view', 'remove_per_cart', 'purchase_per_cart']\n",
        "\tfor col in rate_columns:\n",
        "\t\tmin_value = userTable[col].min()\n",
        "\t\tmax_value = userTable[col].max()\n",
        "\t\tuserTable[col] = (userTable[col] - min_value) / (max_value - min_value)\n",
        "\n",
        "\t# change type\n",
        "\tprint('Check datatypes processing...')\n",
        "\tcolumns = userTable.columns\n",
        "\tuserTable_type = ['int64', 'date', 'date',\n",
        "\t\t   \t\t\t'int64', 'int64', 'int64', 'int64',\n",
        "\t\t   \t\t\t'float', 'float', 'float', 'float',\n",
        "\t\t\t\t\t'int64', 'int64', 'int64', 'int64',\n",
        "\t\t\t\t\t'float', 'float', 'float', 'float']\n",
        "\tfor i, col in enumerate(columns):\n",
        "\t\tif i in [1,2]: pass # i change date already\n",
        "\t\telse: userTable[col] = userTable[col].astype(userTable_type[i])\n",
        "\n",
        "\tend = time.time()\n",
        "\tprint('Create user table success. Finish in {0:.3f}s'.format(end-start))\n",
        "\treturn userTable\n",
        "\n",
        "userTable = create_userTable(data)\n",
        "userTable"
      ],
      "metadata": {
        "trusted": true,
        "id": "l4GMUPDWUxLz"
      },
      "execution_count": null,
      "outputs": []
    },
    {
      "cell_type": "code",
      "source": [
        "userTable.info()"
      ],
      "metadata": {
        "trusted": true,
        "id": "ZbyKCDacUxLz"
      },
      "execution_count": null,
      "outputs": []
    },
    {
      "cell_type": "code",
      "source": [
        "userTable.describe()"
      ],
      "metadata": {
        "trusted": true,
        "id": "oeBKASx8UxLz"
      },
      "execution_count": null,
      "outputs": []
    },
    {
      "cell_type": "code",
      "source": [
        "user_name = f'{name}-user'\n",
        "#data.to_csv(f'{input_path}\\\\clean\\\\{user_name}.csv')"
      ],
      "metadata": {
        "trusted": true,
        "id": "ZIXArG-lUxL0"
      },
      "execution_count": null,
      "outputs": []
    },
    {
      "cell_type": "markdown",
      "source": [
        "# 3. Recommendation System\n",
        "\n",
        "## 3.1. Interaction Matrix\n",
        "\n",
        "In collaborative filtering, it will based on the past interaction of user and of similar users to give recommended items. We need 3 main matrix:\n",
        "\n",
        "1. User matrix: containing user content\n",
        "\n",
        "2. Product matrix: contains product information\n",
        "\n",
        "3. Interation matrix: display the interaction score (e.g. ratings) of all users toward every available products.\n",
        "\n",
        "Alternating Least Squares algorithm is one approach to collaborative filtering that can be used to train a model on this interaction matrix. We will derive the interaction matrix based on recency combined with weight decay. Recent interactions are often more indicative of a user's current preferences than older interactions. In this case, we will intialize the interval recency for interaction matrix as 15 days (half-month) and weight decay to be 0.5 for this interval."
      ],
      "metadata": {
        "id": "CrhD1SsyUxL0"
      }
    },
    {
      "cell_type": "code",
      "source": [
        "# Plot the half-life decay function\n",
        "\n",
        "half_life = 20\n",
        "x = np.arange(0, 100)\n",
        "y = np.power(0.5, x / half_life)\n",
        "df = pd.DataFrame({'Days': x, 'Weight': y})\n",
        "\n",
        "# Plot the function\n",
        "ax = df.plot(x='Days', y='Weight')\n",
        "\n",
        "# Add vertical lines at 20 and 40 days with explanatory text\n",
        "ax.set_yticks([0, 0.25, 0.5, 0.75, 1])\n",
        "ax.axvline(x=20, linestyle='--', color='gray', ymax=0.49)\n",
        "ax.axvline(x=40, linestyle='--', color='gray', ymax=0.25)\n",
        "ax.axhline(y=0.5, linestyle='--', color='gray', xmax=0.23)\n",
        "ax.axhline(y=0.25, linestyle='--', color='gray', xmax=0.41)\n",
        "ax.text(20, 0.4, 'Half-Life', ha='center')\n",
        "ax.text(40, 0.15, '2 Half Lives', ha='center')\n",
        "\n",
        "plt.show()"
      ],
      "metadata": {
        "trusted": true,
        "id": "ukr8f9jaUxL0"
      },
      "execution_count": null,
      "outputs": []
    },
    {
      "cell_type": "code",
      "source": [
        "def calculate_recency(data):\n",
        "    # Get the timestamp of the most recent event in the data_rec\n",
        "    data_rec = data.copy()\n",
        "    last_date = data_rec['date'].max()\n",
        "    recency_days = 15\n",
        "    weight_decay = 0.5\n",
        "\n",
        "    # Calculate the recency of each event in terms of days\n",
        "    data_rec['recency'] = (last_date - data_rec['date']).dt.total_seconds() / (24 * 60 * 60)\n",
        "\n",
        "    # Half-life decay function, the value of an event with weight_decay after recency_days days\n",
        "    data_rec['recency_coef'] = np.exp(np.log(weight_decay) * data_rec['recency'] / recency_days)\n",
        "\n",
        "    # Drop the 'date' column if needed for real-time system\n",
        "    data_rec.drop(columns=['date', 'time'], inplace=True)\n",
        "\n",
        "    return data_rec\n",
        "\n",
        "data_rec = calculate_recency(data)"
      ],
      "metadata": {
        "trusted": true,
        "id": "sIHK_iLKUxL0"
      },
      "execution_count": null,
      "outputs": []
    },
    {
      "cell_type": "code",
      "source": [
        "data_rec"
      ],
      "metadata": {
        "trusted": true,
        "id": "udWdtq6-UxL0"
      },
      "execution_count": null,
      "outputs": []
    },
    {
      "cell_type": "code",
      "source": [],
      "metadata": {
        "id": "U8e1XCknUxL0"
      },
      "execution_count": null,
      "outputs": []
    },
    {
      "cell_type": "code",
      "source": [],
      "metadata": {
        "id": "bZIt7bkFUxL0"
      },
      "execution_count": null,
      "outputs": []
    },
    {
      "cell_type": "code",
      "source": [
        "# # initial dataframe\n",
        "# interactionTable = pd.DataFrame(columns=['user_id', 'product_id'])\n",
        "# interactionTable.user_id = data_rec.user_id\n",
        "# interactionTable.product_id = data_rec.product_id\n",
        "# interactionTable.drop_duplicates(inplace=True)"
      ],
      "metadata": {
        "trusted": true,
        "id": "TN3q8YQTUxL1"
      },
      "execution_count": null,
      "outputs": []
    },
    {
      "cell_type": "code",
      "source": [
        "# interactionTable"
      ],
      "metadata": {
        "trusted": true,
        "id": "pCcaU4QBUxL1"
      },
      "execution_count": null,
      "outputs": []
    },
    {
      "cell_type": "code",
      "source": [
        "# event_names = ['view', 'cart', 'remove_from_cart', 'purchase']\n",
        "# event_names"
      ],
      "metadata": {
        "trusted": true,
        "id": "l_i4i-89UxL1"
      },
      "execution_count": null,
      "outputs": []
    },
    {
      "cell_type": "code",
      "source": [
        "# view_weight=0.1\n",
        "# cart_weight=0.4\n",
        "# remove_from_cart_weight=-0.3\n",
        "# purchase_weight=1.0"
      ],
      "metadata": {
        "trusted": true,
        "id": "jkY41nNhUxL1"
      },
      "execution_count": null,
      "outputs": []
    },
    {
      "cell_type": "code",
      "source": [
        "# event_weights = [view_weight, cart_weight, remove_from_cart_weight, purchase_weight]\n",
        "# event_weights"
      ],
      "metadata": {
        "trusted": true,
        "id": "M_ylmcAaUxL1"
      },
      "execution_count": null,
      "outputs": []
    },
    {
      "cell_type": "code",
      "source": [
        "# data_rec"
      ],
      "metadata": {
        "trusted": true,
        "id": "hP03OkSeUxL1"
      },
      "execution_count": null,
      "outputs": []
    },
    {
      "cell_type": "code",
      "source": [],
      "metadata": {
        "trusted": true,
        "id": "GlXlWwi4UxL1"
      },
      "execution_count": null,
      "outputs": []
    },
    {
      "cell_type": "code",
      "source": [
        "# df = data_rec.loc[data_rec['event_type']=='view'].groupby(['user_id', 'product_id']).recency_coef.sum().reset_index()"
      ],
      "metadata": {
        "trusted": true,
        "id": "mn2IfK2FUxL1"
      },
      "execution_count": null,
      "outputs": []
    },
    {
      "cell_type": "code",
      "source": [
        "# df.rename(columns={'recency_coef': f'{name}s'}, inplace=True)"
      ],
      "metadata": {
        "trusted": true,
        "id": "q94NEhQbUxL2"
      },
      "execution_count": null,
      "outputs": []
    },
    {
      "cell_type": "code",
      "source": [
        "# df"
      ],
      "metadata": {
        "trusted": true,
        "id": "wwmRul_nUxL2"
      },
      "execution_count": null,
      "outputs": []
    },
    {
      "cell_type": "code",
      "source": [
        "# interactionTable = merge_dataframe([interactionTable, df], on=['user_id', 'product_id'])"
      ],
      "metadata": {
        "trusted": true,
        "id": "GGNdGwuhUxL2"
      },
      "execution_count": null,
      "outputs": []
    },
    {
      "cell_type": "code",
      "source": [
        "# interactionTable"
      ],
      "metadata": {
        "trusted": true,
        "id": "WX2cfr-hUxL2"
      },
      "execution_count": null,
      "outputs": []
    },
    {
      "cell_type": "code",
      "source": [
        "# interactionTable.isna().sum()"
      ],
      "metadata": {
        "trusted": true,
        "id": "_pVwW991UxL2"
      },
      "execution_count": null,
      "outputs": []
    },
    {
      "cell_type": "code",
      "source": [
        "# interactionTable.fillna(value=0, inplace=True)\n",
        "# interactionTable.isna().sum()"
      ],
      "metadata": {
        "trusted": true,
        "id": "NU4KF1CYUxL2"
      },
      "execution_count": null,
      "outputs": []
    },
    {
      "cell_type": "code",
      "source": [
        "# interactionTable['interaction_score'] = 0\n",
        "# interactionTable"
      ],
      "metadata": {
        "trusted": true,
        "id": "MP5Sa-zFUxL3"
      },
      "execution_count": null,
      "outputs": []
    },
    {
      "cell_type": "code",
      "source": [
        "# for weight, name in zip(event_weights, event_names):\n",
        "#               print(weight,name)\n",
        "#               break"
      ],
      "metadata": {
        "trusted": true,
        "id": "uuvZFuEIUxL3"
      },
      "execution_count": null,
      "outputs": []
    },
    {
      "cell_type": "code",
      "source": [],
      "metadata": {
        "id": "BEj-XNsCUxL3"
      },
      "execution_count": null,
      "outputs": []
    },
    {
      "cell_type": "code",
      "source": [
        "# for weight, name in zip(event_weights, event_names):\n",
        "#     interactionTable['interaction_score'] += weight*interactionTable[f'{name}s']\n",
        "#     print(interactionTable)"
      ],
      "metadata": {
        "trusted": true,
        "id": "Yz8HvSwUUxL3"
      },
      "execution_count": null,
      "outputs": []
    },
    {
      "cell_type": "code",
      "source": [],
      "metadata": {
        "id": "NuXpUQ_TUxL3"
      },
      "execution_count": null,
      "outputs": []
    },
    {
      "cell_type": "code",
      "source": [
        "#  # fill NaN with 0 (0 interaction score)\n",
        "# interactionTable.fillna(value=0, inplace=True)\n",
        "\n",
        "# print('Calculating interaction scores...')\n",
        "# # calculate the interaction overall score for user-product pair by weight\n",
        "# interactionTable['interaction_score'] = 0\n",
        "# for weight, name in zip(event_weights, event_names):\n",
        "#     interactionTable['interaction_score'] += weight*interactionTable[f'{name}s']\n",
        "\n",
        "# interactionTable['interaction_score'] = interactionTable['interaction_score'].apply(lambda x: max(0,x))\n",
        "# interactionTable['interaction_score'] = interactionTable['interaction_score'].apply(lambda x: min(100,x))\n",
        "\n",
        "# interactionTable.sort_values(by='interaction_score', ascending=False, inplace=True)\n"
      ],
      "metadata": {
        "trusted": true,
        "id": "Pupq4bIoUxL3"
      },
      "execution_count": null,
      "outputs": []
    },
    {
      "cell_type": "code",
      "source": [],
      "metadata": {
        "id": "AzASXKe5UxL3"
      },
      "execution_count": null,
      "outputs": []
    },
    {
      "cell_type": "code",
      "source": [],
      "metadata": {
        "id": "UTg7rLNdUxL3"
      },
      "execution_count": null,
      "outputs": []
    },
    {
      "cell_type": "code",
      "source": [
        "def create_interactionTable(data, view_weight=0.1, cart_weight=0.4, remove_from_cart_weight=-0.3, purchase_weight=1.0):\n",
        "\n",
        "    start = time.time()\n",
        "\n",
        "    print('Calculating basic interactions...')\n",
        "    # initial dataframe\n",
        "    interactionTable = pd.DataFrame(columns=['user_id', 'product_id'])\n",
        "    interactionTable.user_id = data.user_id\n",
        "    interactionTable.product_id = data.product_id\n",
        "    interactionTable.drop_duplicates(inplace=True)\n",
        "\n",
        "    # for every event, calculate the interaction score for each user-product pair\n",
        "    event_names = ['view', 'cart', 'remove_from_cart', 'purchase']\n",
        "    event_weights = [view_weight, cart_weight, remove_from_cart_weight, purchase_weight]\n",
        "    for name in event_names:\n",
        "        df = data.loc[data['event_type']==name].groupby(['user_id', 'product_id']).recency_coef.sum().reset_index()\n",
        "        df.rename(columns={'recency_coef': f'{name}s'}, inplace=True)\n",
        "        interactionTable = merge_dataframe([interactionTable, df], on=['user_id', 'product_id'])\n",
        "\n",
        "    # fill NaN with 0 (0 interaction score)\n",
        "    interactionTable.fillna(value=0, inplace=True)\n",
        "\n",
        "    print('Calculating interaction scores...')\n",
        "    # calculate the interaction overall score for user-product pair by weight\n",
        "    interactionTable['interaction_score'] = 0\n",
        "    for weight, name in zip(event_weights, event_names):\n",
        "        interactionTable['interaction_score'] += weight*interactionTable[f'{name}s']\n",
        "\n",
        "    interactionTable['interaction_score'] = interactionTable['interaction_score'].apply(lambda x: max(0,x))\n",
        "    interactionTable['interaction_score'] = interactionTable['interaction_score'].apply(lambda x: min(100,x))\n",
        "\n",
        "    interactionTable.sort_values(by='interaction_score', ascending=False, inplace=True)\n",
        "\n",
        "#     # drop columns\n",
        "    for name in event_names:\n",
        "        interactionTable.drop(columns=f'{name}s', inplace=True)\n",
        "    end = time.time()\n",
        "\n",
        "    print('Create interaction table success. Finished in {0:.3f}s'.format(end-start))\n",
        "\n",
        "    return interactionTable\n",
        "\n",
        "interactionTable = create_interactionTable(data_rec)\n",
        "interactionTable.describe()"
      ],
      "metadata": {
        "trusted": true,
        "id": "t_NzQ3xoUxL4"
      },
      "execution_count": null,
      "outputs": []
    },
    {
      "cell_type": "code",
      "source": [
        "interactionTable['user_index'] = pd.factorize(interactionTable['user_id'])[0]\n",
        "interactionTable['product_index'] = pd.factorize(interactionTable['product_id'])[0]\n",
        "interactionTable"
      ],
      "metadata": {
        "trusted": true,
        "id": "kGPbu8aYUxL4"
      },
      "execution_count": null,
      "outputs": []
    },
    {
      "cell_type": "code",
      "source": [
        "interactionTable.info()"
      ],
      "metadata": {
        "trusted": true,
        "id": "Nur2KW_aUxL4"
      },
      "execution_count": null,
      "outputs": []
    },
    {
      "cell_type": "code",
      "source": [
        "interactionTable = interactionTable[['user_id', 'user_index', 'product_id', 'product_index', 'interaction_score']]\n",
        "interactionTable"
      ],
      "metadata": {
        "trusted": true,
        "id": "PJLUuZ5yUxL4"
      },
      "execution_count": null,
      "outputs": []
    },
    {
      "cell_type": "code",
      "source": [
        "interaction_name = f'{name}-interaction'\n",
        "#interactionTable.to_csv(f'{input_path}\\\\clean\\\\{interaction_name}.csv')"
      ],
      "metadata": {
        "trusted": true,
        "id": "9Ptkj-_ZUxL4"
      },
      "execution_count": null,
      "outputs": []
    },
    {
      "cell_type": "code",
      "source": [
        "gpus = tf.config.experimental.list_physical_devices('GPU')\n",
        "for gpu in gpus:\n",
        "    tf.config.experimental.set_memory_growth(gpu,True)"
      ],
      "metadata": {
        "trusted": true,
        "id": "sCZp0lGpUxL4"
      },
      "execution_count": null,
      "outputs": []
    },
    {
      "cell_type": "code",
      "source": [
        "def checkpoint_call():\n",
        "    if not os.path.exists('checkpoints'):\n",
        "        os.makedirs('checkpoints')\n",
        "    model_ver = max([int(i) for i in os.listdir(f\"checkpoints\")]+[0]) + 1\n",
        "    filepath=f\"checkpoints/{model_ver}/\"+\"{epoch}.ckpt\"\n",
        "    return ModelCheckpoint(filepath, monitor='val_loss', verbose=1,\n",
        "                                           save_weights_only=True, save_best_only=True, mode='min')"
      ],
      "metadata": {
        "trusted": true,
        "id": "JVLno_9RUxL5"
      },
      "execution_count": null,
      "outputs": []
    },
    {
      "cell_type": "markdown",
      "source": [
        "## 3.2. Collaborative by Neural Network"
      ],
      "metadata": {
        "id": "Bgzif56CUxL5"
      }
    },
    {
      "cell_type": "code",
      "source": [
        "train, test = train_test_split(interactionTable, test_size=0.2, random_state=42)\n",
        "\n",
        "attributes = ['user_index', 'product_index', 'interaction_score']\n",
        "\n",
        "train = train[attributes]\n",
        "\n",
        "test = test[attributes]\n",
        "\n",
        "train"
      ],
      "metadata": {
        "trusted": true,
        "id": "3bGc6m_SUxL5"
      },
      "execution_count": null,
      "outputs": []
    },
    {
      "cell_type": "code",
      "source": [
        "train['user_index'].nunique()"
      ],
      "metadata": {
        "trusted": true,
        "id": "PoI8bz73UxL5"
      },
      "execution_count": null,
      "outputs": []
    },
    {
      "cell_type": "code",
      "source": [
        "test['product_index'].nunique()"
      ],
      "metadata": {
        "trusted": true,
        "id": "plQQ8eVFUxL5"
      },
      "execution_count": null,
      "outputs": []
    },
    {
      "cell_type": "code",
      "source": [
        "import tensorflow as tf\n",
        "\n",
        "# Example user and product indices, replace with actual values\n",
        "num_users = train['user_index'].nunique()\n",
        "num_products = test['product_index'].nunique()\n",
        "\n",
        "# Define inputs\n",
        "user_input = tf.keras.layers.Input(shape=(1,))\n",
        "product_input = tf.keras.layers.Input(shape=(1,))\n",
        "\n",
        "# User embedding and sequential layers\n",
        "user_embedding = tf.keras.layers.Embedding(num_users, 64)(user_input)\n",
        "user_embedding = tf.keras.layers.Reshape((1, 64))(user_embedding)\n",
        "user_lstm = tf.keras.layers.LSTM(32, activation='relu', return_sequences=True)(user_embedding)\n",
        "user_gru = tf.keras.layers.GRU(16, activation='relu', return_sequences=False)(user_lstm)\n",
        "dense_user_1 = tf.keras.layers.Dense(32, activation='relu')(user_gru)\n",
        "dense_user_2 = tf.keras.layers.Dense(16, activation='relu')(dense_user_1)\n",
        "\n",
        "# Product embedding and sequential layers\n",
        "product_embedding = tf.keras.layers.Embedding(num_products, 64)(product_input)\n",
        "product_embedding = tf.keras.layers.Reshape((1, 64))(product_embedding)\n",
        "product_lstm = tf.keras.layers.LSTM(32, activation='relu', return_sequences=True)(product_embedding)\n",
        "product_gru = tf.keras.layers.GRU(16, activation='relu', return_sequences=False)(product_lstm)\n",
        "dense_product_1 = tf.keras.layers.Dense(32, activation='relu')(product_gru)\n",
        "dense_product_2 = tf.keras.layers.Dense(16, activation='relu')(dense_product_1)\n",
        "\n",
        "# Merge embeddings and dense layers\n",
        "merged_embeddings = tf.keras.layers.Concatenate()([dense_user_2, dense_product_2])\n",
        "flatten_embeddings = tf.keras.layers.Flatten()(merged_embeddings)\n",
        "output = tf.keras.layers.Dense(1, activation='linear')(flatten_embeddings)\n",
        "\n",
        "# Create model\n",
        "model = tf.keras.models.Model(inputs=[user_input, product_input], outputs=output)\n",
        "\n",
        "# Summary\n",
        "model.summary()"
      ],
      "metadata": {
        "trusted": true,
        "id": "dThPlsp6UxL5"
      },
      "execution_count": null,
      "outputs": []
    },
    {
      "cell_type": "code",
      "source": [
        "from keras.utils.vis_utils import plot_model\n",
        "plot_model(model, to_file='model_plot_collaborative_based.png', show_shapes=True, show_layer_names=True)"
      ],
      "metadata": {
        "trusted": true,
        "id": "ebi9TVwDUxL5"
      },
      "execution_count": null,
      "outputs": []
    },
    {
      "cell_type": "code",
      "source": [
        "initial_learning_rate = 0.001\n",
        "lr_schedule = tf.keras.optimizers.schedules.ExponentialDecay(\n",
        "    initial_learning_rate,\n",
        "    decay_steps=100,\n",
        "    decay_rate=0.96,\n",
        "    staircase=True)\n",
        "\n",
        "adam = optimizers.Adam(learning_rate=lr_schedule)\n",
        "\n",
        "# rmsprop = tf.keras.optimizers.RMSprop(learning_rate=lr_schedule)\n",
        "# optimizer = keras.optimizers.SGD(learning_rate=lr_schedule, decay=1e-6)\n",
        "# optimizer = keras.optimizers.SGD(learning_rate=lr_schedule)\n",
        "\n",
        "loss = tf.keras.losses.MeanSquaredError()\n",
        "\n",
        "#Callback\n",
        "logdir = 'logs'\n",
        "tensorboard_callback = TensorBoard(log_dir=logdir)\n",
        "# checkpoint_callback = checkpoint_call()"
      ],
      "metadata": {
        "trusted": true,
        "id": "n0SQA77XUxL5"
      },
      "execution_count": null,
      "outputs": []
    },
    {
      "cell_type": "code",
      "source": [
        "model.compile(optimizer=adam, loss=loss)"
      ],
      "metadata": {
        "trusted": true,
        "id": "F3kw_dQNUxL6"
      },
      "execution_count": null,
      "outputs": []
    },
    {
      "cell_type": "code",
      "source": [
        "[train['user_index'], train['product_index']]"
      ],
      "metadata": {
        "trusted": true,
        "id": "_OqA8tq7UxL6"
      },
      "execution_count": null,
      "outputs": []
    },
    {
      "cell_type": "code",
      "source": [
        "hist = model.fit([train['user_index'], train['product_index']], train['interaction_score'],\n",
        "          validation_data = [[test['user_index'], test['product_index']], test['interaction_score']],\n",
        "          epochs=2, batch_size=512, verbose=1)"
      ],
      "metadata": {
        "trusted": true,
        "id": "H5LdftCGUxL6"
      },
      "execution_count": null,
      "outputs": []
    },
    {
      "cell_type": "code",
      "source": [
        "loss = model.evaluate([test['user_index'], test['product_index']], test['interaction_score'])\n",
        "print(f\"Mean Squared Error on test data: {loss}\")"
      ],
      "metadata": {
        "trusted": true,
        "id": "6J2MMJidUxL6"
      },
      "execution_count": null,
      "outputs": []
    },
    {
      "cell_type": "code",
      "source": [
        "import matplotlib.pyplot as plt\n",
        "\n",
        "plt.plot(hist.history['loss'])\n",
        "plt.plot(hist.history['val_loss'])\n",
        "\n",
        "plt.title('Model loss')\n",
        "plt.ylabel('Loss')\n",
        "plt.xlabel('Epoch')\n",
        "\n",
        "plt.legend(['Train', 'Validation'], loc='upper right')\n",
        "plt.savefig('loss.png')\n",
        "plt.show()"
      ],
      "metadata": {
        "trusted": true,
        "id": "tuz9KJTTUxL6"
      },
      "execution_count": null,
      "outputs": []
    },
    {
      "cell_type": "code",
      "source": [
        "train['user_index']"
      ],
      "metadata": {
        "trusted": true,
        "id": "4ffiiL6-UxL6"
      },
      "execution_count": null,
      "outputs": []
    },
    {
      "cell_type": "code",
      "source": [
        "train['product_index'].iloc[0:1]"
      ],
      "metadata": {
        "trusted": true,
        "id": "KMR3RW-zUxL7"
      },
      "execution_count": null,
      "outputs": []
    },
    {
      "cell_type": "code",
      "source": [
        "train['user_index'].iloc[0:1]"
      ],
      "metadata": {
        "trusted": true,
        "id": "RumDOMsxUxL7"
      },
      "execution_count": null,
      "outputs": []
    },
    {
      "cell_type": "code",
      "source": [
        "model.predict([train['user_index'].iloc[0:1],train['product_index'].iloc[0:1]])"
      ],
      "metadata": {
        "trusted": true,
        "id": "NaOIuJfdUxL7"
      },
      "execution_count": null,
      "outputs": []
    },
    {
      "cell_type": "code",
      "source": [],
      "metadata": {
        "id": "-SDlnkMPUxL7"
      },
      "execution_count": null,
      "outputs": []
    },
    {
      "cell_type": "markdown",
      "source": [
        "## 3.2. Content-based by Neural Network"
      ],
      "metadata": {
        "id": "9B7oPiAcUxL7"
      }
    },
    {
      "cell_type": "code",
      "source": [
        "def create_featureTable(interactionTable):\n",
        "    featureTable = merge_dataframe([interactionTable, userTable], on='user_id', suffixes=('','_user'))\n",
        "    featureTable = merge_dataframe([featureTable, productTable], on='product_id', suffixes=('_user','_product'))\n",
        "    featureTable.drop(columns=['first_date_user', 'last_date_user', 'first_date_product', 'last_date_product'], inplace=True)\n",
        "\n",
        "    return featureTable\n",
        "\n",
        "featureTable = create_featureTable(interactionTable)"
      ],
      "metadata": {
        "trusted": true,
        "id": "Zr0Oui7vUxL7"
      },
      "execution_count": null,
      "outputs": []
    },
    {
      "cell_type": "code",
      "source": [
        "train_name = f'{name}_train'\n",
        "#featureTable.to_csv(f'{input_path}\\\\clean\\\\{train_name}.csv')"
      ],
      "metadata": {
        "trusted": true,
        "id": "s5xiWLBQUxL7"
      },
      "execution_count": null,
      "outputs": []
    },
    {
      "cell_type": "code",
      "source": [
        "featureTable"
      ],
      "metadata": {
        "trusted": true,
        "id": "UT3O7FHlUxL7"
      },
      "execution_count": null,
      "outputs": []
    },
    {
      "cell_type": "code",
      "source": [
        "featureTable.columns"
      ],
      "metadata": {
        "trusted": true,
        "id": "eVi4ucsLUxL8"
      },
      "execution_count": null,
      "outputs": []
    },
    {
      "cell_type": "code",
      "source": [
        "# train test split\n",
        "train, test = train_test_split(featureTable, test_size=0.1, random_state=42)\n",
        "dev, test = train_test_split(test, test_size=0.5, random_state=42)\n",
        "\n",
        "# attributes\n",
        "attributes =['interaction_score', 'user_index', 'views_user', 'carts_user',\n",
        "            'remove_from_carts_user', 'purchases_user', 'avg_view_price',\n",
        "            'avg_purchase_price', 'avg_view_relative_price',\n",
        "            'avg_purchase_relative_price', 'distinct_view_product',\n",
        "            'distinct_cart_product', 'distinct_remove_product',\n",
        "            'distinct_purchase_product', 'cart_per_view_user',\n",
        "            'purchase_per_view_user', 'remove_per_cart_user',\n",
        "            'purchase_per_cart_user',\n",
        "            'product_index', 'category_id', 'avg_price', 'relative_price', 'views_product',\n",
        "            'carts_product', 'remove_from_carts_product', 'purchases_product',\n",
        "            'cart_per_view_product', 'purchase_per_view_product',\n",
        "            'remove_per_cart_product', 'purchase_per_cart_product']\n",
        "\n",
        "# user and product attributes\n",
        "user_attr = attributes[1:18]\n",
        "product_attr = attributes[18:]\n",
        "target = 'interaction_score'\n",
        "\n",
        "train"
      ],
      "metadata": {
        "trusted": true,
        "id": "tQIx1g1JUxL8"
      },
      "execution_count": null,
      "outputs": []
    },
    {
      "cell_type": "code",
      "source": [
        "user_size = len(user_attr)\n",
        "product_size = len(product_attr)\n",
        "print('User size: {}, product size: {}'.format(user_size, product_size))"
      ],
      "metadata": {
        "trusted": true,
        "id": "gZ7wfvuTUxL8"
      },
      "execution_count": null,
      "outputs": []
    },
    {
      "cell_type": "code",
      "source": [],
      "metadata": {
        "id": "A93mSMWwUxL8"
      },
      "execution_count": null,
      "outputs": []
    },
    {
      "cell_type": "code",
      "source": [
        "import tensorflow as tf\n",
        "from tensorflow.keras.utils import plot_model\n",
        "num_outputs = 32\n",
        "\n",
        "\n",
        "# Define the user input model\n",
        "input_user = tf.keras.layers.Input(shape=(user_size,))\n",
        "reshape_user = tf.keras.layers.Reshape((1, user_size))(input_user)  # Reshape to 3D for LSTM/GRU\n",
        "lstm_user = tf.keras.layers.LSTM(128, activation='relu', return_sequences=True)(reshape_user)\n",
        "gru_user = tf.keras.layers.GRU(64, activation='relu', return_sequences=False)(lstm_user)\n",
        "dense1_user = tf.keras.layers.Dense(256, activation='relu')(gru_user)\n",
        "dense2_user = tf.keras.layers.Dense(128, activation='relu')(dense1_user)\n",
        "output_user = tf.keras.layers.Dense(num_outputs, activation='linear')(dense2_user)\n",
        "\n",
        "vu = tf.linalg.l2_normalize(output_user, axis=1)\n",
        "\n",
        "# Define the product input model\n",
        "input_product = tf.keras.layers.Input(shape=(product_size,))\n",
        "reshape_product = tf.keras.layers.Reshape((1, product_size))(input_product)  # Reshape to 3D for LSTM/GRU\n",
        "lstm_product = tf.keras.layers.LSTM(128, activation='relu', return_sequences=True)(reshape_product)\n",
        "gru_product = tf.keras.layers.GRU(64, activation='relu', return_sequences=False)(lstm_product)\n",
        "dense1_product = tf.keras.layers.Dense(256, activation='relu')(gru_product)\n",
        "dense2_product = tf.keras.layers.Dense(128, activation='relu')(dense1_product)\n",
        "output_product = tf.keras.layers.Dense(num_outputs, activation='linear')(dense2_product)\n",
        "\n",
        "vm = tf.linalg.l2_normalize(output_product, axis=1)\n",
        "\n",
        "# Compute the dot product of the normalized outputs\n",
        "output = tf.keras.layers.Dot(axes=1)([vu, vm])\n",
        "\n",
        "# Create the model\n",
        "model = tf.keras.models.Model(inputs=[input_user, input_product], outputs=output)\n",
        "\n",
        "# Print model summary\n",
        "model.summary()"
      ],
      "metadata": {
        "trusted": true,
        "id": "H2kl8-GeUxL8"
      },
      "execution_count": null,
      "outputs": []
    },
    {
      "cell_type": "code",
      "source": [
        "# Plot the model\n",
        "plot_model(model, to_file='model_plot_content_based.png', show_shapes=True, show_layer_names=True)"
      ],
      "metadata": {
        "trusted": true,
        "id": "ZeuBSBRKUxL9"
      },
      "execution_count": null,
      "outputs": []
    },
    {
      "cell_type": "code",
      "source": [],
      "metadata": {
        "trusted": true,
        "id": "vdZ23gpBUxL9"
      },
      "execution_count": null,
      "outputs": []
    },
    {
      "cell_type": "code",
      "source": [
        "# # build model\n",
        "# def ContentBaseModel():\n",
        "\n",
        "#     num_outputs = 32\n",
        "#     tf.random.set_seed(1)\n",
        "\n",
        "#     user_NN = tf.keras.models.Sequential([\n",
        "#         tf.keras.layers.Reshape((1, user_size), input_shape=(user_size,)),  # Reshape to 3D for LSTM/GRU\n",
        "#         tf.keras.layers.LSTM(128, activation='relu', return_sequences=True),\n",
        "#         tf.keras.layers.GRU(64, activation='relu', return_sequences=False),\n",
        "#         tf.keras.layers.Dense(256, activation='relu'),\n",
        "#         tf.keras.layers.Dense(128, activation='relu'),\n",
        "#         tf.keras.layers.Dense(num_outputs, activation='linear')\n",
        "#     ])\n",
        "\n",
        "\n",
        "#     # Define the product model with LSTM and GRU layers\n",
        "#     product_NN = tf.keras.models.Sequential([\n",
        "#         tf.keras.layers.Reshape((1, product_size), input_shape=(product_size,)),  # Reshape to 3D for LSTM/GRU\n",
        "#         tf.keras.layers.LSTM(128, activation='relu', return_sequences=True),\n",
        "#         tf.keras.layers.GRU(64, activation='relu', return_sequences=False),\n",
        "#         tf.keras.layers.Dense(256, activation='relu'),\n",
        "#         tf.keras.layers.Dense(128, activation='relu'),\n",
        "#         tf.keras.layers.Dense(num_outputs, activation='linear')\n",
        "#     ])\n",
        "\n",
        "#     # create the user input and point to the base network\n",
        "#     input_user = tf.keras.layers.Input(shape=(user_size))\n",
        "#     vu = user_NN(input_user)\n",
        "#     vu = tf.linalg.l2_normalize(vu, axis=1)\n",
        "\n",
        "#     # create the item input and point to the base network\n",
        "#     input_item = tf.keras.layers.Input(shape=(product_size))\n",
        "#     vm = product_NN(input_item)\n",
        "#     vm = tf.linalg.l2_normalize(vm, axis=1)\n",
        "\n",
        "#     # compute the dot product of the two vectors vu and vm\n",
        "#     output = tf.keras.layers.Dot(axes=1)([vu, vm])\n",
        "\n",
        "#     model = tf.keras.models.Model(inputs=[input_user, input_item], outputs=output)\n",
        "\n",
        "#     return model\n",
        "\n",
        "# model = ContentBaseModel()\n",
        "# model.summary()"
      ],
      "metadata": {
        "trusted": true,
        "id": "iBFNFm2EUxL9"
      },
      "execution_count": null,
      "outputs": []
    },
    {
      "cell_type": "code",
      "source": [],
      "metadata": {
        "id": "TEUa3uleUxL9"
      },
      "execution_count": null,
      "outputs": []
    },
    {
      "cell_type": "code",
      "source": [
        "initial_learning_rate = 0.001\n",
        "lr_schedule = tf.keras.optimizers.schedules.ExponentialDecay(\n",
        "    initial_learning_rate,\n",
        "    decay_steps=100,\n",
        "    decay_rate=0.96,\n",
        "    staircase=True)\n",
        "\n",
        "# adam = optimizers.Adam(learning_rate=0.001,, decay=1e-6)\n",
        "adam = optimizers.Adam(learning_rate=0.001)\n",
        "# rmsprop = tf.keras.optimizers.RMSprop(learning_rate=lr_schedule)\n",
        "# sgd = keras.optimizers.SGD(learning_rate=lr_schedule)\n",
        "\n",
        "loss = tf.keras.losses.MeanSquaredError()\n",
        "\n",
        "#Callback\n",
        "# logdir = 'logs'\n",
        "# tensorboard_callback = TensorBoard(log_dir=logdir)\n",
        "# checkpoint_callback = checkpoint_call()"
      ],
      "metadata": {
        "trusted": true,
        "id": "4N-41mp2UxL9"
      },
      "execution_count": null,
      "outputs": []
    },
    {
      "cell_type": "code",
      "source": [
        "model.compile(optimizer=adam,loss=loss)"
      ],
      "metadata": {
        "trusted": true,
        "id": "M2cPsuaLUxL9"
      },
      "execution_count": null,
      "outputs": []
    },
    {
      "cell_type": "code",
      "source": [
        "train[user_attr]"
      ],
      "metadata": {
        "trusted": true,
        "id": "Z8_cbspFUxL9"
      },
      "execution_count": null,
      "outputs": []
    },
    {
      "cell_type": "code",
      "source": [
        "train[product_attr]"
      ],
      "metadata": {
        "trusted": true,
        "id": "J-Hz7cawUxL9"
      },
      "execution_count": null,
      "outputs": []
    },
    {
      "cell_type": "code",
      "source": [
        "hist = model.fit([train[user_attr], train[product_attr]], train[target],\n",
        "          validation_data = [[dev[user_attr], dev[product_attr]], dev[target]],\n",
        "          epochs=3, batch_size=512, verbose=1)"
      ],
      "metadata": {
        "trusted": true,
        "id": "PWXPhrM9UxL-"
      },
      "execution_count": null,
      "outputs": []
    },
    {
      "cell_type": "code",
      "source": [
        "loss = model.evaluate([test[user_attr], test[product_attr]], test[target])\n",
        "print(f\"Mean Squared Error on test data: {loss}\")"
      ],
      "metadata": {
        "trusted": true,
        "id": "M82GaBh-UxL-"
      },
      "execution_count": null,
      "outputs": []
    },
    {
      "cell_type": "code",
      "source": [],
      "metadata": {
        "trusted": true,
        "id": "coxVwtmCUxL-"
      },
      "execution_count": null,
      "outputs": []
    },
    {
      "cell_type": "markdown",
      "source": [
        "## Model pipeline"
      ],
      "metadata": {
        "id": "SesSRPcGUxL-"
      }
    },
    {
      "cell_type": "code",
      "source": [
        "import matplotlib.pyplot as plt\n",
        "\n",
        "plt.plot(hist.history['loss'])\n",
        "plt.plot(hist.history['val_loss'])\n",
        "\n",
        "plt.title('Model loss')\n",
        "plt.ylabel('Loss')\n",
        "plt.xlabel('Epoch')\n",
        "\n",
        "plt.legend(['Train', 'Validation'], loc='upper right')\n",
        "plt.savefig('loss.png')\n",
        "plt.show()"
      ],
      "metadata": {
        "trusted": true,
        "id": "1QpFPX-CUxL-"
      },
      "execution_count": null,
      "outputs": []
    },
    {
      "cell_type": "code",
      "source": [],
      "metadata": {
        "trusted": true,
        "id": "oMwgmO7OUxL-"
      },
      "execution_count": null,
      "outputs": []
    },
    {
      "cell_type": "code",
      "source": [
        "def evaluate_model(y_true, y_pred):\n",
        "    mae = sklearn.metrics.mean_absolute_error(y_true, y_pred)\n",
        "    mse = sklearn.metrics.mean_squared_error(y_true, y_pred)\n",
        "    rmse = np.sqrt(sklearn.metrics.mean_squared_error(y_true, y_pred))\n",
        "    return mae, rmse"
      ],
      "metadata": {
        "trusted": true,
        "id": "nmuAwof4UxL_"
      },
      "execution_count": null,
      "outputs": []
    },
    {
      "cell_type": "code",
      "source": [
        "l_predict=[]\n",
        "for i in model.predict([test[user_attr], test[product_attr]]):\n",
        "    l_predict.append(i[0])"
      ],
      "metadata": {
        "trusted": true,
        "id": "4wQuxCt-UxL_"
      },
      "execution_count": null,
      "outputs": []
    },
    {
      "cell_type": "code",
      "source": [
        "# print(l_predict)"
      ],
      "metadata": {
        "trusted": true,
        "id": "-Ty_fWhSUxL_"
      },
      "execution_count": null,
      "outputs": []
    },
    {
      "cell_type": "code",
      "source": [
        "evaluate_model(test[target],l_predict)"
      ],
      "metadata": {
        "trusted": true,
        "id": "OzH09e2uUxL_"
      },
      "execution_count": null,
      "outputs": []
    },
    {
      "cell_type": "code",
      "source": [],
      "metadata": {
        "trusted": true,
        "id": "mtfzdt2DUxL_"
      },
      "execution_count": null,
      "outputs": []
    },
    {
      "cell_type": "code",
      "source": [],
      "metadata": {
        "trusted": true,
        "id": "jrbDzpSHUxL_"
      },
      "execution_count": null,
      "outputs": []
    },
    {
      "cell_type": "code",
      "source": [],
      "metadata": {
        "id": "YPmmc98sUxL_"
      },
      "execution_count": null,
      "outputs": []
    },
    {
      "cell_type": "code",
      "source": [],
      "metadata": {
        "id": "9rsDQr0GUxMA"
      },
      "execution_count": null,
      "outputs": []
    },
    {
      "cell_type": "code",
      "source": [],
      "metadata": {
        "id": "9t0TL6sNUxMA"
      },
      "execution_count": null,
      "outputs": []
    },
    {
      "cell_type": "code",
      "source": [],
      "metadata": {
        "id": "eOCBnSjTUxMA"
      },
      "execution_count": null,
      "outputs": []
    },
    {
      "cell_type": "code",
      "source": [],
      "metadata": {
        "id": "GWBf3XvDUxMA"
      },
      "execution_count": null,
      "outputs": []
    },
    {
      "cell_type": "code",
      "source": [],
      "metadata": {
        "id": "6xt9f1fxUxMA"
      },
      "execution_count": null,
      "outputs": []
    },
    {
      "cell_type": "code",
      "source": [],
      "metadata": {
        "id": "dTUilIavUxMA"
      },
      "execution_count": null,
      "outputs": []
    },
    {
      "cell_type": "code",
      "source": [],
      "metadata": {
        "id": "JJGPvZoDUxMA"
      },
      "execution_count": null,
      "outputs": []
    },
    {
      "cell_type": "code",
      "source": [],
      "metadata": {
        "id": "nt5pKje0UxMA"
      },
      "execution_count": null,
      "outputs": []
    },
    {
      "cell_type": "code",
      "source": [],
      "metadata": {
        "id": "zB00pgt7UxMA"
      },
      "execution_count": null,
      "outputs": []
    },
    {
      "cell_type": "code",
      "source": [],
      "metadata": {
        "id": "Pdm6Fg64UxMA"
      },
      "execution_count": null,
      "outputs": []
    },
    {
      "cell_type": "code",
      "source": [],
      "metadata": {
        "id": "SJSqgZldUxMB"
      },
      "execution_count": null,
      "outputs": []
    },
    {
      "cell_type": "code",
      "source": [],
      "metadata": {
        "id": "J3IBhCvkUxMB"
      },
      "execution_count": null,
      "outputs": []
    },
    {
      "cell_type": "code",
      "source": [],
      "metadata": {
        "id": "kZTicxqwUxMB"
      },
      "execution_count": null,
      "outputs": []
    },
    {
      "cell_type": "code",
      "source": [],
      "metadata": {
        "id": "N6uA4GkEUxMB"
      },
      "execution_count": null,
      "outputs": []
    },
    {
      "cell_type": "code",
      "source": [],
      "metadata": {
        "id": "hxIsJ_vCUxMB"
      },
      "execution_count": null,
      "outputs": []
    },
    {
      "cell_type": "code",
      "source": [],
      "metadata": {
        "id": "oLmJrOqvUxMB"
      },
      "execution_count": null,
      "outputs": []
    },
    {
      "cell_type": "code",
      "source": [],
      "metadata": {
        "id": "lTx2HdJYUxMB"
      },
      "execution_count": null,
      "outputs": []
    }
  ]
}